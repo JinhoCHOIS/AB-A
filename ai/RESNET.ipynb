{
 "cells": [
  {
   "cell_type": "code",
   "execution_count": 1,
   "metadata": {},
   "outputs": [],
   "source": [
    "import tensorflow as tf\n",
    "import numpy as np\n",
    "from tensorflow.keras.datasets import cifar100"
   ]
  },
  {
   "cell_type": "code",
   "execution_count": 2,
   "metadata": {},
   "outputs": [],
   "source": [
    "(train_data, train_label), (test_data, test_label) = cifar100.load_data()"
   ]
  },
  {
   "cell_type": "code",
   "execution_count": 3,
   "metadata": {},
   "outputs": [
    {
     "name": "stdout",
     "output_type": "stream",
     "text": [
      "(50000, 32, 32, 3)\n",
      "(50000, 1)\n",
      "(10000, 32, 32, 3)\n",
      "(10000, 1)\n"
     ]
    }
   ],
   "source": [
    "# size of MNIST\n",
    "print(train_data.shape)\n",
    "print(train_label.shape)\n",
    "print(test_data.shape)\n",
    "print(test_label.shape)\n"
   ]
  },
  {
   "cell_type": "code",
   "execution_count": 4,
   "metadata": {},
   "outputs": [],
   "source": [
    "import tensorflow.contrib.slim as slim\n",
    "import os\n",
    "import tensorflow.contrib as tf_contrib\n",
    "import random\n",
    "from scipy import misc\n",
    "%matplotlib inline\n",
    "import matplotlib.pyplot as plt\n",
    "\n",
    "train_data = (train_data / 255.0)\n",
    "test_data = (test_data / 255.0)"
   ]
  },
  {
   "cell_type": "code",
   "execution_count": 5,
   "metadata": {},
   "outputs": [],
   "source": [
    "train_label = tf.squeeze(tf.one_hot(train_label, 100),axis=1)\n",
    "test_label = tf.squeeze(tf.one_hot(test_label, 100),axis=1)"
   ]
  },
  {
   "cell_type": "code",
   "execution_count": 6,
   "metadata": {},
   "outputs": [
    {
     "name": "stdout",
     "output_type": "stream",
     "text": [
      "(50000, 100)\n",
      "(10000, 100)\n"
     ]
    }
   ],
   "source": [
    "print(train_label.shape)\n",
    "print(test_label.shape)"
   ]
  },
  {
   "cell_type": "code",
   "execution_count": 7,
   "metadata": {},
   "outputs": [
    {
     "data": {
      "image/png": "[encoded data removed]",
      "text/plain": [
       "<Figure size 432x288 with 4 Axes>"
      ]
     },
     "metadata": {
      "needs_background": "light"
     },
     "output_type": "display_data"
    }
   ],
   "source": [
    "# show data\n",
    "_, ((ax1, ax2),(ax3, ax4)) = plt.subplots(2, 2)\n",
    "sample_data = train_data[49]\n",
    "ax1.imshow(sample_data);\n",
    "ax2.imshow(sample_data[:,:,0]);\n",
    "ax3.imshow(sample_data[:,:,1]);\n",
    "ax4.imshow(sample_data[:,:,2]);"
   ]
  },
  {
   "cell_type": "code",
   "execution_count": 8,
   "metadata": {},
   "outputs": [],
   "source": [
    "def model(X, by):\n",
    "    weight_init = tf.contrib.layers.xavier_initializer()\n",
    "    weight_regularizer = tf_contrib.layers.l2_regularizer(0.009)\n",
    "    with tf.variable_scope(\"first\"):\n",
    "        \n",
    "        outs = tf.layers.conv2d(X, 32, 3, padding = \"same\")\n",
    "        outs = tf.layers.batch_normalization(outs, momentum=0.99, epsilon=1e-2)\n",
    "        outs = tf.nn.relu(outs)\n",
    "        shortcut = outs\n",
    "        \n",
    "        shortcut = tf.layers.conv2d(shortcut, 32, 1, strides = (1, 1), padding = \"same\")\n",
    "        outs = tf.layers.conv2d(outs, 32, 3, padding = \"same\")\n",
    "        outs = tf.layers.batch_normalization(outs, momentum=0.99, epsilon=1e-2)\n",
    "        outs = tf.nn.relu(outs)\n",
    "        outs = tf.layers.conv2d(outs, 32, 3, padding = \"same\")\n",
    "        outs += shortcut\n",
    "        shortcut = outs\n",
    "        \n",
    "        shortcut = tf.layers.conv2d(shortcut, 64, 1, strides = (2, 2), padding = \"same\")\n",
    "        outs = tf.layers.conv2d(outs, 64, 3, strides = (2, 2), padding = \"same\")\n",
    "        outs = tf.layers.batch_normalization(outs, momentum=0.99, epsilon=1e-3)\n",
    "        outs = tf.nn.relu(outs)\n",
    "        outs = tf.layers.conv2d(outs, 64, 3, strides = (1, 1), padding = \"same\")\n",
    "        outs += shortcut\n",
    "        shortcut = outs\n",
    "        \n",
    "        outs = tf.layers.batch_normalization(outs, momentum=0.99, epsilon=1e-3)\n",
    "        outs = tf.nn.relu(outs)\n",
    "        outs = tf.layers.conv2d(outs, 64, 3, strides = (1, 1), padding = \"same\")\n",
    "        outs = tf.layers.batch_normalization(outs, momentum=0.99, epsilon=1e-3)\n",
    "        outs = tf.nn.relu(outs)\n",
    "        outs = tf.layers.conv2d(outs, 64, 3, strides = (1, 1), padding = \"same\")\n",
    "        outs += shortcut\n",
    "        outs = tf.layers.batch_normalization(outs, momentum=0.99, epsilon=1e-3)\n",
    "        outs = tf.nn.relu(outs)\n",
    "        shortcut = outs\n",
    "        \n",
    "        shortcut = tf.layers.conv2d(shortcut, 128, 1, strides = (2, 2), padding = \"same\")\n",
    "        outs = tf.layers.conv2d(outs, 128, 3, strides = (2, 2), padding = \"same\")\n",
    "        outs = tf.layers.batch_normalization(outs, momentum=0.99, epsilon=1e-3)\n",
    "        outs = tf.nn.relu(outs)\n",
    "        outs = tf.layers.conv2d(outs, 128, 3, strides = (1, 1), padding = \"same\")\n",
    "        outs += shortcut\n",
    "\n",
    "        outs = tf.layers.batch_normalization(outs, momentum=0.99, epsilon=1e-3)\n",
    "        outs = tf.nn.relu(outs)\n",
    "        \n",
    "        \n",
    "    outs = tf.layers.average_pooling2d(outs, 8, 1, padding = \"same\")\n",
    "    #outs = tf.reduce_mean(outs, axis=[1, 2], keepdims=True)\n",
    "\n",
    "    outs = tf.reshape(outs, (-1, outs.shape[1] * outs.shape[2] * outs.shape[3]))\n",
    "\n",
    "    outs = tf.layers.dense(outs, 100, kernel_initializer=weight_init, kernel_regularizer=weight_regularizer, use_bias=True)\n",
    "   \n",
    "    loss = tf.nn.softmax_cross_entropy_with_logits_v2(labels = by, logits =outs)\n",
    "    loss = tf.reduce_mean(loss)\n",
    "    \n",
    "    opt = tf.train.MomentumOptimizer(0.009, momentum=0.99).minimize(loss)\n",
    "    preds = tf.equal(tf.argmax(tf.nn.softmax(outs), 1), tf.argmax(by, 1))\n",
    "    acc = tf.reduce_mean(tf.cast(preds, tf.float32))\n",
    "    \n",
    "    return {\n",
    "        \"loss\" : loss,\n",
    "        \"opt\" : opt,\n",
    "        \"preds\" : preds,\n",
    "        \"acc\" : acc\n",
    "    }"
   ]
  },
  {
   "cell_type": "code",
   "execution_count": 9,
   "metadata": {},
   "outputs": [],
   "source": [
    "X = tf.placeholder(tf.float32, shape = [None, 32, 32, 3])\n",
    "by = tf.placeholder(tf.float32, shape = [None, 100])\n",
    "\n",
    "ours = model(X, by)\n",
    "\n",
    "init = tf.global_variables_initializer()"
   ]
  },
  {
   "cell_type": "code",
   "execution_count": 10,
   "metadata": {},
   "outputs": [],
   "source": [
    "num_epochs = 15\n",
    "batch_size = 512\n",
    "num_display = 50\n",
    "num_samples = 51200"
   ]
  },
  {
   "cell_type": "code",
   "execution_count": 11,
   "metadata": {
    "scrolled": false
   },
   "outputs": [
    {
     "name": "stdout",
     "output_type": "stream",
     "text": [
      "Curent iteration 1\n",
      "loss 4.6078 acc 0.0078\n",
      "loss 4.5577 acc 0.0176\n",
      "Curent iteration 2\n",
      "loss 4.3437 acc 0.0352\n",
      "loss 4.1474 acc 0.0684\n",
      "Curent iteration 3\n",
      "loss 3.9562 acc 0.0801\n",
      "loss 3.8262 acc 0.1113\n",
      "Curent iteration 4\n",
      "loss 3.7873 acc 0.1309\n",
      "loss 3.5820 acc 0.1387\n",
      "Curent iteration 5\n",
      "loss 3.5476 acc 0.1660\n",
      "loss 3.3040 acc 0.2363\n",
      "Curent iteration 6\n",
      "loss 3.2406 acc 0.2324\n",
      "loss 3.1227 acc 0.2539\n",
      "Curent iteration 7\n",
      "loss 3.1303 acc 0.2637\n",
      "loss 2.9267 acc 0.3105\n",
      "Curent iteration 8\n",
      "loss 2.9811 acc 0.2676\n",
      "loss 2.7948 acc 0.3066\n",
      "Curent iteration 9\n",
      "loss 2.9232 acc 0.2852\n",
      "loss 2.7441 acc 0.3145\n",
      "Curent iteration 10\n",
      "loss 2.6969 acc 0.3359\n",
      "loss 2.5334 acc 0.3789\n",
      "Curent iteration 11\n",
      "loss 2.5691 acc 0.3652\n",
      "loss 2.5024 acc 0.3418\n",
      "Curent iteration 12\n",
      "loss 2.4923 acc 0.3770\n",
      "loss 2.4146 acc 0.3887\n",
      "Curent iteration 13\n",
      "loss 2.3803 acc 0.3867\n",
      "loss 2.3301 acc 0.4141\n",
      "Curent iteration 14\n",
      "loss 2.3344 acc 0.3984\n",
      "loss 2.2192 acc 0.4219\n",
      "Curent iteration 15\n",
      "loss 2.1844 acc 0.4297\n",
      "loss 2.1168 acc 0.4551\n",
      "===============================\n",
      "Test: less 2.5119 acc 0.3711\n"
     ]
    }
   ],
   "source": [
    "with tf.Session() as sess:\n",
    "    sess.run(init)\n",
    "    for ind_epoch in range(0, num_epochs):\n",
    "        print(\"Curent iteration {}\".format(ind_epoch +1))\n",
    "        for ind_ in range(0, int(num_samples/batch_size)):\n",
    "            batch_X = train_data[ind_*batch_size:(ind_+1)*batch_size]\n",
    "            batch_by = train_label.eval()[ind_*batch_size:(ind_+1)*batch_size]\n",
    "            \n",
    "            _, cur_loss, cur_acc = sess.run([ours[\"opt\"], ours[\"loss\"], ours[\"acc\"]], feed_dict = {X : batch_X, by: batch_by})\n",
    "            if ind_ % num_display == 0:\n",
    "                print(\"loss {0:.4f} acc {1:.4f}\".format(cur_loss, cur_acc))\n",
    "    cur_acc_all = 0.0\n",
    "    cur_loss_all = 0.0\n",
    "    for ind_ in range(0 , 10):\n",
    "        cur_loss, cur_acc = sess.run([ours[\"loss\"], ours[\"acc\"]], feed_dict = {X : test_data[ind_ * 1000:(ind_+1) *1000], by : test_label.eval()[ind_ * 1000: (ind_ +1) *1000]})\n",
    "        cur_acc_all += cur_acc\n",
    "        cur_loss_all += cur_loss\n",
    "    print('===============================')\n",
    "    print(\"Test: less {0:.4f} acc {1:.4f}\".format(cur_loss_all/ 10.0, cur_acc_all/ 10.0))      \n",
    "                "
   ]
  },
  {
   "cell_type": "code",
   "execution_count": null,
   "metadata": {},
   "outputs": [],
   "source": []
  }
 ],
 "metadata": {
  "kernelspec": {
   "display_name": "Python 3",
   "language": "python",
   "name": "python3"
  },
  "language_info": {
   "codemirror_mode": {
    "name": "ipython",
    "version": 3
   },
   "file_extension": ".py",
   "mimetype": "text/x-python",
   "name": "python",
   "nbconvert_exporter": "python",
   "pygments_lexer": "ipython3",
   "version": "3.6.8"
  }
 },
 "nbformat": 4,
 "nbformat_minor": 2
}
