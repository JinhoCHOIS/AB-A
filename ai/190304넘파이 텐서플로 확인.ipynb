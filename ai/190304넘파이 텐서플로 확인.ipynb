{
 "cells": [
  {
   "cell_type": "markdown",
   "metadata": {},
   "source": [
    "# conda tensoflow 설치"
   ]
  },
  {
   "cell_type": "code",
   "execution_count": null,
   "metadata": {},
   "outputs": [],
   "source": [
    "# conda deactivate\n",
    "\n",
    "# conda create --name tf tensorflow-gpu\n",
    "# conda activate tf\n",
    "# conda install jupyter\n",
    "# jupyter notebook"
   ]
  },
  {
   "cell_type": "code",
   "execution_count": 1,
   "metadata": {},
   "outputs": [],
   "source": [
    "import numpy as np\n",
    "import tensorflow as tf"
   ]
  },
  {
   "cell_type": "code",
   "execution_count": 3,
   "metadata": {},
   "outputs": [],
   "source": [
    "# conda list # gpu 설치"
   ]
  },
  {
   "cell_type": "markdown",
   "metadata": {},
   "source": [
    "# numpy shape : (4,) -1차원 원소 4개 , (2,3)- 2차원 axis0=2, axis1=3, (4,3,2)"
   ]
  },
  {
   "cell_type": "code",
   "execution_count": 6,
   "metadata": {},
   "outputs": [],
   "source": [
    "a = np.array([\n",
    "    [2.1, 3.1, 3.9],\n",
    "    [3.2, 4.5, 3.1]\n",
    "])"
   ]
  },
  {
   "cell_type": "code",
   "execution_count": 7,
   "metadata": {},
   "outputs": [
    {
     "name": "stdout",
     "output_type": "stream",
     "text": [
      "[[2.1 3.1 3.9]\n",
      " [3.2 4.5 3.1]]\n",
      "(2, 3)\n"
     ]
    }
   ],
   "source": [
    "print(a)\n",
    "print(a.shape)"
   ]
  },
  {
   "cell_type": "code",
   "execution_count": 8,
   "metadata": {},
   "outputs": [
    {
     "data": {
      "text/plain": [
       "array([2.65, 3.8 , 3.5 ])"
      ]
     },
     "execution_count": 8,
     "metadata": {},
     "output_type": "execute_result"
    }
   ],
   "source": [
    "np.mean(a, axis=0)"
   ]
  },
  {
   "cell_type": "code",
   "execution_count": 9,
   "metadata": {},
   "outputs": [
    {
     "data": {
      "text/plain": [
       "array([3.03333333, 3.6       ])"
      ]
     },
     "execution_count": 9,
     "metadata": {},
     "output_type": "execute_result"
    }
   ],
   "source": [
    "np.mean(a, axis=1)"
   ]
  },
  {
   "cell_type": "code",
   "execution_count": 10,
   "metadata": {},
   "outputs": [
    {
     "data": {
      "text/plain": [
       "array([[5.1, 6.1, 6.9],\n",
       "       [6.2, 7.5, 6.1]])"
      ]
     },
     "execution_count": 10,
     "metadata": {},
     "output_type": "execute_result"
    }
   ],
   "source": [
    "a+3"
   ]
  },
  {
   "cell_type": "markdown",
   "metadata": {},
   "source": [
    "# numpy에서 data type, axis에 대해 restrict"
   ]
  },
  {
   "cell_type": "markdown",
   "metadata": {},
   "source": [
    "# tensor : data structre, data array, generalization"
   ]
  },
  {
   "cell_type": "code",
   "execution_count": null,
   "metadata": {},
   "outputs": [],
   "source": [
    "# data :\n",
    "\n",
    "# features : x1^2, x1*x2, sin(x) 같은 축\n",
    "\n",
    "# layers: \n",
    "    \n",
    "# epoch : 메모리에 다 안올라가서, 데이터로 다 돌아가게 하는것. 1회 시도\n",
    "#         미니배치 사이즈를 얼마나 올릴 수 있냐?\n",
    "#         배치사이즈 : 보통 이진수로 표기 gpu 코어가 2진수에 맞춰서 들어가야 해서\n",
    "        \n",
    "            \n",
    "# training loss:0으로 수렴해야\n",
    "    \n",
    "# test loss:\n",
    "    \n",
    "# learning rate:\n",
    "# activation:\n",
    "# regularization:"
   ]
  },
  {
   "cell_type": "code",
   "execution_count": null,
   "metadata": {},
   "outputs": [],
   "source": [
    "# api 자주 참조"
   ]
  },
  {
   "cell_type": "code",
   "execution_count": null,
   "metadata": {},
   "outputs": [],
   "source": [
    "# 그래프 프레임 워크,\n",
    "\n",
    "# 그래프를 그리는 것과 그래프를 실제로 돌리는 것은 별개 (tensor가 흐르게)\n"
   ]
  },
  {
   "cell_type": "code",
   "execution_count": 31,
   "metadata": {},
   "outputs": [
    {
     "name": "stdout",
     "output_type": "stream",
     "text": [
      "Tensor(\"const_15:0\", shape=(), dtype=float32)\n",
      "<tf.Variable 'Variable_3:0' shape=() dtype=float32_ref>\n"
     ]
    }
   ],
   "source": [
    "import tensorflow as tf\n",
    "\n",
    "a=tf.constant(3, dtype=tf.float32, name='const') # a라는 변수에 저장돼있고 그래프를 그림\n",
    "b=tf.Variable(0, dtype=tf.float32)\n",
    "# c=a+b\n",
    "# b=a+b\n",
    "c=tf.assign(b, a+b) #라는 함수를 사용해야 함 원래 의도는 b=a+b\n",
    "print(a)\n",
    "print(b)\n",
    "# print(c)\n",
    "\n",
    "init = tf.global_variables_initializer() #변수 초기화 필요\n",
    "\n",
    "# b= a+b 같은 식으로 활용 하려고\n",
    "\n",
    "\n",
    "# with tf.name_scope('abc'):\n",
    "#     a=tf.constant(3, dtype=tf.float32, name='const') # a라는 변수에 저장돼있고 그래프를 그림\n",
    "# print(a)\n",
    "# b=tf.constant(3)\n",
    "# print(b)\n",
    "# c=tf.constant(3, dtype=tf.float32) #같은 이름을 가진 tensor를 만들지 않으려고 1씩 증가\n",
    "# print(c)\n",
    "\n",
    "#값이 아직 없음, 위에서는 아무 것도 하지 않음"
   ]
  },
  {
   "cell_type": "code",
   "execution_count": null,
   "metadata": {},
   "outputs": [],
   "source": [
    "# tf.get_variable('Const') #변수 이름으로 부를 때"
   ]
  },
  {
   "cell_type": "code",
   "execution_count": 17,
   "metadata": {},
   "outputs": [
    {
     "name": "stdout",
     "output_type": "stream",
     "text": [
      "3.0\n"
     ]
    }
   ],
   "source": [
    "with tf.Session() as sess:\n",
    "    print(sess.run(a))\n",
    "#a를 실제로 run해서 값을 나타냄"
   ]
  },
  {
   "cell_type": "code",
   "execution_count": 23,
   "metadata": {},
   "outputs": [
    {
     "name": "stdout",
     "output_type": "stream",
     "text": [
      "Tensor(\"add_3:0\", shape=(), dtype=float32)\n"
     ]
    }
   ],
   "source": [
    "with tf.Session() as sess:\n",
    "    sess.run(init)\n",
    "    print(a+b) #아무 것도 없는 tensor가 출력 됨\n",
    "#     print(sess.run(a+b)) # a+b는 문제 있는 텐서플로 코딩\n",
    "#그래프를 그리는 행위를 세션 안에서 하면 안됨\n",
    "#a+b라는 것도 그래프를 그림"
   ]
  },
  {
   "cell_type": "code",
   "execution_count": 25,
   "metadata": {},
   "outputs": [
    {
     "name": "stdout",
     "output_type": "stream",
     "text": [
      "3.0\n"
     ]
    }
   ],
   "source": [
    "with tf.Session() as sess:\n",
    "    sess.run(init)\n",
    "    print(sess.run(c)) \n",
    "    \n",
    "#c=a+b를 미리 선언하고, c를 run해야 맞는 코딩\n"
   ]
  },
  {
   "cell_type": "code",
   "execution_count": 33,
   "metadata": {},
   "outputs": [
    {
     "name": "stdout",
     "output_type": "stream",
     "text": [
      "0.0\n",
      "0.0\n"
     ]
    }
   ],
   "source": [
    "with tf.Session() as sess:\n",
    "    sess.run(init)\n",
    "    print(sess.run(b))\n",
    "    print(sess.run(b))"
   ]
  },
  {
   "cell_type": "code",
   "execution_count": 32,
   "metadata": {},
   "outputs": [
    {
     "name": "stdout",
     "output_type": "stream",
     "text": [
      "3.0\n",
      "6.0\n"
     ]
    }
   ],
   "source": [
    "with tf.Session() as sess:\n",
    "    sess.run(init)\n",
    "    print(sess.run(c))\n",
    "    print(sess.run(c))"
   ]
  },
  {
   "cell_type": "markdown",
   "metadata": {},
   "source": [
    "# Place Holder"
   ]
  },
  {
   "cell_type": "code",
   "execution_count": 54,
   "metadata": {},
   "outputs": [],
   "source": [
    "np.random.seed(42) #보통은 seed 고정, 재현을 위해서\n",
    "x = tf.placeholder(tf.float32, shape=(), name='x')\n",
    "y = tf.placeholder(tf.float32, shape=(), name='y')\n",
    "w = tf.Variable(np.random.randn(), dtype=tf.float32)\n",
    "\n",
    "a = tf.assign(w, w + x + y)\n",
    "\n",
    "init = tf.global_variables_initializer()"
   ]
  },
  {
   "cell_type": "code",
   "execution_count": 55,
   "metadata": {},
   "outputs": [
    {
     "name": "stdout",
     "output_type": "stream",
     "text": [
      "0.49671414\n",
      "3.496714\n",
      "6.496714\n",
      "9.496714\n",
      "12.496714\n",
      "15.496714\n",
      "18.496714\n",
      "21.496714\n",
      "24.496714\n",
      "27.496714\n",
      "30.496714\n"
     ]
    }
   ],
   "source": [
    "with tf.Session() as sess:\n",
    "    sess.run(init)\n",
    "    \n",
    "    for _ in range(0, 10):\n",
    "        print(sess.run(w))\n",
    "        sess.run(a, feed_dict={x:1.0, y:2.0})\n",
    "    print(sess.run(w))"
   ]
  },
  {
   "cell_type": "code",
   "execution_count": null,
   "metadata": {},
   "outputs": [],
   "source": [
    "# Placeholder\n",
    "# 그래프로 텐서를 입력하는 객체\n",
    "# 학습하는 과정에서 값을 입력"
   ]
  },
  {
   "cell_type": "code",
   "execution_count": null,
   "metadata": {},
   "outputs": [],
   "source": [
    "# variable\n",
    "# 처음 초기화하고 그래프 연산에 의해서 값이 바뀌는 객체"
   ]
  },
  {
   "cell_type": "code",
   "execution_count": null,
   "metadata": {},
   "outputs": [],
   "source": []
  }
 ],
 "metadata": {
  "kernelspec": {
   "display_name": "Python 3",
   "language": "python",
   "name": "python3"
  },
  "language_info": {
   "codemirror_mode": {
    "name": "ipython",
    "version": 3
   },
   "file_extension": ".py",
   "mimetype": "text/x-python",
   "name": "python",
   "nbconvert_exporter": "python",
   "pygments_lexer": "ipython3",
   "version": "3.6.8"
  }
 },
 "nbformat": 4,
 "nbformat_minor": 2
}
