{
 "cells": [
  {
   "cell_type": "code",
   "execution_count": 1,
   "metadata": {},
   "outputs": [],
   "source": [
    "import tensorflow as tf\n",
    "import numpy as np"
   ]
  },
  {
   "cell_type": "markdown",
   "metadata": {},
   "source": [
    "input Data init"
   ]
  },
  {
   "cell_type": "code",
   "execution_count": 2,
   "metadata": {},
   "outputs": [],
   "source": [
    "#make hello example\n",
    "#hell -> ello\n",
    "char_set = ['h', 'e', 'l', 'o']\n",
    "\n",
    "x_one_hot = [[\n",
    "    [1, 0, 0, 0], #h 0\n",
    "    [0, 1, 0, 0], #e 1\n",
    "    [0, 0, 1, 0], #l 2\n",
    "    [0, 0, 1, 0], #l 2\n",
    "]]\n",
    "\n",
    "y_data = [[1, 2, 2, 3]]"
   ]
  },
  {
   "cell_type": "markdown",
   "metadata": {},
   "source": [
    "initialize LSTM Parameters"
   ]
  },
  {
   "cell_type": "code",
   "execution_count": 3,
   "metadata": {},
   "outputs": [],
   "source": [
    "num_classes = 4\n",
    "input_dim = 4\n",
    "hidden_size = 12 #output from LSTM\n",
    "batch_size = 1 #one sentence\n",
    "sequence_length = 4\n",
    "learning_rate = 0.1"
   ]
  },
  {
   "cell_type": "markdown",
   "metadata": {},
   "source": [
    "Init Placeholder"
   ]
  },
  {
   "cell_type": "code",
   "execution_count": 4,
   "metadata": {},
   "outputs": [],
   "source": [
    "X = tf.placeholder(tf.float32, [None, sequence_length, input_dim]) #X_one_hot\n",
    "Y = tf.placeholder(tf.int32, [None, sequence_length]) #Y_label"
   ]
  },
  {
   "cell_type": "markdown",
   "metadata": {},
   "source": [
    "Make LSTM Cell"
   ]
  },
  {
   "cell_type": "code",
   "execution_count": 5,
   "metadata": {},
   "outputs": [
    {
     "name": "stdout",
     "output_type": "stream",
     "text": [
      "WARNING:tensorflow:From <ipython-input-5-6c4f726eb5d3>:1: BasicLSTMCell.__init__ (from tensorflow.python.ops.rnn_cell_impl) is deprecated and will be removed in a future version.\n",
      "Instructions for updating:\n",
      "This class is deprecated, please use tf.nn.rnn_cell.LSTMCell, which supports all the feature this cell currently has. Please replace the existing code with tf.nn.rnn_cell.LSTMCell(name='basic_lstm_cell').\n"
     ]
    }
   ],
   "source": [
    "cell = tf.contrib.rnn.BasicLSTMCell(num_units = hidden_size, state_is_tuple=True)\n",
    "initial_state = cell.zero_state(batch_size, tf.float32)\n",
    "\n",
    "outputs, _states = tf.nn.dynamic_rnn(cell, X, initial_state = initial_state, dtype = tf.float32)"
   ]
  },
  {
   "cell_type": "markdown",
   "metadata": {},
   "source": [
    "set the fully connected Layer"
   ]
  },
  {
   "cell_type": "code",
   "execution_count": 6,
   "metadata": {},
   "outputs": [],
   "source": [
    "#FC Layer\n",
    "X_for_fc = tf.reshape(outputs, [-1, hidden_size])\n",
    "\n",
    "#fc_w = tf.get_variable(\"fc_w\", [hidden_size, num_classes])\n",
    "#fc_b = tf.get_variable(\"fc_b\", [num_classes])\n",
    "#outputs = tf.matmul(X_for_fc, fc_w) + fc_b\n",
    "\n",
    "outputs = tf.contrib.layers.fully_connected(inputs = X_for_fc, num_outputs = num_classes, activation_fn = None)\n",
    "\n",
    "#reshape out for sequence_loss\n",
    "outputs = tf.reshape(outputs, [batch_size, sequence_length, num_classes])"
   ]
  },
  {
   "cell_type": "markdown",
   "metadata": {},
   "source": [
    "set the cost func and initialize the traninig func"
   ]
  },
  {
   "cell_type": "code",
   "execution_count": 7,
   "metadata": {},
   "outputs": [],
   "source": [
    "weights = tf.ones([batch_size, sequence_length])\n",
    "sequence_loss = tf.contrib.seq2seq.sequence_loss(logits = outputs, targets = Y, weights = weights)\n",
    "\n",
    "loss = tf.reduce_mean(sequence_loss)\n",
    "train = tf.train.AdamOptimizer(learning_rate = learning_rate).minimize(loss)\n",
    "prediction = tf.argmax(outputs, axis = 2)"
   ]
  },
  {
   "cell_type": "markdown",
   "metadata": {},
   "source": [
    "start traning"
   ]
  },
  {
   "cell_type": "code",
   "execution_count": 8,
   "metadata": {},
   "outputs": [
    {
     "name": "stdout",
     "output_type": "stream",
     "text": [
      "0 loss:  1.4133285 prediction:  [[2 2 2 2]] true Y:  [[1, 2, 2, 3]]\n",
      "prediction str:  llll\n",
      "1 loss:  1.1759284 prediction:  [[2 2 2 2]] true Y:  [[1, 2, 2, 3]]\n",
      "prediction str:  llll\n",
      "2 loss:  1.0274553 prediction:  [[2 2 2 2]] true Y:  [[1, 2, 2, 3]]\n",
      "prediction str:  llll\n",
      "3 loss:  0.8435077 prediction:  [[2 2 2 3]] true Y:  [[1, 2, 2, 3]]\n",
      "prediction str:  lllo\n",
      "4 loss:  0.681658 prediction:  [[1 2 2 3]] true Y:  [[1, 2, 2, 3]]\n",
      "prediction str:  ello\n",
      "5 loss:  0.52394295 prediction:  [[1 2 2 3]] true Y:  [[1, 2, 2, 3]]\n",
      "prediction str:  ello\n",
      "6 loss:  0.3453106 prediction:  [[1 2 2 3]] true Y:  [[1, 2, 2, 3]]\n",
      "prediction str:  ello\n",
      "7 loss:  0.20707802 prediction:  [[1 2 2 3]] true Y:  [[1, 2, 2, 3]]\n",
      "prediction str:  ello\n",
      "8 loss:  0.12203818 prediction:  [[1 2 2 3]] true Y:  [[1, 2, 2, 3]]\n",
      "prediction str:  ello\n",
      "9 loss:  0.059434764 prediction:  [[1 2 2 3]] true Y:  [[1, 2, 2, 3]]\n",
      "prediction str:  ello\n",
      "10 loss:  0.037036 prediction:  [[1 2 2 3]] true Y:  [[1, 2, 2, 3]]\n",
      "prediction str:  ello\n",
      "11 loss:  0.02297547 prediction:  [[1 2 2 3]] true Y:  [[1, 2, 2, 3]]\n",
      "prediction str:  ello\n",
      "12 loss:  0.013204652 prediction:  [[1 2 2 3]] true Y:  [[1, 2, 2, 3]]\n",
      "prediction str:  ello\n",
      "13 loss:  0.007871169 prediction:  [[1 2 2 3]] true Y:  [[1, 2, 2, 3]]\n",
      "prediction str:  ello\n",
      "14 loss:  0.004985277 prediction:  [[1 2 2 3]] true Y:  [[1, 2, 2, 3]]\n",
      "prediction str:  ello\n",
      "15 loss:  0.003279118 prediction:  [[1 2 2 3]] true Y:  [[1, 2, 2, 3]]\n",
      "prediction str:  ello\n",
      "16 loss:  0.002233426 prediction:  [[1 2 2 3]] true Y:  [[1, 2, 2, 3]]\n",
      "prediction str:  ello\n",
      "17 loss:  0.001600275 prediction:  [[1 2 2 3]] true Y:  [[1, 2, 2, 3]]\n",
      "prediction str:  ello\n",
      "18 loss:  0.0012067319 prediction:  [[1 2 2 3]] true Y:  [[1, 2, 2, 3]]\n",
      "prediction str:  ello\n",
      "19 loss:  0.0009170907 prediction:  [[1 2 2 3]] true Y:  [[1, 2, 2, 3]]\n",
      "prediction str:  ello\n",
      "20 loss:  0.0006700333 prediction:  [[1 2 2 3]] true Y:  [[1, 2, 2, 3]]\n",
      "prediction str:  ello\n",
      "21 loss:  0.00047598628 prediction:  [[1 2 2 3]] true Y:  [[1, 2, 2, 3]]\n",
      "prediction str:  ello\n",
      "22 loss:  0.00034329965 prediction:  [[1 2 2 3]] true Y:  [[1, 2, 2, 3]]\n",
      "prediction str:  ello\n",
      "23 loss:  0.00025765545 prediction:  [[1 2 2 3]] true Y:  [[1, 2, 2, 3]]\n",
      "prediction str:  ello\n",
      "24 loss:  0.00020161532 prediction:  [[1 2 2 3]] true Y:  [[1, 2, 2, 3]]\n",
      "prediction str:  ello\n",
      "25 loss:  0.00016347792 prediction:  [[1 2 2 3]] true Y:  [[1, 2, 2, 3]]\n",
      "prediction str:  ello\n",
      "26 loss:  0.0001363037 prediction:  [[1 2 2 3]] true Y:  [[1, 2, 2, 3]]\n",
      "prediction str:  ello\n",
      "27 loss:  0.00011622033 prediction:  [[1 2 2 3]] true Y:  [[1, 2, 2, 3]]\n",
      "prediction str:  ello\n",
      "28 loss:  0.00010084454 prediction:  [[1 2 2 3]] true Y:  [[1, 2, 2, 3]]\n",
      "prediction str:  ello\n",
      "29 loss:  8.88655e-05 prediction:  [[1 2 2 3]] true Y:  [[1, 2, 2, 3]]\n",
      "prediction str:  ello\n",
      "30 loss:  7.93298e-05 prediction:  [[1 2 2 3]] true Y:  [[1, 2, 2, 3]]\n",
      "prediction str:  ello\n",
      "31 loss:  7.161175e-05 prediction:  [[1 2 2 3]] true Y:  [[1, 2, 2, 3]]\n",
      "prediction str:  ello\n",
      "32 loss:  6.523461e-05 prediction:  [[1 2 2 3]] true Y:  [[1, 2, 2, 3]]\n",
      "prediction str:  ello\n",
      "33 loss:  5.9989827e-05 prediction:  [[1 2 2 3]] true Y:  [[1, 2, 2, 3]]\n",
      "prediction str:  ello\n",
      "34 loss:  5.5609205e-05 prediction:  [[1 2 2 3]] true Y:  [[1, 2, 2, 3]]\n",
      "prediction str:  ello\n",
      "35 loss:  5.1913972e-05 prediction:  [[1 2 2 3]] true Y:  [[1, 2, 2, 3]]\n",
      "prediction str:  ello\n",
      "36 loss:  4.8665726e-05 prediction:  [[1 2 2 3]] true Y:  [[1, 2, 2, 3]]\n",
      "prediction str:  ello\n",
      "37 loss:  4.5924076e-05 prediction:  [[1 2 2 3]] true Y:  [[1, 2, 2, 3]]\n",
      "prediction str:  ello\n",
      "38 loss:  4.3599626e-05 prediction:  [[1 2 2 3]] true Y:  [[1, 2, 2, 3]]\n",
      "prediction str:  ello\n",
      "39 loss:  4.1573174e-05 prediction:  [[1 2 2 3]] true Y:  [[1, 2, 2, 3]]\n",
      "prediction str:  ello\n",
      "40 loss:  3.9785125e-05 prediction:  [[1 2 2 3]] true Y:  [[1, 2, 2, 3]]\n",
      "prediction str:  ello\n",
      "41 loss:  3.8265283e-05 prediction:  [[1 2 2 3]] true Y:  [[1, 2, 2, 3]]\n",
      "prediction str:  ello\n",
      "42 loss:  3.6834837e-05 prediction:  [[1 2 2 3]] true Y:  [[1, 2, 2, 3]]\n",
      "prediction str:  ello\n",
      "43 loss:  3.5642795e-05 prediction:  [[1 2 2 3]] true Y:  [[1, 2, 2, 3]]\n",
      "prediction str:  ello\n",
      "44 loss:  3.456996e-05 prediction:  [[1 2 2 3]] true Y:  [[1, 2, 2, 3]]\n",
      "prediction str:  ello\n",
      "45 loss:  3.3586526e-05 prediction:  [[1 2 2 3]] true Y:  [[1, 2, 2, 3]]\n",
      "prediction str:  ello\n",
      "46 loss:  3.2752094e-05 prediction:  [[1 2 2 3]] true Y:  [[1, 2, 2, 3]]\n",
      "prediction str:  ello\n",
      "47 loss:  3.200707e-05 prediction:  [[1 2 2 3]] true Y:  [[1, 2, 2, 3]]\n",
      "prediction str:  ello\n",
      "48 loss:  3.132164e-05 prediction:  [[1 2 2 3]] true Y:  [[1, 2, 2, 3]]\n",
      "prediction str:  ello\n",
      "49 loss:  3.0695814e-05 prediction:  [[1 2 2 3]] true Y:  [[1, 2, 2, 3]]\n",
      "prediction str:  ello\n"
     ]
    }
   ],
   "source": [
    "with tf.Session() as sess:\n",
    "    sess.run(tf.global_variables_initializer())\n",
    "    \n",
    "    for i in range(50):\n",
    "        I, _= sess.run([loss, train], feed_dict = {X: x_one_hot, Y: y_data})\n",
    "        result = sess.run(prediction, feed_dict = {X: x_one_hot})\n",
    "        print(i, 'loss: ', I, \"prediction: \", result, \"true Y: \", y_data)\n",
    "        \n",
    "        #print char using dic\n",
    "        result_str = [char_set[c] for c in np.squeeze(result)]\n",
    "        print(\"prediction str: \", ''.join(result_str))"
   ]
  },
  {
   "cell_type": "code",
   "execution_count": 9,
   "metadata": {},
   "outputs": [
    {
     "data": {
      "text/plain": [
       "['e', 'l', 'l', 'o']"
      ]
     },
     "execution_count": 9,
     "metadata": {},
     "output_type": "execute_result"
    }
   ],
   "source": [
    "result_str"
   ]
  },
  {
   "cell_type": "code",
   "execution_count": null,
   "metadata": {},
   "outputs": [],
   "source": []
  }
 ],
 "metadata": {
  "kernelspec": {
   "display_name": "Python 3",
   "language": "python",
   "name": "python3"
  },
  "language_info": {
   "codemirror_mode": {
    "name": "ipython",
    "version": 3
   },
   "file_extension": ".py",
   "mimetype": "text/x-python",
   "name": "python",
   "nbconvert_exporter": "python",
   "pygments_lexer": "ipython3",
   "version": "3.6.8"
  }
 },
 "nbformat": 4,
 "nbformat_minor": 2
}
