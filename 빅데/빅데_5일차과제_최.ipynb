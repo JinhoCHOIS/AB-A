{
 "cells": [
  {
   "cell_type": "markdown",
   "metadata": {},
   "source": [
    "# 5일차 과제 : GridSearchCV - RF\n",
    "# sklearn의 GridSearchCV 함수를 사용해 최적의 매개변수들을 구하고, 최종 랜덤포레스트 모델을 만들고 해석하라.\n",
    "# 데이터 : 유방암 데이터(변수: 31개, 자료 수: 569개)\n",
    "# -.목표변수(diagnosis, 0: Malignant(악성,212개), 1: Benign(양성,357개)"
   ]
  },
  {
   "cell_type": "code",
   "execution_count": 108,
   "metadata": {},
   "outputs": [],
   "source": [
    "import pandas as pd\n",
    "import numpy as np\n",
    "import statsmodels.api as sm\n",
    "import matplotlib.pyplot as plt\n",
    "import seaborn as sns\n",
    "import scipy.stats as stats\n",
    "from sklearn import metrics\n",
    "from sklearn.preprocessing import scale\n",
    "\n",
    "import os\n",
    "from sklearn.tree import DecisionTreeClassifier\n",
    "from sklearn.tree import export_graphviz\n",
    "import graphviz\n",
    "\n",
    "from sklearn.model_selection import train_test_split\n",
    "from sklearn.ensemble import RandomForestClassifier\n",
    "from sklearn.metrics import make_scorer, accuracy_score\n",
    "from sklearn.model_selection import GridSearchCV\n",
    "\n",
    "import warnings\n",
    "warnings.filterwarnings('ignore') #경고 무시"
   ]
  },
  {
   "cell_type": "code",
   "execution_count": 77,
   "metadata": {},
   "outputs": [
    {
     "name": "stdout",
     "output_type": "stream",
     "text": [
      "<class 'pandas.core.frame.DataFrame'>\n",
      "RangeIndex: 569 entries, 0 to 568\n",
      "Data columns (total 31 columns):\n",
      "diagnosis                  569 non-null int64\n",
      "mean radius                569 non-null float64\n",
      "mean texture               569 non-null float64\n",
      "mean perimeter             569 non-null float64\n",
      "mean area                  569 non-null float64\n",
      "mean smoothness            569 non-null float64\n",
      "mean compactness           569 non-null float64\n",
      "mean concavity             569 non-null float64\n",
      "mean concave points        569 non-null float64\n",
      "mean symmetry              569 non-null float64\n",
      "mean fractal dimension     569 non-null float64\n",
      "radius error               569 non-null float64\n",
      "texture error              569 non-null float64\n",
      "perimeter error            569 non-null float64\n",
      "area error                 569 non-null float64\n",
      "smoothness error           569 non-null float64\n",
      "compactness error          569 non-null float64\n",
      "concavity error            569 non-null float64\n",
      "concave points error       569 non-null float64\n",
      "symmetry error             569 non-null float64\n",
      "fractal dimension error    569 non-null float64\n",
      "worst radius               569 non-null float64\n",
      "worst texture              569 non-null float64\n",
      "worst perimeter            569 non-null float64\n",
      "worst area                 569 non-null float64\n",
      "worst smoothness           569 non-null float64\n",
      "worst compactness          569 non-null float64\n",
      "worst concavity            569 non-null float64\n",
      "worst concave points       569 non-null float64\n",
      "worst symmetry             569 non-null float64\n",
      "worst fractal dimension    569 non-null float64\n",
      "dtypes: float64(30), int64(1)\n",
      "memory usage: 137.9 KB\n"
     ]
    }
   ],
   "source": [
    "ds_bc = pd.read_csv('/home/pirl/Downloads/week4day1/유방암.csv',engine='python')\n",
    "ds_bc.info()\n",
    "\n",
    "#설명변수 X_i는 30개\n",
    "#종속변수 Y는 이산형(1은 양성, 0은 악성)이지만 실제 분석에서는 연속형으로 처리\n",
    "#결측치는 없음"
   ]
  },
  {
   "cell_type": "code",
   "execution_count": 57,
   "metadata": {},
   "outputs": [],
   "source": [
    "#이상치 제거하지 않고 진행 ---------------"
   ]
  },
  {
   "cell_type": "markdown",
   "metadata": {},
   "source": [
    "#  데이터 분할 7 : 3"
   ]
  },
  {
   "cell_type": "code",
   "execution_count": 109,
   "metadata": {},
   "outputs": [
    {
     "name": "stdout",
     "output_type": "stream",
     "text": [
      "train data X size: (398, 30)\n",
      "train data Y size: (398,)\n",
      "test data X size: (171, 30)\n",
      "test data X size: (171,)\n"
     ]
    }
   ],
   "source": [
    "bc_y=ds_bc[\"diagnosis\"]\n",
    "bc_x=ds_bc.drop(\"diagnosis\",axis=1, inplace=False)\n",
    "bc_train_x, bc_test_x, bc_train_y, bc_test_y = train_test_split(bc_x,bc_y,test_size=0.3, random_state=1234)\n",
    "print(\"train data X size: {}\".format(bc_train_x.shape))\n",
    "print(\"train data Y size: {}\".format(bc_train_y.shape))\n",
    "print(\"test data X size: {}\".format(bc_test_x.shape))\n",
    "print(\"test data X size: {}\".format(bc_test_y.shape))"
   ]
  },
  {
   "cell_type": "markdown",
   "metadata": {},
   "source": [
    "#  -------------------------------------------------------------------\n",
    "# GridSearch/ cri= gini or entropy, depth:1~4,  leaf_size:5~9, #tree=1~14\n",
    "#  -------------------------------------------------------------------"
   ]
  },
  {
   "cell_type": "code",
   "execution_count": 110,
   "metadata": {},
   "outputs": [
    {
     "data": {
      "text/plain": [
       "GridSearchCV(cv='warn', error_score='raise-deprecating',\n",
       "       estimator=RandomForestClassifier(bootstrap=True, class_weight=None, criterion='gini',\n",
       "            max_depth=None, max_features='auto', max_leaf_nodes=None,\n",
       "            min_impurity_decrease=0.0, min_impurity_split=None,\n",
       "            min_samples_leaf=1, min_samples_split=2,\n",
       "            min_weight_fraction_leaf=0.0, n_estimators=10, n_jobs=None,\n",
       "            oob_score=False, random_state=123, verbose=0, warm_start=False),\n",
       "       fit_params=None, iid='warn', n_jobs=None,\n",
       "       param_grid={'criterion': ['entropy', 'gini'], 'max_depth': [1, 2, 3, 4], 'min_samples_leaf': [5, 6, 7, 8, 9], 'n_estimators': [1, 2, 3, 4, 5, 6, 7, 8, 9, 10, 11, 12, 13, 14]},\n",
       "       pre_dispatch='2*n_jobs', refit=True, return_train_score='warn',\n",
       "       scoring=None, verbose=0)"
      ]
     },
     "execution_count": 110,
     "metadata": {},
     "output_type": "execute_result"
    }
   ],
   "source": [
    "parameters = {               \n",
    "              'criterion': ['entropy', 'gini'],\n",
    "              'max_depth': list(i for i in range(1,5)), \n",
    "              'min_samples_leaf': list(i for i in range(5,10)),\n",
    "              'n_estimators' : list(i for i in range(1,15))\n",
    "             }\n",
    "\n",
    "grid_obj = GridSearchCV(rf_uncustomized, parameters)\n",
    "grid_obj "
   ]
  },
  {
   "cell_type": "markdown",
   "metadata": {},
   "source": [
    "# parameter에 criterion, max_depth, min_samples_leaf, n_estimators를 조정\n",
    "# GridSearchCV 함수에 의해 grid_obj 에 param_grid로 \n",
    "# 모형을 만들 parameter의 값들을 보여줌"
   ]
  },
  {
   "cell_type": "code",
   "execution_count": 111,
   "metadata": {},
   "outputs": [
    {
     "data": {
      "text/plain": [
       "RandomForestClassifier(bootstrap=True, class_weight=None, criterion='gini',\n",
       "            max_depth=4, max_features='auto', max_leaf_nodes=None,\n",
       "            min_impurity_decrease=0.0, min_impurity_split=None,\n",
       "            min_samples_leaf=6, min_samples_split=2,\n",
       "            min_weight_fraction_leaf=0.0, n_estimators=11, n_jobs=None,\n",
       "            oob_score=False, random_state=123, verbose=0, warm_start=False)"
      ]
     },
     "execution_count": 111,
     "metadata": {},
     "output_type": "execute_result"
    }
   ],
   "source": [
    "grid_obj= grid_obj.fit(ds_bc_train_x, ds_bc_train_y)\n",
    "searchcv = grid_obj.best_estimator_\n",
    "searchcv.fit(ds_bc_train_x, ds_bc_train_y)"
   ]
  },
  {
   "cell_type": "markdown",
   "metadata": {},
   "source": [
    "# 위의 주어진 train data를 이용해 해당 parameter를 조합해서 모든 모형을 만듦\n",
    "# best_estimator로 최적의 parameter를 return함\n",
    "# best_estimator로 criterion=gini, max_depth=4, min_samples_leaf=6, n_estimators=11 로 알려줌\n",
    "# 주어진 parameter에 train data로 모형을 만듦"
   ]
  },
  {
   "cell_type": "code",
   "execution_count": 112,
   "metadata": {
    "scrolled": true
   },
   "outputs": [
    {
     "name": "stdout",
     "output_type": "stream",
     "text": [
      "Accuracy on test set: 0.965\n"
     ]
    }
   ],
   "source": [
    "predictions = searchcv.predict(bc_test_x)\n",
    "print(\"Accuracy on test set:\", accuracy_score(bc_test_y, predictions).round(3))"
   ]
  },
  {
   "cell_type": "markdown",
   "metadata": {},
   "source": [
    "#  해당 모형에 test data로 예측\n",
    "#  해당 예측치와 실제 test y data로 정확도를 계산\n",
    "#  계산 결과 정확도 0.965"
   ]
  },
  {
   "cell_type": "markdown",
   "metadata": {},
   "source": [
    "#  \n",
    "# 정확도 0.965의 모델\n",
    "# 동일 test data 기준으로는 더 높은 모형이 있을 수 있음\n",
    "\n",
    "# train data를 기준으로 높은 정확도를 보여주는 parameter를 알려주기에\n",
    "# test data에서도 최고값이라는 보장이 없음\n",
    "\n",
    "# parameter들의 변경으로 더 높은 test 정확도의 모델이 존재할 수 있음"
   ]
  },
  {
   "cell_type": "code",
   "execution_count": 116,
   "metadata": {},
   "outputs": [
    {
     "data": {
      "text/html": [
       "<div>\n",
       "<style scoped>\n",
       "    .dataframe tbody tr th:only-of-type {\n",
       "        vertical-align: middle;\n",
       "    }\n",
       "\n",
       "    .dataframe tbody tr th {\n",
       "        vertical-align: top;\n",
       "    }\n",
       "\n",
       "    .dataframe thead th {\n",
       "        text-align: right;\n",
       "    }\n",
       "</style>\n",
       "<table border=\"1\" class=\"dataframe\">\n",
       "  <thead>\n",
       "    <tr style=\"text-align: right;\">\n",
       "      <th></th>\n",
       "      <th>Feature</th>\n",
       "      <th>Importance</th>\n",
       "    </tr>\n",
       "  </thead>\n",
       "  <tbody>\n",
       "    <tr>\n",
       "      <th>27</th>\n",
       "      <td>worst concave points</td>\n",
       "      <td>0.181977</td>\n",
       "    </tr>\n",
       "    <tr>\n",
       "      <th>23</th>\n",
       "      <td>worst area</td>\n",
       "      <td>0.159930</td>\n",
       "    </tr>\n",
       "    <tr>\n",
       "      <th>6</th>\n",
       "      <td>mean concavity</td>\n",
       "      <td>0.154029</td>\n",
       "    </tr>\n",
       "    <tr>\n",
       "      <th>7</th>\n",
       "      <td>mean concave points</td>\n",
       "      <td>0.153299</td>\n",
       "    </tr>\n",
       "    <tr>\n",
       "      <th>22</th>\n",
       "      <td>worst perimeter</td>\n",
       "      <td>0.095444</td>\n",
       "    </tr>\n",
       "    <tr>\n",
       "      <th>26</th>\n",
       "      <td>worst concavity</td>\n",
       "      <td>0.073047</td>\n",
       "    </tr>\n",
       "    <tr>\n",
       "      <th>13</th>\n",
       "      <td>area error</td>\n",
       "      <td>0.064737</td>\n",
       "    </tr>\n",
       "    <tr>\n",
       "      <th>3</th>\n",
       "      <td>mean area</td>\n",
       "      <td>0.023842</td>\n",
       "    </tr>\n",
       "    <tr>\n",
       "      <th>10</th>\n",
       "      <td>radius error</td>\n",
       "      <td>0.016421</td>\n",
       "    </tr>\n",
       "  </tbody>\n",
       "</table>\n",
       "</div>"
      ],
      "text/plain": [
       "                 Feature  Importance\n",
       "27  worst concave points    0.181977\n",
       "23            worst area    0.159930\n",
       "6         mean concavity    0.154029\n",
       "7    mean concave points    0.153299\n",
       "22       worst perimeter    0.095444\n",
       "26       worst concavity    0.073047\n",
       "13            area error    0.064737\n",
       "3              mean area    0.023842\n",
       "10          radius error    0.016421"
      ]
     },
     "execution_count": 116,
     "metadata": {},
     "output_type": "execute_result"
    }
   ],
   "source": [
    "# tree.feature_importances_로 설명변수 중요도 확인 및 테이블로 저장\n",
    "ds_feature_importance = pd.DataFrame()\n",
    "ds_feature_importance[\"Feature\"] = bc_train_x.columns\n",
    "ds_feature_importance[\"Importance\"] = searchcv.feature_importances_\n",
    "# ds_feature_importance의 테이블을 중요도별로 정렬\n",
    "ds_feature_importance.sort_values(\"Importance\", ascending=False).head(9)"
   ]
  },
  {
   "cell_type": "code",
   "execution_count": 117,
   "metadata": {},
   "outputs": [
    {
     "data": {
      "image/png": "[encoded data removed]",
      "text/plain": [
       "<Figure size 432x288 with 1 Axes>"
      ]
     },
     "metadata": {
      "needs_background": "light"
     },
     "output_type": "display_data"
    }
   ],
   "source": [
    "rf_model = RandomForestClassifier(criterion = \"gini\", max_depth= 4, min_samples_leaf = 6, \\\n",
    "                                  n_estimators = 11, random_state= 1234)\n",
    "rf_model.fit(ds_bc_train_x, ds_bc_train_y)\n",
    "\n",
    "feature_importance = pd.DataFrame()\n",
    "feature_importance[\"feature\"] = ds_bc_train_x.columns\n",
    "feature_importance[\"importance\"] = rf_model.feature_importances_\n",
    "feature_importance.sort_values( by = \"importance\" , ascending = False)\n",
    "\n",
    "# 설명변수 중요도 그래프 함수 정의\n",
    "def plot_feature_importance(model):\n",
    "    n_features = ds_bc_train_x.shape[1]\n",
    "    plt.barh(range(n_features), model.feature_importances_ , align= \"center\")\n",
    "    plt.yticks(np.arange(n_features), ds_bc_train_x.columns)\n",
    "    plt.xlabel(\"importance of explanatory variable\")\n",
    "    plt.ylabel(\"explanatory variable\")\n",
    "    plt.ylim(-1, n_features)\n",
    "    \n",
    "plot_feature_importance(rf_model)"
   ]
  },
  {
   "cell_type": "markdown",
   "metadata": {},
   "source": [
    "# worst concave points가 상대적으로 영향력이 가장 큼\n",
    "# wost peremeter, mean concavity, mean area도 약간의 영향력\n"
   ]
  },
  {
   "cell_type": "code",
   "execution_count": 119,
   "metadata": {},
   "outputs": [
    {
     "name": "stdout",
     "output_type": "stream",
     "text": [
      "Grid_Search_Accuracy: 0.949\n"
     ]
    },
    {
     "data": {
      "image/svg+xml": [
       "<?xml version=\"1.0\" encoding=\"UTF-8\" standalone=\"no\"?>\n",
       "<!DOCTYPE svg PUBLIC \"-//W3C//DTD SVG 1.1//EN\"\n",
       " \"http://www.w3.org/Graphics/SVG/1.1/DTD/svg11.dtd\">\n",
       "<!-- Generated by graphviz version 2.40.1 (20161225.0304)\n",
       " -->\n",
       "<!-- Title: Tree Pages: 1 -->\n",
       "<svg width=\"1062pt\" height=\"477pt\"\n",
       " viewBox=\"0.00 0.00 1061.50 477.00\" xmlns=\"http://www.w3.org/2000/svg\" xmlns:xlink=\"http://www.w3.org/1999/xlink\">\n",
       "<g id=\"graph0\" class=\"graph\" transform=\"scale(1 1) rotate(0) translate(4 473)\">\n",
       "<title>Tree</title>\n",
       "<polygon fill=\"#ffffff\" stroke=\"transparent\" points=\"-4,4 -4,-473 1057.5,-473 1057.5,4 -4,4\"/>\n",
       "<!-- 0 -->\n",
       "<g id=\"node1\" class=\"node\">\n",
       "<title>0</title>\n",
       "<polygon fill=\"#e58139\" fill-opacity=\"0.372549\" stroke=\"#000000\" points=\"625,-469 439,-469 439,-401 625,-401 625,-469\"/>\n",
       "<text text-anchor=\"middle\" x=\"532\" y=\"-453.8\" font-family=\"Times,serif\" font-size=\"14.00\" fill=\"#000000\">mean concave points &lt;= 0.049</text>\n",
       "<text text-anchor=\"middle\" x=\"532\" y=\"-438.8\" font-family=\"Times,serif\" font-size=\"14.00\" fill=\"#000000\">samples = 413</text>\n",
       "<text text-anchor=\"middle\" x=\"532\" y=\"-423.8\" font-family=\"Times,serif\" font-size=\"14.00\" fill=\"#000000\">value = [254, 159]</text>\n",
       "<text text-anchor=\"middle\" x=\"532\" y=\"-408.8\" font-family=\"Times,serif\" font-size=\"14.00\" fill=\"#000000\">class = 0</text>\n",
       "</g>\n",
       "<!-- 1 -->\n",
       "<g id=\"node2\" class=\"node\">\n",
       "<title>1</title>\n",
       "<polygon fill=\"#e58139\" fill-opacity=\"0.952941\" stroke=\"#000000\" points=\"515.5,-365 370.5,-365 370.5,-297 515.5,-297 515.5,-365\"/>\n",
       "<text text-anchor=\"middle\" x=\"443\" y=\"-349.8\" font-family=\"Times,serif\" font-size=\"14.00\" fill=\"#000000\">worst radius &lt;= 16.825</text>\n",
       "<text text-anchor=\"middle\" x=\"443\" y=\"-334.8\" font-family=\"Times,serif\" font-size=\"14.00\" fill=\"#000000\">samples = 244</text>\n",
       "<text text-anchor=\"middle\" x=\"443\" y=\"-319.8\" font-family=\"Times,serif\" font-size=\"14.00\" fill=\"#000000\">value = [233, 11]</text>\n",
       "<text text-anchor=\"middle\" x=\"443\" y=\"-304.8\" font-family=\"Times,serif\" font-size=\"14.00\" fill=\"#000000\">class = 0</text>\n",
       "</g>\n",
       "<!-- 0&#45;&gt;1 -->\n",
       "<g id=\"edge1\" class=\"edge\">\n",
       "<title>0&#45;&gt;1</title>\n",
       "<path fill=\"none\" stroke=\"#000000\" d=\"M502.8581,-400.9465C495.1745,-391.968 486.7947,-382.1758 478.8041,-372.8385\"/>\n",
       "<polygon fill=\"#000000\" stroke=\"#000000\" points=\"481.3685,-370.4521 472.2074,-365.13 476.0501,-375.0034 481.3685,-370.4521\"/>\n",
       "<text text-anchor=\"middle\" x=\"470.2702\" y=\"-386.3548\" font-family=\"Times,serif\" font-size=\"14.00\" fill=\"#000000\">True</text>\n",
       "</g>\n",
       "<!-- 10 -->\n",
       "<g id=\"node11\" class=\"node\">\n",
       "<title>10</title>\n",
       "<polygon fill=\"#399de5\" fill-opacity=\"0.858824\" stroke=\"#000000\" points=\"705,-365 547,-365 547,-297 705,-297 705,-365\"/>\n",
       "<text text-anchor=\"middle\" x=\"626\" y=\"-349.8\" font-family=\"Times,serif\" font-size=\"14.00\" fill=\"#000000\">worst concavity &lt;= 0.225</text>\n",
       "<text text-anchor=\"middle\" x=\"626\" y=\"-334.8\" font-family=\"Times,serif\" font-size=\"14.00\" fill=\"#000000\">samples = 169</text>\n",
       "<text text-anchor=\"middle\" x=\"626\" y=\"-319.8\" font-family=\"Times,serif\" font-size=\"14.00\" fill=\"#000000\">value = [21, 148]</text>\n",
       "<text text-anchor=\"middle\" x=\"626\" y=\"-304.8\" font-family=\"Times,serif\" font-size=\"14.00\" fill=\"#000000\">class = 1</text>\n",
       "</g>\n",
       "<!-- 0&#45;&gt;10 -->\n",
       "<g id=\"edge10\" class=\"edge\">\n",
       "<title>0&#45;&gt;10</title>\n",
       "<path fill=\"none\" stroke=\"#000000\" d=\"M562.7791,-400.9465C570.9755,-391.8782 579.922,-381.9799 588.4375,-372.5585\"/>\n",
       "<polygon fill=\"#000000\" stroke=\"#000000\" points=\"591.0429,-374.8957 595.1517,-365.13 585.8497,-370.2019 591.0429,-374.8957\"/>\n",
       "<text text-anchor=\"middle\" x=\"596.4128\" y=\"-386.3982\" font-family=\"Times,serif\" font-size=\"14.00\" fill=\"#000000\">False</text>\n",
       "</g>\n",
       "<!-- 2 -->\n",
       "<g id=\"node3\" class=\"node\">\n",
       "<title>2</title>\n",
       "<polygon fill=\"#e58139\" fill-opacity=\"0.992157\" stroke=\"#000000\" points=\"347,-261 147,-261 147,-193 347,-193 347,-261\"/>\n",
       "<text text-anchor=\"middle\" x=\"247\" y=\"-245.8\" font-family=\"Times,serif\" font-size=\"14.00\" fill=\"#000000\">mean fractal dimension &lt;= 0.056</text>\n",
       "<text text-anchor=\"middle\" x=\"247\" y=\"-230.8\" font-family=\"Times,serif\" font-size=\"14.00\" fill=\"#000000\">samples = 230</text>\n",
       "<text text-anchor=\"middle\" x=\"247\" y=\"-215.8\" font-family=\"Times,serif\" font-size=\"14.00\" fill=\"#000000\">value = [228, 2]</text>\n",
       "<text text-anchor=\"middle\" x=\"247\" y=\"-200.8\" font-family=\"Times,serif\" font-size=\"14.00\" fill=\"#000000\">class = 0</text>\n",
       "</g>\n",
       "<!-- 1&#45;&gt;2 -->\n",
       "<g id=\"edge2\" class=\"edge\">\n",
       "<title>1&#45;&gt;2</title>\n",
       "<path fill=\"none\" stroke=\"#000000\" d=\"M378.8223,-296.9465C360.1245,-287.0252 339.5544,-276.1105 320.3375,-265.9138\"/>\n",
       "<polygon fill=\"#000000\" stroke=\"#000000\" points=\"321.7959,-262.7255 311.3219,-261.13 318.5149,-268.9089 321.7959,-262.7255\"/>\n",
       "</g>\n",
       "<!-- 7 -->\n",
       "<g id=\"node8\" class=\"node\">\n",
       "<title>7</title>\n",
       "<polygon fill=\"#399de5\" fill-opacity=\"0.443137\" stroke=\"#000000\" points=\"517.5,-261 368.5,-261 368.5,-193 517.5,-193 517.5,-261\"/>\n",
       "<text text-anchor=\"middle\" x=\"443\" y=\"-245.8\" font-family=\"Times,serif\" font-size=\"14.00\" fill=\"#000000\">mean texture &lt;= 18.835</text>\n",
       "<text text-anchor=\"middle\" x=\"443\" y=\"-230.8\" font-family=\"Times,serif\" font-size=\"14.00\" fill=\"#000000\">samples = 14</text>\n",
       "<text text-anchor=\"middle\" x=\"443\" y=\"-215.8\" font-family=\"Times,serif\" font-size=\"14.00\" fill=\"#000000\">value = [5, 9]</text>\n",
       "<text text-anchor=\"middle\" x=\"443\" y=\"-200.8\" font-family=\"Times,serif\" font-size=\"14.00\" fill=\"#000000\">class = 1</text>\n",
       "</g>\n",
       "<!-- 1&#45;&gt;7 -->\n",
       "<g id=\"edge7\" class=\"edge\">\n",
       "<title>1&#45;&gt;7</title>\n",
       "<path fill=\"none\" stroke=\"#000000\" d=\"M443,-296.9465C443,-288.776 443,-279.9318 443,-271.3697\"/>\n",
       "<polygon fill=\"#000000\" stroke=\"#000000\" points=\"446.5001,-271.13 443,-261.13 439.5001,-271.13 446.5001,-271.13\"/>\n",
       "</g>\n",
       "<!-- 3 -->\n",
       "<g id=\"node4\" class=\"node\">\n",
       "<title>3</title>\n",
       "<polygon fill=\"#e58139\" fill-opacity=\"0.894118\" stroke=\"#000000\" points=\"176.5,-157 33.5,-157 33.5,-89 176.5,-89 176.5,-157\"/>\n",
       "<text text-anchor=\"middle\" x=\"105\" y=\"-141.8\" font-family=\"Times,serif\" font-size=\"14.00\" fill=\"#000000\">mean texture &lt;= 20.67</text>\n",
       "<text text-anchor=\"middle\" x=\"105\" y=\"-126.8\" font-family=\"Times,serif\" font-size=\"14.00\" fill=\"#000000\">samples = 21</text>\n",
       "<text text-anchor=\"middle\" x=\"105\" y=\"-111.8\" font-family=\"Times,serif\" font-size=\"14.00\" fill=\"#000000\">value = [19, 2]</text>\n",
       "<text text-anchor=\"middle\" x=\"105\" y=\"-96.8\" font-family=\"Times,serif\" font-size=\"14.00\" fill=\"#000000\">class = 0</text>\n",
       "</g>\n",
       "<!-- 2&#45;&gt;3 -->\n",
       "<g id=\"edge3\" class=\"edge\">\n",
       "<title>2&#45;&gt;3</title>\n",
       "<path fill=\"none\" stroke=\"#000000\" d=\"M200.5039,-192.9465C187.5092,-183.4293 173.2663,-172.9978 159.8379,-163.163\"/>\n",
       "<polygon fill=\"#000000\" stroke=\"#000000\" points=\"161.7363,-160.2151 151.6006,-157.13 157.6002,-165.8624 161.7363,-160.2151\"/>\n",
       "</g>\n",
       "<!-- 6 -->\n",
       "<g id=\"node7\" class=\"node\">\n",
       "<title>6</title>\n",
       "<polygon fill=\"#e58139\" stroke=\"#000000\" points=\"299.5,-149.5 194.5,-149.5 194.5,-96.5 299.5,-96.5 299.5,-149.5\"/>\n",
       "<text text-anchor=\"middle\" x=\"247\" y=\"-134.3\" font-family=\"Times,serif\" font-size=\"14.00\" fill=\"#000000\">samples = 209</text>\n",
       "<text text-anchor=\"middle\" x=\"247\" y=\"-119.3\" font-family=\"Times,serif\" font-size=\"14.00\" fill=\"#000000\">value = [209, 0]</text>\n",
       "<text text-anchor=\"middle\" x=\"247\" y=\"-104.3\" font-family=\"Times,serif\" font-size=\"14.00\" fill=\"#000000\">class = 0</text>\n",
       "</g>\n",
       "<!-- 2&#45;&gt;6 -->\n",
       "<g id=\"edge6\" class=\"edge\">\n",
       "<title>2&#45;&gt;6</title>\n",
       "<path fill=\"none\" stroke=\"#000000\" d=\"M247,-192.9465C247,-182.2621 247,-170.4254 247,-159.5742\"/>\n",
       "<polygon fill=\"#000000\" stroke=\"#000000\" points=\"250.5001,-159.5421 247,-149.5422 243.5001,-159.5422 250.5001,-159.5421\"/>\n",
       "</g>\n",
       "<!-- 4 -->\n",
       "<g id=\"node5\" class=\"node\">\n",
       "<title>4</title>\n",
       "<polygon fill=\"#e58139\" stroke=\"#000000\" points=\"98,-53 0,-53 0,0 98,0 98,-53\"/>\n",
       "<text text-anchor=\"middle\" x=\"49\" y=\"-37.8\" font-family=\"Times,serif\" font-size=\"14.00\" fill=\"#000000\">samples = 15</text>\n",
       "<text text-anchor=\"middle\" x=\"49\" y=\"-22.8\" font-family=\"Times,serif\" font-size=\"14.00\" fill=\"#000000\">value = [15, 0]</text>\n",
       "<text text-anchor=\"middle\" x=\"49\" y=\"-7.8\" font-family=\"Times,serif\" font-size=\"14.00\" fill=\"#000000\">class = 0</text>\n",
       "</g>\n",
       "<!-- 3&#45;&gt;4 -->\n",
       "<g id=\"edge4\" class=\"edge\">\n",
       "<title>3&#45;&gt;4</title>\n",
       "<path fill=\"none\" stroke=\"#000000\" d=\"M85.2565,-88.9777C80.2083,-80.2786 74.7669,-70.9018 69.6734,-62.1247\"/>\n",
       "<polygon fill=\"#000000\" stroke=\"#000000\" points=\"72.5689,-60.1409 64.5224,-53.2485 66.5145,-63.6544 72.5689,-60.1409\"/>\n",
       "</g>\n",
       "<!-- 5 -->\n",
       "<g id=\"node6\" class=\"node\">\n",
       "<title>5</title>\n",
       "<polygon fill=\"#e58139\" fill-opacity=\"0.498039\" stroke=\"#000000\" points=\"208,-53 116,-53 116,0 208,0 208,-53\"/>\n",
       "<text text-anchor=\"middle\" x=\"162\" y=\"-37.8\" font-family=\"Times,serif\" font-size=\"14.00\" fill=\"#000000\">samples = 6</text>\n",
       "<text text-anchor=\"middle\" x=\"162\" y=\"-22.8\" font-family=\"Times,serif\" font-size=\"14.00\" fill=\"#000000\">value = [4, 2]</text>\n",
       "<text text-anchor=\"middle\" x=\"162\" y=\"-7.8\" font-family=\"Times,serif\" font-size=\"14.00\" fill=\"#000000\">class = 0</text>\n",
       "</g>\n",
       "<!-- 3&#45;&gt;5 -->\n",
       "<g id=\"edge5\" class=\"edge\">\n",
       "<title>3&#45;&gt;5</title>\n",
       "<path fill=\"none\" stroke=\"#000000\" d=\"M125.0961,-88.9777C130.2344,-80.2786 135.773,-70.9018 140.9575,-62.1247\"/>\n",
       "<polygon fill=\"#000000\" stroke=\"#000000\" points=\"144.1281,-63.6387 146.2004,-53.2485 138.101,-60.0786 144.1281,-63.6387\"/>\n",
       "</g>\n",
       "<!-- 8 -->\n",
       "<g id=\"node9\" class=\"node\">\n",
       "<title>8</title>\n",
       "<polygon fill=\"#e58139\" fill-opacity=\"0.800000\" stroke=\"#000000\" points=\"410,-149.5 318,-149.5 318,-96.5 410,-96.5 410,-149.5\"/>\n",
       "<text text-anchor=\"middle\" x=\"364\" y=\"-134.3\" font-family=\"Times,serif\" font-size=\"14.00\" fill=\"#000000\">samples = 6</text>\n",
       "<text text-anchor=\"middle\" x=\"364\" y=\"-119.3\" font-family=\"Times,serif\" font-size=\"14.00\" fill=\"#000000\">value = [5, 1]</text>\n",
       "<text text-anchor=\"middle\" x=\"364\" y=\"-104.3\" font-family=\"Times,serif\" font-size=\"14.00\" fill=\"#000000\">class = 0</text>\n",
       "</g>\n",
       "<!-- 7&#45;&gt;8 -->\n",
       "<g id=\"edge8\" class=\"edge\">\n",
       "<title>7&#45;&gt;8</title>\n",
       "<path fill=\"none\" stroke=\"#000000\" d=\"M417.1324,-192.9465C408.5143,-181.6012 398.9094,-168.9567 390.2617,-157.5724\"/>\n",
       "<polygon fill=\"#000000\" stroke=\"#000000\" points=\"392.9979,-155.3882 384.1618,-149.5422 387.4237,-159.6224 392.9979,-155.3882\"/>\n",
       "</g>\n",
       "<!-- 9 -->\n",
       "<g id=\"node10\" class=\"node\">\n",
       "<title>9</title>\n",
       "<polygon fill=\"#399de5\" stroke=\"#000000\" points=\"520,-149.5 428,-149.5 428,-96.5 520,-96.5 520,-149.5\"/>\n",
       "<text text-anchor=\"middle\" x=\"474\" y=\"-134.3\" font-family=\"Times,serif\" font-size=\"14.00\" fill=\"#000000\">samples = 8</text>\n",
       "<text text-anchor=\"middle\" x=\"474\" y=\"-119.3\" font-family=\"Times,serif\" font-size=\"14.00\" fill=\"#000000\">value = [0, 8]</text>\n",
       "<text text-anchor=\"middle\" x=\"474\" y=\"-104.3\" font-family=\"Times,serif\" font-size=\"14.00\" fill=\"#000000\">class = 1</text>\n",
       "</g>\n",
       "<!-- 7&#45;&gt;9 -->\n",
       "<g id=\"edge9\" class=\"edge\">\n",
       "<title>7&#45;&gt;9</title>\n",
       "<path fill=\"none\" stroke=\"#000000\" d=\"M453.1506,-192.9465C456.3682,-182.1519 459.9364,-170.1813 463.198,-159.2389\"/>\n",
       "<polygon fill=\"#000000\" stroke=\"#000000\" points=\"466.5859,-160.1253 466.0884,-149.5422 459.8776,-158.1257 466.5859,-160.1253\"/>\n",
       "</g>\n",
       "<!-- 11 -->\n",
       "<g id=\"node12\" class=\"node\">\n",
       "<title>11</title>\n",
       "<polygon fill=\"#e58139\" fill-opacity=\"0.917647\" stroke=\"#000000\" points=\"711.5,-261 540.5,-261 540.5,-193 711.5,-193 711.5,-261\"/>\n",
       "<text text-anchor=\"middle\" x=\"626\" y=\"-245.8\" font-family=\"Times,serif\" font-size=\"14.00\" fill=\"#000000\">compactness error &lt;= 0.018</text>\n",
       "<text text-anchor=\"middle\" x=\"626\" y=\"-230.8\" font-family=\"Times,serif\" font-size=\"14.00\" fill=\"#000000\">samples = 13</text>\n",
       "<text text-anchor=\"middle\" x=\"626\" y=\"-215.8\" font-family=\"Times,serif\" font-size=\"14.00\" fill=\"#000000\">value = [12, 1]</text>\n",
       "<text text-anchor=\"middle\" x=\"626\" y=\"-200.8\" font-family=\"Times,serif\" font-size=\"14.00\" fill=\"#000000\">class = 0</text>\n",
       "</g>\n",
       "<!-- 10&#45;&gt;11 -->\n",
       "<g id=\"edge11\" class=\"edge\">\n",
       "<title>10&#45;&gt;11</title>\n",
       "<path fill=\"none\" stroke=\"#000000\" d=\"M626,-296.9465C626,-288.776 626,-279.9318 626,-271.3697\"/>\n",
       "<polygon fill=\"#000000\" stroke=\"#000000\" points=\"629.5001,-271.13 626,-261.13 622.5001,-271.13 629.5001,-271.13\"/>\n",
       "</g>\n",
       "<!-- 14 -->\n",
       "<g id=\"node15\" class=\"node\">\n",
       "<title>14</title>\n",
       "<polygon fill=\"#399de5\" fill-opacity=\"0.937255\" stroke=\"#000000\" points=\"876.5,-261 731.5,-261 731.5,-193 876.5,-193 876.5,-261\"/>\n",
       "<text text-anchor=\"middle\" x=\"804\" y=\"-245.8\" font-family=\"Times,serif\" font-size=\"14.00\" fill=\"#000000\">worst radius &lt;= 14.855</text>\n",
       "<text text-anchor=\"middle\" x=\"804\" y=\"-230.8\" font-family=\"Times,serif\" font-size=\"14.00\" fill=\"#000000\">samples = 156</text>\n",
       "<text text-anchor=\"middle\" x=\"804\" y=\"-215.8\" font-family=\"Times,serif\" font-size=\"14.00\" fill=\"#000000\">value = [9, 147]</text>\n",
       "<text text-anchor=\"middle\" x=\"804\" y=\"-200.8\" font-family=\"Times,serif\" font-size=\"14.00\" fill=\"#000000\">class = 1</text>\n",
       "</g>\n",
       "<!-- 10&#45;&gt;14 -->\n",
       "<g id=\"edge14\" class=\"edge\">\n",
       "<title>10&#45;&gt;14</title>\n",
       "<path fill=\"none\" stroke=\"#000000\" d=\"M684.2839,-296.9465C701.034,-287.1599 719.4386,-276.4066 736.6862,-266.3294\"/>\n",
       "<polygon fill=\"#000000\" stroke=\"#000000\" points=\"738.7166,-269.1968 745.5852,-261.13 735.1852,-263.1528 738.7166,-269.1968\"/>\n",
       "</g>\n",
       "<!-- 12 -->\n",
       "<g id=\"node13\" class=\"node\">\n",
       "<title>12</title>\n",
       "<polygon fill=\"#e58139\" fill-opacity=\"0.800000\" stroke=\"#000000\" points=\"630,-149.5 538,-149.5 538,-96.5 630,-96.5 630,-149.5\"/>\n",
       "<text text-anchor=\"middle\" x=\"584\" y=\"-134.3\" font-family=\"Times,serif\" font-size=\"14.00\" fill=\"#000000\">samples = 6</text>\n",
       "<text text-anchor=\"middle\" x=\"584\" y=\"-119.3\" font-family=\"Times,serif\" font-size=\"14.00\" fill=\"#000000\">value = [5, 1]</text>\n",
       "<text text-anchor=\"middle\" x=\"584\" y=\"-104.3\" font-family=\"Times,serif\" font-size=\"14.00\" fill=\"#000000\">class = 0</text>\n",
       "</g>\n",
       "<!-- 11&#45;&gt;12 -->\n",
       "<g id=\"edge12\" class=\"edge\">\n",
       "<title>11&#45;&gt;12</title>\n",
       "<path fill=\"none\" stroke=\"#000000\" d=\"M612.2476,-192.9465C607.8438,-182.0418 602.9553,-169.9368 598.4998,-158.9043\"/>\n",
       "<polygon fill=\"#000000\" stroke=\"#000000\" points=\"601.709,-157.5039 594.719,-149.5422 595.2183,-160.1252 601.709,-157.5039\"/>\n",
       "</g>\n",
       "<!-- 13 -->\n",
       "<g id=\"node14\" class=\"node\">\n",
       "<title>13</title>\n",
       "<polygon fill=\"#e58139\" stroke=\"#000000\" points=\"740,-149.5 648,-149.5 648,-96.5 740,-96.5 740,-149.5\"/>\n",
       "<text text-anchor=\"middle\" x=\"694\" y=\"-134.3\" font-family=\"Times,serif\" font-size=\"14.00\" fill=\"#000000\">samples = 7</text>\n",
       "<text text-anchor=\"middle\" x=\"694\" y=\"-119.3\" font-family=\"Times,serif\" font-size=\"14.00\" fill=\"#000000\">value = [7, 0]</text>\n",
       "<text text-anchor=\"middle\" x=\"694\" y=\"-104.3\" font-family=\"Times,serif\" font-size=\"14.00\" fill=\"#000000\">class = 0</text>\n",
       "</g>\n",
       "<!-- 11&#45;&gt;13 -->\n",
       "<g id=\"edge13\" class=\"edge\">\n",
       "<title>11&#45;&gt;13</title>\n",
       "<path fill=\"none\" stroke=\"#000000\" d=\"M648.2657,-192.9465C655.5398,-181.8215 663.6306,-169.4473 670.9604,-158.237\"/>\n",
       "<polygon fill=\"#000000\" stroke=\"#000000\" points=\"674.1024,-159.8273 676.6455,-149.5422 668.2436,-155.9965 674.1024,-159.8273\"/>\n",
       "</g>\n",
       "<!-- 15 -->\n",
       "<g id=\"node16\" class=\"node\">\n",
       "<title>15</title>\n",
       "<polygon fill=\"#e58139\" fill-opacity=\"0.400000\" stroke=\"#000000\" points=\"850,-149.5 758,-149.5 758,-96.5 850,-96.5 850,-149.5\"/>\n",
       "<text text-anchor=\"middle\" x=\"804\" y=\"-134.3\" font-family=\"Times,serif\" font-size=\"14.00\" fill=\"#000000\">samples = 8</text>\n",
       "<text text-anchor=\"middle\" x=\"804\" y=\"-119.3\" font-family=\"Times,serif\" font-size=\"14.00\" fill=\"#000000\">value = [5, 3]</text>\n",
       "<text text-anchor=\"middle\" x=\"804\" y=\"-104.3\" font-family=\"Times,serif\" font-size=\"14.00\" fill=\"#000000\">class = 0</text>\n",
       "</g>\n",
       "<!-- 14&#45;&gt;15 -->\n",
       "<g id=\"edge15\" class=\"edge\">\n",
       "<title>14&#45;&gt;15</title>\n",
       "<path fill=\"none\" stroke=\"#000000\" d=\"M804,-192.9465C804,-182.2621 804,-170.4254 804,-159.5742\"/>\n",
       "<polygon fill=\"#000000\" stroke=\"#000000\" points=\"807.5001,-159.5421 804,-149.5422 800.5001,-159.5422 807.5001,-159.5421\"/>\n",
       "</g>\n",
       "<!-- 16 -->\n",
       "<g id=\"node17\" class=\"node\">\n",
       "<title>16</title>\n",
       "<polygon fill=\"#399de5\" fill-opacity=\"0.972549\" stroke=\"#000000\" points=\"1017.5,-157 868.5,-157 868.5,-89 1017.5,-89 1017.5,-157\"/>\n",
       "<text text-anchor=\"middle\" x=\"943\" y=\"-141.8\" font-family=\"Times,serif\" font-size=\"14.00\" fill=\"#000000\">mean texture &lt;= 15.345</text>\n",
       "<text text-anchor=\"middle\" x=\"943\" y=\"-126.8\" font-family=\"Times,serif\" font-size=\"14.00\" fill=\"#000000\">samples = 148</text>\n",
       "<text text-anchor=\"middle\" x=\"943\" y=\"-111.8\" font-family=\"Times,serif\" font-size=\"14.00\" fill=\"#000000\">value = [4, 144]</text>\n",
       "<text text-anchor=\"middle\" x=\"943\" y=\"-96.8\" font-family=\"Times,serif\" font-size=\"14.00\" fill=\"#000000\">class = 1</text>\n",
       "</g>\n",
       "<!-- 14&#45;&gt;16 -->\n",
       "<g id=\"edge16\" class=\"edge\">\n",
       "<title>14&#45;&gt;16</title>\n",
       "<path fill=\"none\" stroke=\"#000000\" d=\"M849.5138,-192.9465C862.234,-183.4293 876.176,-172.9978 889.3206,-163.163\"/>\n",
       "<polygon fill=\"#000000\" stroke=\"#000000\" points=\"891.4738,-165.9232 897.3839,-157.13 887.2802,-160.3184 891.4738,-165.9232\"/>\n",
       "</g>\n",
       "<!-- 17 -->\n",
       "<g id=\"node18\" class=\"node\">\n",
       "<title>17</title>\n",
       "<polygon fill=\"#399de5\" fill-opacity=\"0.400000\" stroke=\"#000000\" points=\"930,-53 838,-53 838,0 930,0 930,-53\"/>\n",
       "<text text-anchor=\"middle\" x=\"884\" y=\"-37.8\" font-family=\"Times,serif\" font-size=\"14.00\" fill=\"#000000\">samples = 8</text>\n",
       "<text text-anchor=\"middle\" x=\"884\" y=\"-22.8\" font-family=\"Times,serif\" font-size=\"14.00\" fill=\"#000000\">value = [3, 5]</text>\n",
       "<text text-anchor=\"middle\" x=\"884\" y=\"-7.8\" font-family=\"Times,serif\" font-size=\"14.00\" fill=\"#000000\">class = 1</text>\n",
       "</g>\n",
       "<!-- 16&#45;&gt;17 -->\n",
       "<g id=\"edge17\" class=\"edge\">\n",
       "<title>16&#45;&gt;17</title>\n",
       "<path fill=\"none\" stroke=\"#000000\" d=\"M922.1988,-88.9777C916.8242,-80.187 911.0265,-70.7044 905.6115,-61.8477\"/>\n",
       "<polygon fill=\"#000000\" stroke=\"#000000\" points=\"908.5564,-59.9545 900.354,-53.2485 902.5842,-63.6059 908.5564,-59.9545\"/>\n",
       "</g>\n",
       "<!-- 18 -->\n",
       "<g id=\"node19\" class=\"node\">\n",
       "<title>18</title>\n",
       "<polygon fill=\"#399de5\" fill-opacity=\"0.992157\" stroke=\"#000000\" points=\"1053.5,-53 948.5,-53 948.5,0 1053.5,0 1053.5,-53\"/>\n",
       "<text text-anchor=\"middle\" x=\"1001\" y=\"-37.8\" font-family=\"Times,serif\" font-size=\"14.00\" fill=\"#000000\">samples = 140</text>\n",
       "<text text-anchor=\"middle\" x=\"1001\" y=\"-22.8\" font-family=\"Times,serif\" font-size=\"14.00\" fill=\"#000000\">value = [1, 139]</text>\n",
       "<text text-anchor=\"middle\" x=\"1001\" y=\"-7.8\" font-family=\"Times,serif\" font-size=\"14.00\" fill=\"#000000\">class = 1</text>\n",
       "</g>\n",
       "<!-- 16&#45;&gt;18 -->\n",
       "<g id=\"edge18\" class=\"edge\">\n",
       "<title>16&#45;&gt;18</title>\n",
       "<path fill=\"none\" stroke=\"#000000\" d=\"M963.4486,-88.9777C968.7322,-80.187 974.4316,-70.7044 979.7548,-61.8477\"/>\n",
       "<polygon fill=\"#000000\" stroke=\"#000000\" points=\"982.7715,-63.6225 984.9232,-53.2485 976.7718,-60.0165 982.7715,-63.6225\"/>\n",
       "</g>\n",
       "</g>\n",
       "</svg>\n"
      ],
      "text/plain": [
       "<graphviz.files.Source at 0x7fd587bb8dd8>"
      ]
     },
     "metadata": {},
     "output_type": "display_data"
    }
   ],
   "source": [
    "#트리모델 생성, criterion=\"gini\",max_depth=4, min_sample_leaf=6 으로 모델 생성\n",
    "tree = DecisionTreeClassifier(criterion=\"gini\",max_depth=4,\n",
    "                            min_samples_leaf=6,random_state=1234)\n",
    "#tree model training\n",
    "tree.fit(ds_bc_train_x,ds_bc_train_y)\n",
    "\n",
    "print(\"Grid_Search_Accuracy: {0:.3f}\".format(tree.score(ds_bc_test_x,ds_bc_test_y).round(3)))\n",
    "\n",
    "#트리모델을 tree.dot파일로 저장\n",
    "export_graphviz(tree,out_file=\"tree.dot\", class_names=[\"0\",\"1\"],\n",
    "              feature_names=ds_bc_train_x.columns,impurity=False,filled=True)\n",
    "#path 설정:graphviz를 설치 했다면, 설치 된 경로를 설정. 기본 경로는 아래 예제 참고\n",
    "os.environ[\"PATH\"] += os.pathsep +\"\"\n",
    "\n",
    "#graphviz를 이용해 트리 모델 시각화\n",
    "with open(\"tree.dot\") as f:\n",
    "    dot_graph = f.read()\n",
    "display(graphviz.Source(dot_graph))"
   ]
  },
  {
   "cell_type": "markdown",
   "metadata": {},
   "source": [
    "# RandomForest의 모델을 직접 표현할 수는 없지만\n",
    "# 그래픽 편의를 보기 위해 DecisionTree 모델에 해당 parameter를 입력"
   ]
  },
  {
   "cell_type": "markdown",
   "metadata": {},
   "source": [
    "#  ---------------------------------------------------------"
   ]
  },
  {
   "cell_type": "code",
   "execution_count": 79,
   "metadata": {},
   "outputs": [
    {
     "name": "stdout",
     "output_type": "stream",
     "text": [
      "Accucary on training set: 0.998\n",
      "Accucary on test set: 0.962\n"
     ]
    }
   ],
   "source": [
    "rf_uncustomized = RandomForestClassifier(random_state=123)\n",
    "rf_uncustomized.fit(ds_bc_train_x, ds_bc_train_y)\n",
    "# 훈련 데이터 정확도\n",
    "print(\"Accucary on training set: {:.3f}\".format(rf_uncustomized.score(ds_bc_train_x, ds_bc_train_y)))\n",
    "# test 데이터 정확도\n",
    "print(\"Accucary on test set: {:.3f}\".format(rf_uncustomized.score(ds_bc_test_x, ds_bc_test_y)))"
   ]
  },
  {
   "cell_type": "markdown",
   "metadata": {},
   "source": [
    "# 0.962의 정확도를 가진 RF 모델"
   ]
  },
  {
   "cell_type": "markdown",
   "metadata": {},
   "source": [
    "#  -------------------------------------------------------------------------\n",
    "# manual parameter 선택을 위한 랜덤포레스트 모형 생성\n",
    "#  -------------------------------------------------------------------------"
   ]
  },
  {
   "cell_type": "code",
   "execution_count": 80,
   "metadata": {},
   "outputs": [
    {
     "data": {
      "text/plain": [
       "RandomForestClassifier(bootstrap=True, class_weight=None, criterion='gini',\n",
       "            max_depth=None, max_features='auto', max_leaf_nodes=None,\n",
       "            min_impurity_decrease=0.0, min_impurity_split=None,\n",
       "            min_samples_leaf=1, min_samples_split=2,\n",
       "            min_weight_fraction_leaf=0.0, n_estimators=10, n_jobs=None,\n",
       "            oob_score=False, random_state=123, verbose=0, warm_start=False)"
      ]
     },
     "execution_count": 80,
     "metadata": {},
     "output_type": "execute_result"
    }
   ],
   "source": [
    "rf_uncustomized"
   ]
  },
  {
   "cell_type": "markdown",
   "metadata": {},
   "source": [
    "# default: 트리의 수 n_estimators=10\n",
    "# criterion='gini', min_samples_leaf=1"
   ]
  },
  {
   "cell_type": "markdown",
   "metadata": {},
   "source": [
    "# 1. NumberofTree 트리의 수에 따른 정확도 변화: 1~30"
   ]
  },
  {
   "cell_type": "code",
   "execution_count": 122,
   "metadata": {},
   "outputs": [
    {
     "data": {
      "text/html": [
       "<div>\n",
       "<style scoped>\n",
       "    .dataframe tbody tr th:only-of-type {\n",
       "        vertical-align: middle;\n",
       "    }\n",
       "\n",
       "    .dataframe tbody tr th {\n",
       "        vertical-align: top;\n",
       "    }\n",
       "\n",
       "    .dataframe thead th {\n",
       "        text-align: right;\n",
       "    }\n",
       "</style>\n",
       "<table border=\"1\" class=\"dataframe\">\n",
       "  <thead>\n",
       "    <tr style=\"text-align: right;\">\n",
       "      <th></th>\n",
       "      <th>NumberofTree</th>\n",
       "      <th>TrainAccuracy</th>\n",
       "      <th>TestAccuracy</th>\n",
       "    </tr>\n",
       "  </thead>\n",
       "  <tbody>\n",
       "    <tr>\n",
       "      <th>0</th>\n",
       "      <td>1</td>\n",
       "      <td>0.975787</td>\n",
       "      <td>0.923077</td>\n",
       "    </tr>\n",
       "    <tr>\n",
       "      <th>1</th>\n",
       "      <td>2</td>\n",
       "      <td>0.978208</td>\n",
       "      <td>0.929487</td>\n",
       "    </tr>\n",
       "    <tr>\n",
       "      <th>2</th>\n",
       "      <td>3</td>\n",
       "      <td>0.997579</td>\n",
       "      <td>0.948718</td>\n",
       "    </tr>\n",
       "    <tr>\n",
       "      <th>3</th>\n",
       "      <td>4</td>\n",
       "      <td>0.995157</td>\n",
       "      <td>0.955128</td>\n",
       "    </tr>\n",
       "    <tr>\n",
       "      <th>4</th>\n",
       "      <td>5</td>\n",
       "      <td>0.997579</td>\n",
       "      <td>0.948718</td>\n",
       "    </tr>\n",
       "    <tr>\n",
       "      <th>5</th>\n",
       "      <td>6</td>\n",
       "      <td>0.995157</td>\n",
       "      <td>0.961538</td>\n",
       "    </tr>\n",
       "    <tr>\n",
       "      <th>6</th>\n",
       "      <td>7</td>\n",
       "      <td>0.997579</td>\n",
       "      <td>0.955128</td>\n",
       "    </tr>\n",
       "    <tr>\n",
       "      <th>7</th>\n",
       "      <td>8</td>\n",
       "      <td>0.995157</td>\n",
       "      <td>0.961538</td>\n",
       "    </tr>\n",
       "    <tr>\n",
       "      <th>8</th>\n",
       "      <td>9</td>\n",
       "      <td>0.997579</td>\n",
       "      <td>0.948718</td>\n",
       "    </tr>\n",
       "    <tr>\n",
       "      <th>9</th>\n",
       "      <td>10</td>\n",
       "      <td>0.997579</td>\n",
       "      <td>0.942308</td>\n",
       "    </tr>\n",
       "    <tr>\n",
       "      <th>10</th>\n",
       "      <td>11</td>\n",
       "      <td>0.997579</td>\n",
       "      <td>0.942308</td>\n",
       "    </tr>\n",
       "    <tr>\n",
       "      <th>11</th>\n",
       "      <td>12</td>\n",
       "      <td>1.000000</td>\n",
       "      <td>0.942308</td>\n",
       "    </tr>\n",
       "    <tr>\n",
       "      <th>12</th>\n",
       "      <td>13</td>\n",
       "      <td>1.000000</td>\n",
       "      <td>0.942308</td>\n",
       "    </tr>\n",
       "    <tr>\n",
       "      <th>13</th>\n",
       "      <td>14</td>\n",
       "      <td>0.997579</td>\n",
       "      <td>0.942308</td>\n",
       "    </tr>\n",
       "    <tr>\n",
       "      <th>14</th>\n",
       "      <td>15</td>\n",
       "      <td>1.000000</td>\n",
       "      <td>0.948718</td>\n",
       "    </tr>\n",
       "    <tr>\n",
       "      <th>15</th>\n",
       "      <td>16</td>\n",
       "      <td>1.000000</td>\n",
       "      <td>0.948718</td>\n",
       "    </tr>\n",
       "  </tbody>\n",
       "</table>\n",
       "</div>"
      ],
      "text/plain": [
       "    NumberofTree  TrainAccuracy  TestAccuracy\n",
       "0              1       0.975787      0.923077\n",
       "1              2       0.978208      0.929487\n",
       "2              3       0.997579      0.948718\n",
       "3              4       0.995157      0.955128\n",
       "4              5       0.997579      0.948718\n",
       "5              6       0.995157      0.961538\n",
       "6              7       0.997579      0.955128\n",
       "7              8       0.995157      0.961538\n",
       "8              9       0.997579      0.948718\n",
       "9             10       0.997579      0.942308\n",
       "10            11       0.997579      0.942308\n",
       "11            12       1.000000      0.942308\n",
       "12            13       1.000000      0.942308\n",
       "13            14       0.997579      0.942308\n",
       "14            15       1.000000      0.948718\n",
       "15            16       1.000000      0.948718"
      ]
     },
     "execution_count": 122,
     "metadata": {},
     "output_type": "execute_result"
    }
   ],
   "source": [
    "#트리수 최대값:30;1~ 30까지 실행\n",
    "n_iter_tree=30\n",
    "#트레인 및 테스트 정확도 결과 저장용\n",
    "train_accuracy = []\n",
    "test_accuracy = []\n",
    "#트리 최대수(1~30)별로 랜덤 포레스트 모델 생성 및 정확도값 저장\n",
    "\n",
    "# 트리 최대수(1~30)별로 랜덤 포레스트 모델 생성 및 정확도값 저장\n",
    "for n_tree in range(1, n_iter_tree):\n",
    "    rf1 = RandomForestClassifier(n_estimators=n_tree,random_state=1234)\n",
    "    rf1.fit(ds_bc_train_x,ds_bc_train_y)\n",
    "    train_accuracy.append(rf1.score(ds_bc_train_x,ds_bc_train_y))\n",
    "    test_accuracy.append(rf1.score(ds_bc_test_x,ds_bc_test_y))\n",
    "    \n",
    "#저장된 모델의 트레인/테스트 데이터 분류 정확도 테이블 생성\n",
    "ds_accuracy1 = pd.DataFrame()\n",
    "ds_accuracy1[\"NumberofTree\"]=[n_tree for n_tree in range(1,n_iter_tree)]\n",
    "ds_accuracy1[\"TrainAccuracy\"] =train_accuracy\n",
    "ds_accuracy1[\"TestAccuracy\"] =test_accuracy\n",
    "ds_accuracy1.head(16)"
   ]
  },
  {
   "cell_type": "code",
   "execution_count": 123,
   "metadata": {},
   "outputs": [
    {
     "data": {
      "text/plain": [
       "<matplotlib.axes._subplots.AxesSubplot at 0x7fd587c260b8>"
      ]
     },
     "execution_count": 123,
     "metadata": {},
     "output_type": "execute_result"
    },
    {
     "data": {
      "image/png": "[encoded data removed]",
      "text/plain": [
       "<Figure size 432x288 with 1 Axes>"
      ]
     },
     "metadata": {
      "needs_background": "light"
     },
     "output_type": "display_data"
    }
   ],
   "source": [
    "#테스트 결과\n",
    "ds_accuracy1\n",
    "#그래프 생성\n",
    "ds_accuracy1.set_index(\"NumberofTree\",inplace=False).plot.line()"
   ]
  },
  {
   "cell_type": "markdown",
   "metadata": {},
   "source": [
    "# 6개 정도의 트리 갯수에서 높은 테스트 정확도를 보임"
   ]
  },
  {
   "cell_type": "markdown",
   "metadata": {},
   "source": [
    "#  "
   ]
  },
  {
   "cell_type": "markdown",
   "metadata": {},
   "source": [
    "# 2.Depth 깊이에 따라 : 1~15 by criterion"
   ]
  },
  {
   "cell_type": "code",
   "execution_count": 124,
   "metadata": {},
   "outputs": [
    {
     "data": {
      "text/html": [
       "<div>\n",
       "<style scoped>\n",
       "    .dataframe tbody tr th:only-of-type {\n",
       "        vertical-align: middle;\n",
       "    }\n",
       "\n",
       "    .dataframe tbody tr th {\n",
       "        vertical-align: top;\n",
       "    }\n",
       "\n",
       "    .dataframe thead th {\n",
       "        text-align: right;\n",
       "    }\n",
       "</style>\n",
       "<table border=\"1\" class=\"dataframe\">\n",
       "  <thead>\n",
       "    <tr style=\"text-align: right;\">\n",
       "      <th></th>\n",
       "      <th>Criterion</th>\n",
       "      <th>Depth</th>\n",
       "      <th>TrainAccuracy</th>\n",
       "      <th>TestAccuracy</th>\n",
       "    </tr>\n",
       "  </thead>\n",
       "  <tbody>\n",
       "    <tr>\n",
       "      <th>0</th>\n",
       "      <td>gini</td>\n",
       "      <td>1</td>\n",
       "      <td>0.941889</td>\n",
       "      <td>0.942308</td>\n",
       "    </tr>\n",
       "    <tr>\n",
       "      <th>1</th>\n",
       "      <td>gini</td>\n",
       "      <td>2</td>\n",
       "      <td>0.961259</td>\n",
       "      <td>0.923077</td>\n",
       "    </tr>\n",
       "    <tr>\n",
       "      <th>2</th>\n",
       "      <td>gini</td>\n",
       "      <td>3</td>\n",
       "      <td>0.983051</td>\n",
       "      <td>0.948718</td>\n",
       "    </tr>\n",
       "    <tr>\n",
       "      <th>3</th>\n",
       "      <td>gini</td>\n",
       "      <td>4</td>\n",
       "      <td>0.990315</td>\n",
       "      <td>0.942308</td>\n",
       "    </tr>\n",
       "    <tr>\n",
       "      <th>4</th>\n",
       "      <td>gini</td>\n",
       "      <td>5</td>\n",
       "      <td>1.000000</td>\n",
       "      <td>0.967949</td>\n",
       "    </tr>\n",
       "    <tr>\n",
       "      <th>5</th>\n",
       "      <td>gini</td>\n",
       "      <td>6</td>\n",
       "      <td>0.997579</td>\n",
       "      <td>0.955128</td>\n",
       "    </tr>\n",
       "    <tr>\n",
       "      <th>6</th>\n",
       "      <td>gini</td>\n",
       "      <td>7</td>\n",
       "      <td>0.997579</td>\n",
       "      <td>0.942308</td>\n",
       "    </tr>\n",
       "  </tbody>\n",
       "</table>\n",
       "</div>"
      ],
      "text/plain": [
       "  Criterion  Depth  TrainAccuracy  TestAccuracy\n",
       "0      gini      1       0.941889      0.942308\n",
       "1      gini      2       0.961259      0.923077\n",
       "2      gini      3       0.983051      0.948718\n",
       "3      gini      4       0.990315      0.942308\n",
       "4      gini      5       1.000000      0.967949\n",
       "5      gini      6       0.997579      0.955128\n",
       "6      gini      7       0.997579      0.942308"
      ]
     },
     "execution_count": 124,
     "metadata": {},
     "output_type": "execute_result"
    }
   ],
   "source": [
    "# train 및 test 정확도 결과 저장용\n",
    "train_accuracy = []\n",
    "test_accuracy = []\n",
    "# 적용가능한 criterion: gini, entropy\n",
    "para_max_depth = [i+1 for i in range(15)]*2\n",
    "n_iter_depth = 15\n",
    "# criterion 15개씩 리스트 생성\n",
    "para_criterion = [\"gini\"]*n_iter_depth + [\"entropy\"] * n_iter_depth\n",
    "# criterion: gini, entropy & max_depth: 1~30까지 반복 실행\n",
    "\n",
    "for (criterion, depth) in zip(para_criterion,para_max_depth):\n",
    "    rf3 = RandomForestClassifier(criterion = criterion,max_depth=depth, random_state=1234)\n",
    "    rf3.fit(ds_bc_train_x, ds_bc_train_y)\n",
    "    train_accuracy.append(rf3.score(ds_bc_train_x, ds_bc_train_y))\n",
    "    test_accuracy.append(rf3.score(ds_bc_test_x, ds_bc_test_y))\n",
    "# 저장된 모델의 criterion 및 train/test 데이터 분류 정확도 테이블 생성\n",
    "ds_accuracy3 = pd.DataFrame()\n",
    "ds_accuracy3[\"Criterion\"] = para_criterion\n",
    "ds_accuracy3[\"Depth\"] = para_max_depth\n",
    "ds_accuracy3[\"TrainAccuracy\"] = train_accuracy\n",
    "ds_accuracy3[\"TestAccuracy\"] = test_accuracy\n",
    "ds_accuracy3.head(7)"
   ]
  },
  {
   "cell_type": "code",
   "execution_count": 125,
   "metadata": {},
   "outputs": [
    {
     "data": {
      "text/plain": [
       "<matplotlib.axes._subplots.AxesSubplot at 0x7fd587cf6e80>"
      ]
     },
     "execution_count": 125,
     "metadata": {},
     "output_type": "execute_result"
    },
    {
     "data": {
      "image/png": "[encoded data removed]",
      "text/plain": [
       "<Figure size 432x288 with 1 Axes>"
      ]
     },
     "metadata": {
      "needs_background": "light"
     },
     "output_type": "display_data"
    }
   ],
   "source": [
    "#그래프생성 \n",
    "accuracy3_melt = pd.melt(ds_accuracy3, id_vars=[\"Criterion\",\"Depth\"])\n",
    "accuracy3_melt[\"Accuracy\"] = accuracy3_melt[\"Criterion\"] + \"_\" + accuracy3_melt[\"variable\"]\n",
    "sns.lineplot( x= \"Depth\", y=\"value\", hue =\"Accuracy\", data = accuracy3_melt)"
   ]
  },
  {
   "cell_type": "markdown",
   "metadata": {},
   "source": [
    "# train :\n",
    "# depth가 커질수록 정확도 증가 경향\n",
    "\n",
    "\n",
    "\n",
    "# test :\n",
    "# gini에서 depth가 5인 경우 높은 정확도를 보이나 복잡할 수 있음\n",
    "# 따라서 3의 0.94수준도 나쁘지 않을 것으로 예상"
   ]
  },
  {
   "cell_type": "markdown",
   "metadata": {},
   "source": [
    "#  "
   ]
  },
  {
   "cell_type": "markdown",
   "metadata": {},
   "source": [
    "# 3.min_samples_leaf 최소 잎 크기에 따라 : 1~69"
   ]
  },
  {
   "cell_type": "code",
   "execution_count": 87,
   "metadata": {},
   "outputs": [
    {
     "data": {
      "text/plain": [
       "<matplotlib.axes._subplots.AxesSubplot at 0x7fd588051400>"
      ]
     },
     "execution_count": 87,
     "metadata": {},
     "output_type": "execute_result"
    },
    {
     "data": {
      "image/png": "[encoded data removed]",
      "text/plain": [
       "<Figure size 432x288 with 1 Axes>"
      ]
     },
     "metadata": {
      "needs_background": "light"
     },
     "output_type": "display_data"
    }
   ],
   "source": [
    "train_accuracy =[]; test_accuracy =[]\n",
    "\n",
    "n_depth = 5\n",
    "n_iter_min_leaf_size =70\n",
    "\n",
    "para_criterion= [\"entropy\"] *n_iter_min_leaf_size\n",
    "para_min_leaf_size = [i+1 for i in range(n_iter_min_leaf_size)]\n",
    "\n",
    "for(criterion,leafsize) in zip(para_criterion, para_min_leaf_size):\n",
    "    rf4 = RandomForestClassifier(criterion = criterion, max_depth = n_depth, min_samples_leaf = leafsize,random_state = 1234)\n",
    "    rf4.fit(ds_bc_train_x, ds_bc_train_y)\n",
    "    \n",
    "    train_accuracy.append(rf4.score(ds_bc_train_x, ds_bc_train_y))\n",
    "    test_accuracy.append(rf4.score(ds_bc_test_x, ds_bc_test_y))\n",
    "accuracy4= pd.DataFrame()\n",
    "accuracy4[\"Criterion\"] = para_criterion\n",
    "accuracy4[\"Depth\"] = n_depth\n",
    "accuracy4[\"MinLeafSize\"] = para_min_leaf_size\n",
    "accuracy4[\"TrainAccuracy\"] = train_accuracy\n",
    "accuracy4[\"TestAccuracy\"] = test_accuracy\n",
    "#그래프\n",
    "accuracy4_melt = pd.melt(accuracy4, id_vars=[\"Criterion\",\"Depth\",\"MinLeafSize\"])\n",
    "accuracy4_melt[\"Accuracy\"] = accuracy4_melt[\"Criterion\"] + \"_\" + accuracy4_melt[\"variable\"]\n",
    "sns.lineplot( x= \"MinLeafSize\", y=\"value\", hue =\"Accuracy\", data = accuracy4_melt)"
   ]
  },
  {
   "cell_type": "markdown",
   "metadata": {},
   "source": [
    "# test 정확도는 다소 변동이 있어도\n",
    "# min_leaf_size가 커질 수록 대체로 감소하는 경향\n",
    "# min_leaf_size 낮아야 정확도가 상승 (1일수록 정확히 분류)\n",
    "# 51~52여도 높은 정확도가 가능"
   ]
  },
  {
   "cell_type": "markdown",
   "metadata": {},
   "source": [
    "#  ----------------------------------------------------------------------\n",
    "# 최종 랜덤 포레스트 모형\n",
    "#  ----------------------------------------------------------------------"
   ]
  },
  {
   "cell_type": "code",
   "execution_count": 238,
   "metadata": {},
   "outputs": [],
   "source": [
    "finalModel = RandomForestClassifier(criterion = \"gini\", max_depth = 2, \n",
    "                                    n_estimators = 9 , min_samples_leaf = 39, random_state = 1234)"
   ]
  },
  {
   "cell_type": "code",
   "execution_count": 239,
   "metadata": {},
   "outputs": [
    {
     "data": {
      "text/plain": [
       "RandomForestClassifier(bootstrap=True, class_weight=None, criterion='gini',\n",
       "            max_depth=2, max_features='auto', max_leaf_nodes=None,\n",
       "            min_impurity_decrease=0.0, min_impurity_split=None,\n",
       "            min_samples_leaf=39, min_samples_split=2,\n",
       "            min_weight_fraction_leaf=0.0, n_estimators=9, n_jobs=None,\n",
       "            oob_score=False, random_state=1234, verbose=0,\n",
       "            warm_start=False)"
      ]
     },
     "execution_count": 239,
     "metadata": {},
     "output_type": "execute_result"
    }
   ],
   "source": [
    "finalModel.fit(ds_bc_train_x,ds_bc_train_y)"
   ]
  },
  {
   "cell_type": "code",
   "execution_count": 241,
   "metadata": {},
   "outputs": [
    {
     "name": "stdout",
     "output_type": "stream",
     "text": [
      "RandomForest_Accuracy: 0.955\n",
      "DecisionTree_Accuracy: 0.885\n"
     ]
    },
    {
     "data": {
      "image/svg+xml": [
       "<?xml version=\"1.0\" encoding=\"UTF-8\" standalone=\"no\"?>\n",
       "<!DOCTYPE svg PUBLIC \"-//W3C//DTD SVG 1.1//EN\"\n",
       " \"http://www.w3.org/Graphics/SVG/1.1/DTD/svg11.dtd\">\n",
       "<!-- Generated by graphviz version 2.40.1 (20161225.0304)\n",
       " -->\n",
       "<!-- Title: Tree Pages: 1 -->\n",
       "<svg width=\"504pt\" height=\"269pt\"\n",
       " viewBox=\"0.00 0.00 504.00 269.00\" xmlns=\"http://www.w3.org/2000/svg\" xmlns:xlink=\"http://www.w3.org/1999/xlink\">\n",
       "<g id=\"graph0\" class=\"graph\" transform=\"scale(1 1) rotate(0) translate(4 265)\">\n",
       "<title>Tree</title>\n",
       "<polygon fill=\"#ffffff\" stroke=\"transparent\" points=\"-4,4 -4,-265 500,-265 500,4 -4,4\"/>\n",
       "<!-- 0 -->\n",
       "<g id=\"node1\" class=\"node\">\n",
       "<title>0</title>\n",
       "<polygon fill=\"#e58139\" fill-opacity=\"0.372549\" stroke=\"#000000\" points=\"340.5,-261 154.5,-261 154.5,-193 340.5,-193 340.5,-261\"/>\n",
       "<text text-anchor=\"middle\" x=\"247.5\" y=\"-245.8\" font-family=\"Times,serif\" font-size=\"14.00\" fill=\"#000000\">mean concave points &lt;= 0.049</text>\n",
       "<text text-anchor=\"middle\" x=\"247.5\" y=\"-230.8\" font-family=\"Times,serif\" font-size=\"14.00\" fill=\"#000000\">samples = 413</text>\n",
       "<text text-anchor=\"middle\" x=\"247.5\" y=\"-215.8\" font-family=\"Times,serif\" font-size=\"14.00\" fill=\"#000000\">value = [254, 159]</text>\n",
       "<text text-anchor=\"middle\" x=\"247.5\" y=\"-200.8\" font-family=\"Times,serif\" font-size=\"14.00\" fill=\"#000000\">class = 0</text>\n",
       "</g>\n",
       "<!-- 1 -->\n",
       "<g id=\"node2\" class=\"node\">\n",
       "<title>1</title>\n",
       "<polygon fill=\"#e58139\" fill-opacity=\"0.952941\" stroke=\"#000000\" points=\"231.5,-157 97.5,-157 97.5,-89 231.5,-89 231.5,-157\"/>\n",
       "<text text-anchor=\"middle\" x=\"164.5\" y=\"-141.8\" font-family=\"Times,serif\" font-size=\"14.00\" fill=\"#000000\">worst area &lt;= 731.65</text>\n",
       "<text text-anchor=\"middle\" x=\"164.5\" y=\"-126.8\" font-family=\"Times,serif\" font-size=\"14.00\" fill=\"#000000\">samples = 244</text>\n",
       "<text text-anchor=\"middle\" x=\"164.5\" y=\"-111.8\" font-family=\"Times,serif\" font-size=\"14.00\" fill=\"#000000\">value = [233, 11]</text>\n",
       "<text text-anchor=\"middle\" x=\"164.5\" y=\"-96.8\" font-family=\"Times,serif\" font-size=\"14.00\" fill=\"#000000\">class = 0</text>\n",
       "</g>\n",
       "<!-- 0&#45;&gt;1 -->\n",
       "<g id=\"edge1\" class=\"edge\">\n",
       "<title>0&#45;&gt;1</title>\n",
       "<path fill=\"none\" stroke=\"#000000\" d=\"M220.3227,-192.9465C213.2288,-184.0578 205.4985,-174.3716 198.114,-165.1188\"/>\n",
       "<polygon fill=\"#000000\" stroke=\"#000000\" points=\"200.7118,-162.7628 191.7384,-157.13 195.2406,-167.1293 200.7118,-162.7628\"/>\n",
       "<text text-anchor=\"middle\" x=\"188.9484\" y=\"-178.2738\" font-family=\"Times,serif\" font-size=\"14.00\" fill=\"#000000\">True</text>\n",
       "</g>\n",
       "<!-- 4 -->\n",
       "<g id=\"node5\" class=\"node\">\n",
       "<title>4</title>\n",
       "<polygon fill=\"#399de5\" fill-opacity=\"0.858824\" stroke=\"#000000\" points=\"413.5,-157 249.5,-157 249.5,-89 413.5,-89 413.5,-157\"/>\n",
       "<text text-anchor=\"middle\" x=\"331.5\" y=\"-141.8\" font-family=\"Times,serif\" font-size=\"14.00\" fill=\"#000000\">worst perimeter &lt;= 114.65</text>\n",
       "<text text-anchor=\"middle\" x=\"331.5\" y=\"-126.8\" font-family=\"Times,serif\" font-size=\"14.00\" fill=\"#000000\">samples = 169</text>\n",
       "<text text-anchor=\"middle\" x=\"331.5\" y=\"-111.8\" font-family=\"Times,serif\" font-size=\"14.00\" fill=\"#000000\">value = [21, 148]</text>\n",
       "<text text-anchor=\"middle\" x=\"331.5\" y=\"-96.8\" font-family=\"Times,serif\" font-size=\"14.00\" fill=\"#000000\">class = 1</text>\n",
       "</g>\n",
       "<!-- 0&#45;&gt;4 -->\n",
       "<g id=\"edge4\" class=\"edge\">\n",
       "<title>0&#45;&gt;4</title>\n",
       "<path fill=\"none\" stroke=\"#000000\" d=\"M275.0047,-192.9465C282.1841,-184.0578 290.0076,-174.3716 297.481,-165.1188\"/>\n",
       "<polygon fill=\"#000000\" stroke=\"#000000\" points=\"300.3729,-167.1086 303.9335,-157.13 294.9273,-162.7102 300.3729,-167.1086\"/>\n",
       "<text text-anchor=\"middle\" x=\"306.5781\" y=\"-178.2897\" font-family=\"Times,serif\" font-size=\"14.00\" fill=\"#000000\">False</text>\n",
       "</g>\n",
       "<!-- 2 -->\n",
       "<g id=\"node3\" class=\"node\">\n",
       "<title>2</title>\n",
       "<polygon fill=\"#e58139\" fill-opacity=\"0.996078\" stroke=\"#000000\" points=\"105,-53 0,-53 0,0 105,0 105,-53\"/>\n",
       "<text text-anchor=\"middle\" x=\"52.5\" y=\"-37.8\" font-family=\"Times,serif\" font-size=\"14.00\" fill=\"#000000\">samples = 205</text>\n",
       "<text text-anchor=\"middle\" x=\"52.5\" y=\"-22.8\" font-family=\"Times,serif\" font-size=\"14.00\" fill=\"#000000\">value = [204, 1]</text>\n",
       "<text text-anchor=\"middle\" x=\"52.5\" y=\"-7.8\" font-family=\"Times,serif\" font-size=\"14.00\" fill=\"#000000\">class = 0</text>\n",
       "</g>\n",
       "<!-- 1&#45;&gt;2 -->\n",
       "<g id=\"edge2\" class=\"edge\">\n",
       "<title>1&#45;&gt;2</title>\n",
       "<path fill=\"none\" stroke=\"#000000\" d=\"M125.013,-88.9777C114.0664,-79.546 102.1953,-69.3178 91.2889,-59.9208\"/>\n",
       "<polygon fill=\"#000000\" stroke=\"#000000\" points=\"93.4053,-57.1244 83.5449,-53.2485 88.8361,-62.4274 93.4053,-57.1244\"/>\n",
       "</g>\n",
       "<!-- 3 -->\n",
       "<g id=\"node4\" class=\"node\">\n",
       "<title>3</title>\n",
       "<polygon fill=\"#e58139\" fill-opacity=\"0.654902\" stroke=\"#000000\" points=\"228,-53 123,-53 123,0 228,0 228,-53\"/>\n",
       "<text text-anchor=\"middle\" x=\"175.5\" y=\"-37.8\" font-family=\"Times,serif\" font-size=\"14.00\" fill=\"#000000\">samples = 39</text>\n",
       "<text text-anchor=\"middle\" x=\"175.5\" y=\"-22.8\" font-family=\"Times,serif\" font-size=\"14.00\" fill=\"#000000\">value = [29, 10]</text>\n",
       "<text text-anchor=\"middle\" x=\"175.5\" y=\"-7.8\" font-family=\"Times,serif\" font-size=\"14.00\" fill=\"#000000\">class = 0</text>\n",
       "</g>\n",
       "<!-- 1&#45;&gt;3 -->\n",
       "<g id=\"edge3\" class=\"edge\">\n",
       "<title>1&#45;&gt;3</title>\n",
       "<path fill=\"none\" stroke=\"#000000\" d=\"M168.3782,-88.9777C169.328,-80.6449 170.3488,-71.6903 171.3124,-63.2364\"/>\n",
       "<polygon fill=\"#000000\" stroke=\"#000000\" points=\"174.7958,-63.5806 172.451,-53.2485 167.8408,-62.7877 174.7958,-63.5806\"/>\n",
       "</g>\n",
       "<!-- 5 -->\n",
       "<g id=\"node6\" class=\"node\">\n",
       "<title>5</title>\n",
       "<polygon fill=\"#399de5\" fill-opacity=\"0.223529\" stroke=\"#000000\" points=\"373,-53 268,-53 268,0 373,0 373,-53\"/>\n",
       "<text text-anchor=\"middle\" x=\"320.5\" y=\"-37.8\" font-family=\"Times,serif\" font-size=\"14.00\" fill=\"#000000\">samples = 48</text>\n",
       "<text text-anchor=\"middle\" x=\"320.5\" y=\"-22.8\" font-family=\"Times,serif\" font-size=\"14.00\" fill=\"#000000\">value = [21, 27]</text>\n",
       "<text text-anchor=\"middle\" x=\"320.5\" y=\"-7.8\" font-family=\"Times,serif\" font-size=\"14.00\" fill=\"#000000\">class = 1</text>\n",
       "</g>\n",
       "<!-- 4&#45;&gt;5 -->\n",
       "<g id=\"edge5\" class=\"edge\">\n",
       "<title>4&#45;&gt;5</title>\n",
       "<path fill=\"none\" stroke=\"#000000\" d=\"M327.6218,-88.9777C326.672,-80.6449 325.6512,-71.6903 324.6876,-63.2364\"/>\n",
       "<polygon fill=\"#000000\" stroke=\"#000000\" points=\"328.1592,-62.7877 323.549,-53.2485 321.2042,-63.5806 328.1592,-62.7877\"/>\n",
       "</g>\n",
       "<!-- 6 -->\n",
       "<g id=\"node7\" class=\"node\">\n",
       "<title>6</title>\n",
       "<polygon fill=\"#399de5\" stroke=\"#000000\" points=\"496,-53 391,-53 391,0 496,0 496,-53\"/>\n",
       "<text text-anchor=\"middle\" x=\"443.5\" y=\"-37.8\" font-family=\"Times,serif\" font-size=\"14.00\" fill=\"#000000\">samples = 121</text>\n",
       "<text text-anchor=\"middle\" x=\"443.5\" y=\"-22.8\" font-family=\"Times,serif\" font-size=\"14.00\" fill=\"#000000\">value = [0, 121]</text>\n",
       "<text text-anchor=\"middle\" x=\"443.5\" y=\"-7.8\" font-family=\"Times,serif\" font-size=\"14.00\" fill=\"#000000\">class = 1</text>\n",
       "</g>\n",
       "<!-- 4&#45;&gt;6 -->\n",
       "<g id=\"edge6\" class=\"edge\">\n",
       "<title>4&#45;&gt;6</title>\n",
       "<path fill=\"none\" stroke=\"#000000\" d=\"M370.987,-88.9777C381.9336,-79.546 393.8047,-69.3178 404.7111,-59.9208\"/>\n",
       "<polygon fill=\"#000000\" stroke=\"#000000\" points=\"407.1639,-62.4274 412.4551,-53.2485 402.5947,-57.1244 407.1639,-62.4274\"/>\n",
       "</g>\n",
       "</g>\n",
       "</svg>\n"
      ],
      "text/plain": [
       "<graphviz.files.Source at 0x7fd588393780>"
      ]
     },
     "metadata": {},
     "output_type": "display_data"
    }
   ],
   "source": [
    "print(\"RandomForest_Accuracy: {0:.3f}\".format(finalModel.score(ds_bc_test_x,ds_bc_test_y).round(3)))\n",
    "#tree model training\n",
    "\n",
    "#트리모델 생성, criterion = \"gini\", max_depth = 2, n_estimators = 9 , min_samples_leaf = 30으로 모델 생성\n",
    "tree = DecisionTreeClassifier(criterion=\"gini\",max_depth=2,\n",
    "                            min_samples_leaf=39,random_state=1234)\n",
    "tree.fit(ds_bc_train_x,ds_bc_train_y)\n",
    "\n",
    "print(\"DecisionTree_Accuracy: {0:.3f}\".format(tree.score(ds_bc_test_x,ds_bc_test_y).round(3)))\n",
    "\n",
    "#트리모델을 tree.dot파일로 저장\n",
    "export_graphviz(tree,out_file=\"tree.dot\", class_names=[\"0\",\"1\"],\n",
    "              feature_names=ds_bc_train_x.columns,impurity=False,filled=True)\n",
    "os.environ[\"PATH\"] += os.pathsep +\"\"\n",
    "\n",
    "#graphviz를 이용해 트리 모델 시각화\n",
    "with open(\"tree.dot\") as f:\n",
    "    dot_graph = f.read()\n",
    "display(graphviz.Source(dot_graph))"
   ]
  },
  {
   "cell_type": "markdown",
   "metadata": {},
   "source": [
    "# 여러 parameter를 변경하면서 정확도를 개선\n",
    "# criterion=\"gini\",max_depth=2, min_samples_leaf=39,  n_estimators = 9을 선택\n",
    "# 0.955의 정확도를 가진 RF 모형\n",
    "#  \n",
    "# depth가 커지면 정확도는 올라가나 모델 자체가 복잡해져 일반성이 약해짐\n",
    "# 위의 해당 모델은 depth가 낮아 판단 기준이 간결하고 쉽게 해석과 적용이 가능한 모델\n",
    "#  min_samples_leaf가 작아지면 정확도는 올라가나, 최소 리프가 39이므로\n",
    "#  일반성을 위해 39까지 최대로 키움 \n",
    "#  \n",
    "# DT는 그래픽 참고용이지 실제 RF 해석과 무관\n"
   ]
  },
  {
   "cell_type": "code",
   "execution_count": 242,
   "metadata": {},
   "outputs": [
    {
     "data": {
      "image/png": "[encoded data removed]",
      "text/plain": [
       "<Figure size 432x288 with 1 Axes>"
      ]
     },
     "metadata": {
      "needs_background": "light"
     },
     "output_type": "display_data"
    }
   ],
   "source": [
    "rf_model = RandomForestClassifier(criterion = \"gini\", max_depth = 2, \n",
    "                                    n_estimators = 9 , min_samples_leaf = 39, random_state = 1234)\n",
    "rf_model.fit(ds_bc_train_x, ds_bc_train_y)\n",
    "\n",
    "feature_importance = pd.DataFrame()\n",
    "feature_importance[\"feature\"] = ds_bc_train_x.columns\n",
    "feature_importance[\"importance\"] = rf_model.feature_importances_\n",
    "feature_importance.sort_values( by = \"importance\" , ascending = False)\n",
    "\n",
    "def plot_feature_importance(model):\n",
    "    n_features = ds_bc_train_x.shape[1]\n",
    "    plt.barh(range(n_features), model.feature_importances_ , align= \"center\")\n",
    "    plt.yticks(np.arange(n_features), ds_bc_train_x.columns)\n",
    "    plt.xlabel(\"importance of explanatory variable\")\n",
    "    plt.ylabel(\"explanatory variable\")\n",
    "    plt.ylim(-1, n_features)\n",
    "    \n",
    "plot_feature_importance(rf_model)"
   ]
  },
  {
   "cell_type": "code",
   "execution_count": 243,
   "metadata": {},
   "outputs": [
    {
     "data": {
      "text/html": [
       "<div>\n",
       "<style scoped>\n",
       "    .dataframe tbody tr th:only-of-type {\n",
       "        vertical-align: middle;\n",
       "    }\n",
       "\n",
       "    .dataframe tbody tr th {\n",
       "        vertical-align: top;\n",
       "    }\n",
       "\n",
       "    .dataframe thead th {\n",
       "        text-align: right;\n",
       "    }\n",
       "</style>\n",
       "<table border=\"1\" class=\"dataframe\">\n",
       "  <thead>\n",
       "    <tr style=\"text-align: right;\">\n",
       "      <th></th>\n",
       "      <th>Feature</th>\n",
       "      <th>Importance</th>\n",
       "    </tr>\n",
       "  </thead>\n",
       "  <tbody>\n",
       "    <tr>\n",
       "      <th>27</th>\n",
       "      <td>worst concave points</td>\n",
       "      <td>0.181977</td>\n",
       "    </tr>\n",
       "    <tr>\n",
       "      <th>23</th>\n",
       "      <td>worst area</td>\n",
       "      <td>0.159930</td>\n",
       "    </tr>\n",
       "    <tr>\n",
       "      <th>6</th>\n",
       "      <td>mean concavity</td>\n",
       "      <td>0.154029</td>\n",
       "    </tr>\n",
       "    <tr>\n",
       "      <th>7</th>\n",
       "      <td>mean concave points</td>\n",
       "      <td>0.153299</td>\n",
       "    </tr>\n",
       "    <tr>\n",
       "      <th>22</th>\n",
       "      <td>worst perimeter</td>\n",
       "      <td>0.095444</td>\n",
       "    </tr>\n",
       "    <tr>\n",
       "      <th>26</th>\n",
       "      <td>worst concavity</td>\n",
       "      <td>0.073047</td>\n",
       "    </tr>\n",
       "    <tr>\n",
       "      <th>13</th>\n",
       "      <td>area error</td>\n",
       "      <td>0.064737</td>\n",
       "    </tr>\n",
       "    <tr>\n",
       "      <th>3</th>\n",
       "      <td>mean area</td>\n",
       "      <td>0.023842</td>\n",
       "    </tr>\n",
       "    <tr>\n",
       "      <th>10</th>\n",
       "      <td>radius error</td>\n",
       "      <td>0.016421</td>\n",
       "    </tr>\n",
       "  </tbody>\n",
       "</table>\n",
       "</div>"
      ],
      "text/plain": [
       "                 Feature  Importance\n",
       "27  worst concave points    0.181977\n",
       "23            worst area    0.159930\n",
       "6         mean concavity    0.154029\n",
       "7    mean concave points    0.153299\n",
       "22       worst perimeter    0.095444\n",
       "26       worst concavity    0.073047\n",
       "13            area error    0.064737\n",
       "3              mean area    0.023842\n",
       "10          radius error    0.016421"
      ]
     },
     "execution_count": 243,
     "metadata": {},
     "output_type": "execute_result"
    }
   ],
   "source": [
    "# tree.feature_importances_로 설명변수 중요도 확인 및 테이블로 저장\n",
    "ds_feature_importance = pd.DataFrame()\n",
    "ds_feature_importance[\"Feature\"] = bc_train_x.columns\n",
    "ds_feature_importance[\"Importance\"] = searchcv.feature_importances_\n",
    "# ds_feature_importance의 테이블을 중요도별로 정렬\n",
    "ds_feature_importance.sort_values(\"Importance\", ascending=False).head(9)"
   ]
  },
  {
   "cell_type": "markdown",
   "metadata": {},
   "source": [
    "#  ----------------------------------------------------"
   ]
  },
  {
   "cell_type": "markdown",
   "metadata": {},
   "source": [
    "# worst concave points가 제일 중요한 변수고\n",
    "# worst area, mean concavity, mean concave points, worst perimeter 등도 영향"
   ]
  }
 ],
 "metadata": {
  "kernelspec": {
   "display_name": "Python 3",
   "language": "python",
   "name": "python3"
  },
  "language_info": {
   "codemirror_mode": {
    "name": "ipython",
    "version": 3
   },
   "file_extension": ".py",
   "mimetype": "text/x-python",
   "name": "python",
   "nbconvert_exporter": "python",
   "pygments_lexer": "ipython3",
   "version": "3.7.1"
  }
 },
 "nbformat": 4,
 "nbformat_minor": 2
}
