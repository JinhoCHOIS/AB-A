{
 "cells": [
  {
   "cell_type": "markdown",
   "metadata": {},
   "source": [
    "# 8일차 과제 : KNN\n",
    "# k(이웃 수)가 3~30까지 변화할 때까지 정확도(accuracy)의 변화를 그림으로 나타내고 최적의 이웃 수를 산출하라. \n",
    "# 데이터 : 유방암 데이터(변수: 31개, 자료 수: 569개)\n",
    "# -.목표변수(diagnosis, 0: Malignant(악성,212개), 1: Benign(양성,357개)"
   ]
  },
  {
   "cell_type": "code",
   "execution_count": null,
   "metadata": {},
   "outputs": [],
   "source": [
    "import pandas as pd\n",
    "import numpy as np\n",
    "from sklearn.neighbors import KNeighborsClassifier\n",
    "import seaborn as sns\n",
    "import matplotlib\n",
    "import matplotlib.pyplot as plt\n",
    "\n",
    "%matplotlib inline\n",
    "matplotlib.rc('font', family='NanumBarunGothic')\n",
    "plt.rcParams['axes.unicode_minus']=False"
   ]
  },
  {
   "cell_type": "code",
   "execution_count": null,
   "metadata": {},
   "outputs": [],
   "source": [
    "ds_hmeq = pd.read_csv('./Downloads/week4day1/HMEQ.csv',engine='python')\n",
    "ds_hmeq.head()\n"
   ]
  },
  {
   "cell_type": "code",
   "execution_count": null,
   "metadata": {},
   "outputs": [],
   "source": [
    "ds_hmeq.info()"
   ]
  },
  {
   "cell_type": "code",
   "execution_count": null,
   "metadata": {},
   "outputs": [],
   "source": [
    "#결측치 확인\n",
    "ds_hmeq.isnull().sum(axis=0)"
   ]
  },
  {
   "cell_type": "code",
   "execution_count": null,
   "metadata": {},
   "outputs": [],
   "source": [
    "#fillna : 결측치 채우는 함수\n",
    "ds_hmeq[\"JOB\"].fillna(\"Other\", inplace=True)\n",
    "#아예 비면 빠지므로 아더 입력\n",
    "ds_hmeq.fillna(ds_hmeq.mean(), inplace=True)\n",
    "#연속형 데이터에 평균값 입력"
   ]
  },
  {
   "cell_type": "code",
   "execution_count": null,
   "metadata": {},
   "outputs": [],
   "source": [
    "ds_hmeq_dummy=pd.get_dummies(ds_hmeq)\n",
    "ds_hmeq_dummy.head()"
   ]
  },
  {
   "cell_type": "code",
   "execution_count": null,
   "metadata": {},
   "outputs": [],
   "source": [
    "np.random.seed(seed=1234)\n",
    "msk=np.random.rand(ds_hmeq_dummy.shape[0]) <0.7\n",
    "ds_hmeq_train=ds_hmeq_dummy[msk]\n",
    "ds_hmeq_test=ds_hmeq_dummy[~msk]\n",
    "\n",
    "ds_hmeq_train_y=ds_hmeq_train[\"BAD\"]\n",
    "ds_hmeq_train_x=ds_hmeq_train.drop(\"BAD\", axis=1, inplace=False)\n",
    "ds_hmeq_test_y=ds_hmeq_test[\"BAD\"]\n",
    "ds_hmeq_test_x=ds_hmeq_test.drop(\"BAD\", axis=1, inplace=False)"
   ]
  },
  {
   "cell_type": "code",
   "execution_count": null,
   "metadata": {},
   "outputs": [],
   "source": [
    "knn_uncustomized=KNeighborsClassifier()\n",
    "knn_uncustomized"
   ]
  },
  {
   "cell_type": "code",
   "execution_count": null,
   "metadata": {},
   "outputs": [],
   "source": [
    "knn_uncustomized.fit(ds_hmeq_train_x,ds_hmeq_train_y)\n",
    "y_pred=knn_uncustomized.predict(ds_hmeq_test_x)\n",
    "print(\"predict test set:{}\".format(y_pred.tolist()[:10]))\n",
    "print(\"test set label:{}\".format(ds_hmeq_test_y.tolist()[:10]))\n",
    "print(\"accuracy:{0:.3f}\".format(knn_uncustomized.score(ds_hmeq_test_x,ds_hmeq_test_y)))"
   ]
  },
  {
   "cell_type": "code",
   "execution_count": null,
   "metadata": {},
   "outputs": [],
   "source": [
    "max_n_neighbors=10\n",
    "para_n_neighbors=[i+1 for i in range(max_n_neighbors)]\n",
    "train_accuracy=[]\n",
    "test_accuracy=[]\n",
    "\n",
    "for n_neighbors in para_n_neighbors:\n",
    "    clf=KNeighborsClassifier(n_neighbors=n_neighbors)\n",
    "    clf.fit(ds_hmeq_train_x, ds_hmeq_train_y)\n",
    "    train_accuracy.append(clf.score(ds_hmeq_train_x,ds_hmeq_train_y))\n",
    "    test_accuracy.append(clf.score(ds_hmeq_test_x,ds_hmeq_test_y))\n",
    "    \n",
    "ds_neighbors=pd.DataFrame()\n",
    "ds_neighbors[\"Neighbors\"]=para_n_neighbors\n",
    "ds_neighbors[\"TrainAccuracy\"]=train_accuracy\n",
    "ds_neighbors[\"TestAccuracy\"]=test_accuracy\n",
    "ds_neighbors"
   ]
  },
  {
   "cell_type": "code",
   "execution_count": null,
   "metadata": {},
   "outputs": [],
   "source": [
    "ds_neighbors.set_index(\"Neighbors\", inplace=False).plot()"
   ]
  },
  {
   "cell_type": "code",
   "execution_count": null,
   "metadata": {},
   "outputs": [],
   "source": [
    "max_n_neighbors=10\n",
    "para_n_neighbors=[i+1 for i in range(max_n_neighbors)] * 2\n",
    "para_weights=[\"uniform\"]*max_n_neighbors+[\"distance\"]*max_n_neighbors\n",
    "train_accuracy=[]\n",
    "test_accuracy=[]\n",
    "\n",
    "for (n_neighbors, weights) in zip(para_n_neighbors, para_weights):\n",
    "    clf=KNeighborsClassifier(n_neighbors=n_neighbors,weights=weights)\n",
    "    clf.fit(ds_hmeq_train_x, ds_hmeq_train_y)\n",
    "    train_accuracy.append(clf.score(ds_hmeq_train_x,ds_hmeq_train_y))\n",
    "    test_accuracy.append(clf.score(ds_hmeq_test_x,ds_hmeq_test_y))\n",
    "    \n",
    "ds_neighbors_weight=pd.DataFrame()\n",
    "ds_neighbors_weight[\"Neighbors\"]=para_n_neighbors\n",
    "ds_neighbors_weight[\"Weights\"]=para_weights\n",
    "ds_neighbors_weight[\"TrainAccuracy\"]=train_accuracy\n",
    "ds_neighbors_weight[\"TestAccuracy\"]=test_accuracy\n",
    "ds_neighbors_weight"
   ]
  },
  {
   "cell_type": "code",
   "execution_count": null,
   "metadata": {},
   "outputs": [],
   "source": [
    "ds_neighbors_weight_melt=pd.melt(ds_neighbors_weight,id_vars=[\"Neighbors\",\"Weights\"])\n",
    "ds_neighbors_weight_melt[\"Accuracy\"]=ds_neighbors_weight_melt[\"Weights\"]+\"_\"+ds_neighbors_weight_melt[\"variable\"]\n",
    "ax=sns.lineplot(x=\"Neighbors\",y=\"value\",hue=\"Accuracy\",data=ds_neighbors_weight_melt)"
   ]
  },
  {
   "cell_type": "code",
   "execution_count": null,
   "metadata": {},
   "outputs": [],
   "source": [
    "max_n_neighbors=10\n",
    "para_n_neighbors=[i+1 for i in range(max_n_neighbors)] * 3\n",
    "para_algorithm=[\"ball_tree\"]*max_n_neighbors+[\"kd_tree\"]*max_n_neighbors+[\"brute\"]*max_n_neighbors\n",
    "train_accuracy=[]\n",
    "test_accuracy=[]\n",
    "\n",
    "for (n_neighbors, algorithm) in zip(para_n_neighbors, para_algorithm):\n",
    "    clf=KNeighborsClassifier(n_neighbors=n_neighbors,weights=\"uniform\",algorithm=algorithm)\n",
    "    clf.fit(ds_hmeq_train_x, ds_hmeq_train_y)\n",
    "    train_accuracy.append(clf.score(ds_hmeq_train_x,ds_hmeq_train_y))\n",
    "    test_accuracy.append(clf.score(ds_hmeq_test_x,ds_hmeq_test_y))\n",
    "    \n",
    "ds_neighbors_algorithm=pd.DataFrame()\n",
    "ds_neighbors_algorithm[\"Neighbors\"]=para_n_neighbors\n",
    "ds_neighbors_algorithm[\"Algorithm\"]=para_algorithm\n",
    "ds_neighbors_algorithm[\"TrainAccuracy\"]=train_accuracy\n",
    "ds_neighbors_algorithm[\"TestAccuracy\"]=test_accuracy\n",
    "ds_neighbors_algorithm"
   ]
  },
  {
   "cell_type": "code",
   "execution_count": null,
   "metadata": {},
   "outputs": [],
   "source": [
    "ds_neighbors_algorithm_melt=pd.melt(ds_neighbors_algorithm,id_vars=[\"Neighbors\",\"Algorithm\"])\n",
    "ds_neighbors_algorithm_melt[\"Accuracy\"]=ds_neighbors_algorithm_melt[\"Algorithm\"]+\"_\"+ds_neighbors_algorithm_melt[\"variable\"]\n",
    "ax=sns.lineplot(x=\"Neighbors\",y=\"value\",hue=\"Accuracy\",data=ds_neighbors_algorithm_melt)"
   ]
  },
  {
   "cell_type": "code",
   "execution_count": null,
   "metadata": {},
   "outputs": [],
   "source": [
    "max_n_neighbors=10\n",
    "para_n_neighbors=[i+1 for i in range(max_n_neighbors)] * 3\n",
    "para_metric=[\"minkowski\"]*max_n_neighbors+[\"euclidean\"]*max_n_neighbors+[\"manhattan\"]*max_n_neighbors\n",
    "train_accuracy=[]\n",
    "test_accuracy=[]\n",
    "\n",
    "for (n_neighbors, metric) in zip(para_n_neighbors, para_metric):\n",
    "    clf=KNeighborsClassifier(n_neighbors=n_neighbors,weights=\"uniform\",algorithm=\"ball_tree\",metric=metric)\n",
    "    clf.fit(ds_hmeq_train_x, ds_hmeq_train_y)\n",
    "    train_accuracy.append(clf.score(ds_hmeq_train_x,ds_hmeq_train_y))\n",
    "    test_accuracy.append(clf.score(ds_hmeq_test_x,ds_hmeq_test_y))\n",
    "    \n",
    "ds_neighbors_metric=pd.DataFrame()\n",
    "ds_neighbors_metric[\"Neighbors\"]=para_n_neighbors\n",
    "ds_neighbors_metric[\"Metric\"]=para_metric\n",
    "ds_neighbors_metric[\"TrainAccuracy\"]=train_accuracy\n",
    "ds_neighbors_metric[\"TestAccuracy\"]=test_accuracy\n",
    "ds_neighbors_metric"
   ]
  },
  {
   "cell_type": "code",
   "execution_count": null,
   "metadata": {},
   "outputs": [],
   "source": [
    "ds_neighbors_metric_melt=pd.melt(ds_neighbors_metric,id_vars=[\"Neighbors\",\"Metric\"])\n",
    "ds_neighbors_metric_melt[\"Accuracy\"]=ds_neighbors_metric_melt[\"Metric\"]+\"_\"+ds_neighbors_metric_melt[\"variable\"]\n",
    "ax=sns.lineplot(x=\"Neighbors\",y=\"value\",hue=\"Accuracy\",data=ds_neighbors_metric_melt)"
   ]
  },
  {
   "cell_type": "code",
   "execution_count": null,
   "metadata": {},
   "outputs": [],
   "source": [
    "clf_model=KNeighborsClassifier(n_neighbors=4,weights=\"uniform\",algorithm=\"ball_tree\",metric=\"euclidean\")\n",
    "clf_model.fit(ds_hmeq_train_x,ds_hmeq_train_y)\n",
    "print(\"train data accuracy:{0:.3f}\".format(clf_model.score(ds_hmeq_train_x,ds_hmeq_train_y)))\n",
    "print(\"test data accuracy:{0:.3f}\".format(clf_model.score(ds_hmeq_test_x,ds_hmeq_test_y)))"
   ]
  },
  {
   "cell_type": "code",
   "execution_count": null,
   "metadata": {},
   "outputs": [],
   "source": []
  }
 ],
 "metadata": {
  "kernelspec": {
   "display_name": "Python 3",
   "language": "python",
   "name": "python3"
  },
  "language_info": {
   "codemirror_mode": {
    "name": "ipython",
    "version": 3
   },
   "file_extension": ".py",
   "mimetype": "text/x-python",
   "name": "python",
   "nbconvert_exporter": "python",
   "pygments_lexer": "ipython3",
   "version": "3.7.1"
  }
 },
 "nbformat": 4,
 "nbformat_minor": 2
}
