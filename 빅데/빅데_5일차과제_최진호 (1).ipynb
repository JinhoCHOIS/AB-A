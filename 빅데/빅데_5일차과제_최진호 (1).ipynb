{
 "cells": [
  {
   "cell_type": "markdown",
   "metadata": {},
   "source": [
    "# 5일차 과제 : RF 랜덤포레스트\n",
    "\n",
    " sklearn의 GridSearchCV 함수를 사용해 최적의 매개변수들을 구하고, \n",
    " \n",
    " 최종 랜덤포레스트 모델을 만들고 해석하라.\n",
    " \n",
    " 데이터 : 유방암 데이터(변수: 31개, 자료 수: 569개)\n",
    " \n",
    " -.목표변수(diagnosis, 0: Malignant(악성,212개), 1: Benign(양성,357개)"
   ]
  },
  {
   "cell_type": "code",
   "execution_count": 3,
   "metadata": {},
   "outputs": [],
   "source": [
    "import pandas as pd\n",
    "import numpy as np\n",
    "import statsmodels.api as sm\n",
    "import matplotlib.pyplot as plt\n",
    "import seaborn as sns\n",
    "import scipy.stats as stats\n",
    "from sklearn import metrics\n",
    "from sklearn.preprocessing import scale\n",
    "\n",
    "import os\n",
    "from sklearn.tree import DecisionTreeClassifier\n",
    "from sklearn.tree import export_graphviz\n",
    "import graphviz\n",
    "\n",
    "from sklearn.model_selection import train_test_split\n",
    "from sklearn.ensemble import RandomForestClassifier\n",
    "from sklearn.metrics import make_scorer, accuracy_score\n",
    "from sklearn.model_selection import GridSearchCV\n",
    "\n",
    "import warnings\n",
    "warnings.filterwarnings('ignore') #경고 무시"
   ]
  },
  {
   "cell_type": "code",
   "execution_count": 4,
   "metadata": {},
   "outputs": [
    {
     "name": "stdout",
     "output_type": "stream",
     "text": [
      "<class 'pandas.core.frame.DataFrame'>\n",
      "RangeIndex: 569 entries, 0 to 568\n",
      "Data columns (total 31 columns):\n",
      "diagnosis                  569 non-null int64\n",
      "mean radius                569 non-null float64\n",
      "mean texture               569 non-null float64\n",
      "mean perimeter             569 non-null float64\n",
      "mean area                  569 non-null float64\n",
      "mean smoothness            569 non-null float64\n",
      "mean compactness           569 non-null float64\n",
      "mean concavity             569 non-null float64\n",
      "mean concave points        569 non-null float64\n",
      "mean symmetry              569 non-null float64\n",
      "mean fractal dimension     569 non-null float64\n",
      "radius error               569 non-null float64\n",
      "texture error              569 non-null float64\n",
      "perimeter error            569 non-null float64\n",
      "area error                 569 non-null float64\n",
      "smoothness error           569 non-null float64\n",
      "compactness error          569 non-null float64\n",
      "concavity error            569 non-null float64\n",
      "concave points error       569 non-null float64\n",
      "symmetry error             569 non-null float64\n",
      "fractal dimension error    569 non-null float64\n",
      "worst radius               569 non-null float64\n",
      "worst texture              569 non-null float64\n",
      "worst perimeter            569 non-null float64\n",
      "worst area                 569 non-null float64\n",
      "worst smoothness           569 non-null float64\n",
      "worst compactness          569 non-null float64\n",
      "worst concavity            569 non-null float64\n",
      "worst concave points       569 non-null float64\n",
      "worst symmetry             569 non-null float64\n",
      "worst fractal dimension    569 non-null float64\n",
      "dtypes: float64(30), int64(1)\n",
      "memory usage: 137.9 KB\n"
     ]
    }
   ],
   "source": [
    "ds_bc = pd.read_csv('/home/pirl/Downloads/week4day1/유방암.csv',engine='python')\n",
    "ds_bc.info()\n",
    "\n",
    "#설명변수 X_i는 30개\n",
    "#종속변수 Y는 이산형(1은 양성, 0은 악성)이지만 실제 분석에서는 연속형으로 처리\n",
    "#결측치는 없음"
   ]
  },
  {
   "cell_type": "code",
   "execution_count": 10,
   "metadata": {},
   "outputs": [
    {
     "name": "stdout",
     "output_type": "stream",
     "text": [
      "<class 'pandas.core.frame.DataFrame'>\n",
      "Int64Index: 494 entries, 1 to 568\n",
      "Data columns (total 31 columns):\n",
      "diagnosis                  494 non-null int64\n",
      "mean radius                494 non-null float64\n",
      "mean texture               494 non-null float64\n",
      "mean perimeter             494 non-null float64\n",
      "mean area                  494 non-null float64\n",
      "mean smoothness            494 non-null float64\n",
      "mean compactness           494 non-null float64\n",
      "mean concavity             494 non-null float64\n",
      "mean concave points        494 non-null float64\n",
      "mean symmetry              494 non-null float64\n",
      "mean fractal dimension     494 non-null float64\n",
      "radius error               494 non-null float64\n",
      "texture error              494 non-null float64\n",
      "perimeter error            494 non-null float64\n",
      "area error                 494 non-null float64\n",
      "smoothness error           494 non-null float64\n",
      "compactness error          494 non-null float64\n",
      "concavity error            494 non-null float64\n",
      "concave points error       494 non-null float64\n",
      "symmetry error             494 non-null float64\n",
      "fractal dimension error    494 non-null float64\n",
      "worst radius               494 non-null float64\n",
      "worst texture              494 non-null float64\n",
      "worst perimeter            494 non-null float64\n",
      "worst area                 494 non-null float64\n",
      "worst smoothness           494 non-null float64\n",
      "worst compactness          494 non-null float64\n",
      "worst concavity            494 non-null float64\n",
      "worst concave points       494 non-null float64\n",
      "worst symmetry             494 non-null float64\n",
      "worst fractal dimension    494 non-null float64\n",
      "dtypes: float64(30), int64(1)\n",
      "memory usage: 123.5 KB\n"
     ]
    }
   ],
   "source": [
    "def remove_outlier_std(df):\n",
    "    for i in range(0, len(df.iloc[1])):\n",
    "        df = df[(np.abs(df.iloc[:,i] - df.iloc[:,i].mean()) < (3.6*df.iloc[:,i].std()))]\n",
    "    return df\n",
    "#3.6sigma를 벗어나는 data제거 함수\n",
    "\n",
    "ds_bc_z=remove_outlier_std(ds_bc)\n",
    "ds_bc_z.info()\n",
    "#494개로 이상치 제거\n",
    "#랜덤포레스트 알고리즘 특성상 이상치를 크게 신경쓰지 않아도 되지만\n",
    "#data의 분포가 전반적으로 UCL을 초과하는 경향이 강하고\n",
    "#모델의 일반성, 범용성을 위해 이상치 제거 실시"
   ]
  },
  {
   "cell_type": "markdown",
   "metadata": {},
   "source": [
    "#  데이터 분할 7 : 3"
   ]
  },
  {
   "cell_type": "code",
   "execution_count": 11,
   "metadata": {},
   "outputs": [
    {
     "name": "stdout",
     "output_type": "stream",
     "text": [
      "train data X size: (345, 30)\n",
      "train data Y size: (345,)\n",
      "test data X size: (149, 30)\n",
      "test data X size: (149,)\n"
     ]
    }
   ],
   "source": [
    "ds_bc_y=ds_bc_z[\"diagnosis\"]\n",
    "ds_bc_x=ds_bc_z.drop(\"diagnosis\",axis=1, inplace=False)\n",
    "ds_bc_train_x, ds_bc_test_x, ds_bc_train_y, ds_bc_test_y = train_test_split(ds_bc_x,ds_bc_y,test_size=0.3, random_state=1234)\n",
    "print(\"train data X size: {}\".format(bc_train_x.shape))\n",
    "print(\"train data Y size: {}\".format(bc_train_y.shape))\n",
    "print(\"test data X size: {}\".format(bc_test_x.shape))\n",
    "print(\"test data X size: {}\".format(bc_test_y.shape))"
   ]
  },
  {
   "cell_type": "markdown",
   "metadata": {},
   "source": [
    "#  -------------------------------------------------------------------\n",
    "# GridSearch/ cri= gini or entropy, depth:1~4,  leaf_size:5~9, #tree=1~14\n",
    "#  -------------------------------------------------------------------"
   ]
  },
  {
   "cell_type": "code",
   "execution_count": 12,
   "metadata": {},
   "outputs": [
    {
     "name": "stdout",
     "output_type": "stream",
     "text": [
      "Accucary on training set: 1.000\n",
      "Accucary on test set: 0.933\n"
     ]
    }
   ],
   "source": [
    "rf_uncustomized = RandomForestClassifier(random_state=123)\n",
    "rf_uncustomized.fit(ds_bc_train_x, ds_bc_train_y)\n",
    "# 훈련 데이터 정확도\n",
    "print(\"Accucary on training set: {:.3f}\".format(rf_uncustomized.score(ds_bc_train_x, ds_bc_train_y)))\n",
    "# test 데이터 정확도\n",
    "print(\"Accucary on test set: {:.3f}\".format(rf_uncustomized.score(ds_bc_test_x, ds_bc_test_y)))\n",
    "# randomforest 모형 생성"
   ]
  },
  {
   "cell_type": "code",
   "execution_count": 13,
   "metadata": {},
   "outputs": [
    {
     "data": {
      "text/plain": [
       "GridSearchCV(cv='warn', error_score='raise-deprecating',\n",
       "       estimator=RandomForestClassifier(bootstrap=True, class_weight=None, criterion='gini',\n",
       "            max_depth=None, max_features='auto', max_leaf_nodes=None,\n",
       "            min_impurity_decrease=0.0, min_impurity_split=None,\n",
       "            min_samples_leaf=1, min_samples_split=2,\n",
       "            min_weight_fraction_leaf=0.0, n_estimators=10, n_jobs=None,\n",
       "            oob_score=False, random_state=123, verbose=0, warm_start=False),\n",
       "       fit_params=None, iid='warn', n_jobs=None,\n",
       "       param_grid={'criterion': ['entropy', 'gini'], 'max_depth': [1, 2, 3, 4], 'min_samples_leaf': [5, 6, 7, 8, 9], 'n_estimators': [1, 2, 3, 4, 5, 6, 7, 8, 9, 10, 11, 12, 13, 14]},\n",
       "       pre_dispatch='2*n_jobs', refit=True, return_train_score='warn',\n",
       "       scoring=None, verbose=0)"
      ]
     },
     "execution_count": 13,
     "metadata": {},
     "output_type": "execute_result"
    }
   ],
   "source": [
    "parameters = {               \n",
    "              'criterion': ['entropy', 'gini'],\n",
    "              'max_depth': list(i for i in range(1,5)), \n",
    "              'min_samples_leaf': list(i for i in range(5,10)),\n",
    "              'n_estimators' : list(i for i in range(1,15))\n",
    "             }\n",
    "\n",
    "grid_obj = GridSearchCV(rf_uncustomized, parameters)\n",
    "grid_obj "
   ]
  },
  {
   "cell_type": "markdown",
   "metadata": {},
   "source": [
    "# parameter에 criterion, max_depth, min_samples_leaf, n_estimators를 조정\n",
    "# GridSearchCV 함수에 의해 grid_obj 에 param_grid로 \n",
    "# 모형을 만들 parameter의 값들을 보여줌"
   ]
  },
  {
   "cell_type": "code",
   "execution_count": 14,
   "metadata": {},
   "outputs": [
    {
     "data": {
      "text/plain": [
       "RandomForestClassifier(bootstrap=True, class_weight=None, criterion='gini',\n",
       "            max_depth=1, max_features='auto', max_leaf_nodes=None,\n",
       "            min_impurity_decrease=0.0, min_impurity_split=None,\n",
       "            min_samples_leaf=5, min_samples_split=2,\n",
       "            min_weight_fraction_leaf=0.0, n_estimators=5, n_jobs=None,\n",
       "            oob_score=False, random_state=123, verbose=0, warm_start=False)"
      ]
     },
     "execution_count": 14,
     "metadata": {},
     "output_type": "execute_result"
    }
   ],
   "source": [
    "grid_obj= grid_obj.fit(ds_bc_train_x, ds_bc_train_y)\n",
    "searchcv = grid_obj.best_estimator_\n",
    "searchcv.fit(ds_bc_train_x, ds_bc_train_y)"
   ]
  },
  {
   "cell_type": "markdown",
   "metadata": {},
   "source": [
    "# 위의 주어진 train data를 이용해 해당 parameter를 조합해서 모든 모형을 만듦\n",
    "# best_estimator로 최적의 parameter를 return함\n",
    "# best_estimator로 criterion=gini, max_depth=1, min_samples_leaf=5, n_estimators=5 로 알려줌\n",
    "# 주어진 parameter에 train data로 모형을 만듦"
   ]
  },
  {
   "cell_type": "code",
   "execution_count": 15,
   "metadata": {
    "scrolled": true
   },
   "outputs": [
    {
     "name": "stdout",
     "output_type": "stream",
     "text": [
      "Accuracy on test set: 0.913\n"
     ]
    }
   ],
   "source": [
    "predictions = searchcv.predict(bc_test_x)\n",
    "print(\"Accuracy on test set:\", accuracy_score(bc_test_y, predictions).round(3))"
   ]
  },
  {
   "cell_type": "markdown",
   "metadata": {},
   "source": [
    "#  해당 모형에 test data로 예측\n",
    "#  해당 예측치와 실제 test y data로 정확도를 계산\n",
    "#  계산 결과 정확도 0.913"
   ]
  },
  {
   "cell_type": "markdown",
   "metadata": {},
   "source": [
    "#  \n",
    "# 정확도 0.913의 모델\n",
    "# 동일 test data 기준으로는 더 높은 모형이 있을 수 있음\n",
    "\n",
    "# train data를 기준으로 높은 정확도를 보여주는 parameter를 알려주기에\n",
    "# test data에서도 최고값이라는 보장이 없음\n",
    "\n",
    "# parameter들의 변경으로 더 높은 test 정확도의 모델이 존재할 수 있음"
   ]
  },
  {
   "cell_type": "code",
   "execution_count": 16,
   "metadata": {},
   "outputs": [
    {
     "data": {
      "text/html": [
       "<div>\n",
       "<style scoped>\n",
       "    .dataframe tbody tr th:only-of-type {\n",
       "        vertical-align: middle;\n",
       "    }\n",
       "\n",
       "    .dataframe tbody tr th {\n",
       "        vertical-align: top;\n",
       "    }\n",
       "\n",
       "    .dataframe thead th {\n",
       "        text-align: right;\n",
       "    }\n",
       "</style>\n",
       "<table border=\"1\" class=\"dataframe\">\n",
       "  <thead>\n",
       "    <tr style=\"text-align: right;\">\n",
       "      <th></th>\n",
       "      <th>Feature</th>\n",
       "      <th>Importance</th>\n",
       "    </tr>\n",
       "  </thead>\n",
       "  <tbody>\n",
       "    <tr>\n",
       "      <th>27</th>\n",
       "      <td>worst concave points</td>\n",
       "      <td>0.2</td>\n",
       "    </tr>\n",
       "    <tr>\n",
       "      <th>6</th>\n",
       "      <td>mean concavity</td>\n",
       "      <td>0.2</td>\n",
       "    </tr>\n",
       "    <tr>\n",
       "      <th>7</th>\n",
       "      <td>mean concave points</td>\n",
       "      <td>0.2</td>\n",
       "    </tr>\n",
       "    <tr>\n",
       "      <th>23</th>\n",
       "      <td>worst area</td>\n",
       "      <td>0.2</td>\n",
       "    </tr>\n",
       "    <tr>\n",
       "      <th>22</th>\n",
       "      <td>worst perimeter</td>\n",
       "      <td>0.2</td>\n",
       "    </tr>\n",
       "    <tr>\n",
       "      <th>0</th>\n",
       "      <td>mean radius</td>\n",
       "      <td>0.0</td>\n",
       "    </tr>\n",
       "    <tr>\n",
       "      <th>16</th>\n",
       "      <td>concavity error</td>\n",
       "      <td>0.0</td>\n",
       "    </tr>\n",
       "    <tr>\n",
       "      <th>28</th>\n",
       "      <td>worst symmetry</td>\n",
       "      <td>0.0</td>\n",
       "    </tr>\n",
       "    <tr>\n",
       "      <th>26</th>\n",
       "      <td>worst concavity</td>\n",
       "      <td>0.0</td>\n",
       "    </tr>\n",
       "  </tbody>\n",
       "</table>\n",
       "</div>"
      ],
      "text/plain": [
       "                 Feature  Importance\n",
       "27  worst concave points         0.2\n",
       "6         mean concavity         0.2\n",
       "7    mean concave points         0.2\n",
       "23            worst area         0.2\n",
       "22       worst perimeter         0.2\n",
       "0            mean radius         0.0\n",
       "16       concavity error         0.0\n",
       "28        worst symmetry         0.0\n",
       "26       worst concavity         0.0"
      ]
     },
     "execution_count": 16,
     "metadata": {},
     "output_type": "execute_result"
    }
   ],
   "source": [
    "# tree.feature_importances_로 설명변수 중요도 확인 및 테이블로 저장\n",
    "ds_feature_importance = pd.DataFrame()\n",
    "ds_feature_importance[\"Feature\"] = ds_bc_train_x.columns\n",
    "ds_feature_importance[\"Importance\"] = searchcv.feature_importances_\n",
    "# ds_feature_importance의 테이블을 중요도별로 정렬\n",
    "ds_feature_importance.sort_values(\"Importance\", ascending=False).head(9)"
   ]
  },
  {
   "cell_type": "code",
   "execution_count": 17,
   "metadata": {},
   "outputs": [
    {
     "data": {
      "image/png": "[encoded data removed]",
      "text/plain": [
       "<Figure size 432x288 with 1 Axes>"
      ]
     },
     "metadata": {
      "needs_background": "light"
     },
     "output_type": "display_data"
    }
   ],
   "source": [
    "rf_model = RandomForestClassifier(criterion = \"gini\", max_depth= 1, min_samples_leaf = 5, \\\n",
    "                                  n_estimators = 5, random_state= 1234)\n",
    "rf_model.fit(ds_bc_train_x, ds_bc_train_y)\n",
    "\n",
    "feature_importance = pd.DataFrame()\n",
    "feature_importance[\"feature\"] = ds_bc_train_x.columns\n",
    "feature_importance[\"importance\"] = rf_model.feature_importances_\n",
    "feature_importance.sort_values( by = \"importance\" , ascending = False)\n",
    "\n",
    "# 설명변수 중요도 그래프 함수 정의\n",
    "def plot_feature_importance(model):\n",
    "    n_features = ds_bc_train_x.shape[1]\n",
    "    plt.barh(range(n_features), model.feature_importances_ , align= \"center\")\n",
    "    plt.yticks(np.arange(n_features), ds_bc_train_x.columns)\n",
    "    plt.xlabel(\"importance of explanatory variable\")\n",
    "    plt.ylabel(\"explanatory variable\")\n",
    "    plt.ylim(-1, n_features)\n",
    "    \n",
    "plot_feature_importance(rf_model)"
   ]
  },
  {
   "cell_type": "markdown",
   "metadata": {},
   "source": [
    "# 5개 각각의 변수의 트리모형이므로\n",
    "# 해당 변수의 1번 분기가 겹쳐진 모양\n"
   ]
  },
  {
   "cell_type": "code",
   "execution_count": 18,
   "metadata": {},
   "outputs": [
    {
     "name": "stdout",
     "output_type": "stream",
     "text": [
      "Grid_Search_Accuracy: 0.899\n"
     ]
    },
    {
     "data": {
      "image/svg+xml": [
       "<?xml version=\"1.0\" encoding=\"UTF-8\" standalone=\"no\"?>\n",
       "<!DOCTYPE svg PUBLIC \"-//W3C//DTD SVG 1.1//EN\"\n",
       " \"http://www.w3.org/Graphics/SVG/1.1/DTD/svg11.dtd\">\n",
       "<!-- Generated by graphviz version 2.40.1 (20161225.0304)\n",
       " -->\n",
       "<!-- Title: Tree Pages: 1 -->\n",
       "<svg width=\"244pt\" height=\"165pt\"\n",
       " viewBox=\"0.00 0.00 243.50 165.00\" xmlns=\"http://www.w3.org/2000/svg\" xmlns:xlink=\"http://www.w3.org/1999/xlink\">\n",
       "<g id=\"graph0\" class=\"graph\" transform=\"scale(1 1) rotate(0) translate(4 161)\">\n",
       "<title>Tree</title>\n",
       "<polygon fill=\"#ffffff\" stroke=\"transparent\" points=\"-4,4 -4,-161 239.5,-161 239.5,4 -4,4\"/>\n",
       "<!-- 0 -->\n",
       "<g id=\"node1\" class=\"node\">\n",
       "<title>0</title>\n",
       "<polygon fill=\"#e58139\" fill-opacity=\"0.549020\" stroke=\"#000000\" points=\"212,-157 26,-157 26,-89 212,-89 212,-157\"/>\n",
       "<text text-anchor=\"middle\" x=\"119\" y=\"-141.8\" font-family=\"Times,serif\" font-size=\"14.00\" fill=\"#000000\">mean concave points &lt;= 0.051</text>\n",
       "<text text-anchor=\"middle\" x=\"119\" y=\"-126.8\" font-family=\"Times,serif\" font-size=\"14.00\" fill=\"#000000\">samples = 345</text>\n",
       "<text text-anchor=\"middle\" x=\"119\" y=\"-111.8\" font-family=\"Times,serif\" font-size=\"14.00\" fill=\"#000000\">value = [238, 107]</text>\n",
       "<text text-anchor=\"middle\" x=\"119\" y=\"-96.8\" font-family=\"Times,serif\" font-size=\"14.00\" fill=\"#000000\">class = 0</text>\n",
       "</g>\n",
       "<!-- 1 -->\n",
       "<g id=\"node2\" class=\"node\">\n",
       "<title>1</title>\n",
       "<polygon fill=\"#e58139\" fill-opacity=\"0.945098\" stroke=\"#000000\" points=\"112,-53 0,-53 0,0 112,0 112,-53\"/>\n",
       "<text text-anchor=\"middle\" x=\"56\" y=\"-37.8\" font-family=\"Times,serif\" font-size=\"14.00\" fill=\"#000000\">samples = 237</text>\n",
       "<text text-anchor=\"middle\" x=\"56\" y=\"-22.8\" font-family=\"Times,serif\" font-size=\"14.00\" fill=\"#000000\">value = [225, 12]</text>\n",
       "<text text-anchor=\"middle\" x=\"56\" y=\"-7.8\" font-family=\"Times,serif\" font-size=\"14.00\" fill=\"#000000\">class = 0</text>\n",
       "</g>\n",
       "<!-- 0&#45;&gt;1 -->\n",
       "<g id=\"edge1\" class=\"edge\">\n",
       "<title>0&#45;&gt;1</title>\n",
       "<path fill=\"none\" stroke=\"#000000\" d=\"M96.7886,-88.9777C91.0496,-80.187 84.8588,-70.7044 79.0767,-61.8477\"/>\n",
       "<polygon fill=\"#000000\" stroke=\"#000000\" points=\"81.8602,-59.7087 73.4627,-53.2485 75.9987,-63.5354 81.8602,-59.7087\"/>\n",
       "<text text-anchor=\"middle\" x=\"68.3241\" y=\"-74.0147\" font-family=\"Times,serif\" font-size=\"14.00\" fill=\"#000000\">True</text>\n",
       "</g>\n",
       "<!-- 2 -->\n",
       "<g id=\"node3\" class=\"node\">\n",
       "<title>2</title>\n",
       "<polygon fill=\"#399de5\" fill-opacity=\"0.862745\" stroke=\"#000000\" points=\"235.5,-53 130.5,-53 130.5,0 235.5,0 235.5,-53\"/>\n",
       "<text text-anchor=\"middle\" x=\"183\" y=\"-37.8\" font-family=\"Times,serif\" font-size=\"14.00\" fill=\"#000000\">samples = 108</text>\n",
       "<text text-anchor=\"middle\" x=\"183\" y=\"-22.8\" font-family=\"Times,serif\" font-size=\"14.00\" fill=\"#000000\">value = [13, 95]</text>\n",
       "<text text-anchor=\"middle\" x=\"183\" y=\"-7.8\" font-family=\"Times,serif\" font-size=\"14.00\" fill=\"#000000\">class = 1</text>\n",
       "</g>\n",
       "<!-- 0&#45;&gt;2 -->\n",
       "<g id=\"edge2\" class=\"edge\">\n",
       "<title>0&#45;&gt;2</title>\n",
       "<path fill=\"none\" stroke=\"#000000\" d=\"M141.564,-88.9777C147.3941,-80.187 153.6831,-70.7044 159.557,-61.8477\"/>\n",
       "<polygon fill=\"#000000\" stroke=\"#000000\" points=\"162.6498,-63.5167 165.2601,-53.2485 156.8162,-59.6478 162.6498,-63.5167\"/>\n",
       "<text text-anchor=\"middle\" x=\"170.2217\" y=\"-74.0512\" font-family=\"Times,serif\" font-size=\"14.00\" fill=\"#000000\">False</text>\n",
       "</g>\n",
       "</g>\n",
       "</svg>\n"
      ],
      "text/plain": [
       "<graphviz.files.Source at 0x7f21d0723940>"
      ]
     },
     "metadata": {},
     "output_type": "display_data"
    }
   ],
   "source": [
    "#트리모델 생성, criterion=\"gini\",max_depth=1, min_sample_leaf=5 으로 모델 생성\n",
    "tree = DecisionTreeClassifier(criterion=\"gini\",max_depth=1,\n",
    "                            min_samples_leaf=5,random_state=1234)\n",
    "#tree model training\n",
    "tree.fit(ds_bc_train_x,ds_bc_train_y)\n",
    "\n",
    "print(\"Grid_Search_Accuracy: {0:.3f}\".format(tree.score(ds_bc_test_x,ds_bc_test_y).round(3)))\n",
    "\n",
    "\n",
    "export_graphviz(tree,out_file=\"tree.dot\", class_names=[\"0\",\"1\"],\n",
    "              feature_names=ds_bc_train_x.columns,impurity=False,filled=True)\n",
    "\n",
    "os.environ[\"PATH\"] += os.pathsep +\"\"\n",
    "\n",
    "with open(\"tree.dot\") as f:\n",
    "    dot_graph = f.read()\n",
    "display(graphviz.Source(dot_graph))"
   ]
  },
  {
   "cell_type": "markdown",
   "metadata": {},
   "source": [
    "# RandomForest의 모델을 직접 표현할 수는 없지만\n",
    "# 그래픽 편의를 보기 위해 DecisionTree 모델에 해당 parameter를 입력"
   ]
  },
  {
   "cell_type": "markdown",
   "metadata": {},
   "source": [
    "#  -------------------------------------------------------------------------\n",
    "# manual parameter 선택을 위한 랜덤포레스트 모형 생성\n",
    "#  -------------------------------------------------------------------------"
   ]
  },
  {
   "cell_type": "code",
   "execution_count": 19,
   "metadata": {},
   "outputs": [
    {
     "data": {
      "text/plain": [
       "RandomForestClassifier(bootstrap=True, class_weight=None, criterion='gini',\n",
       "            max_depth=None, max_features='auto', max_leaf_nodes=None,\n",
       "            min_impurity_decrease=0.0, min_impurity_split=None,\n",
       "            min_samples_leaf=1, min_samples_split=2,\n",
       "            min_weight_fraction_leaf=0.0, n_estimators=10, n_jobs=None,\n",
       "            oob_score=False, random_state=123, verbose=0, warm_start=False)"
      ]
     },
     "execution_count": 19,
     "metadata": {},
     "output_type": "execute_result"
    }
   ],
   "source": [
    "rf_uncustomized"
   ]
  },
  {
   "cell_type": "markdown",
   "metadata": {},
   "source": [
    "# default: 트리의 수 n_estimators=10\n",
    "# criterion='gini', min_samples_leaf=1"
   ]
  },
  {
   "cell_type": "markdown",
   "metadata": {},
   "source": [
    "# 1. NumberofTree 트리의 수에 따른 정확도 변화: 1~30"
   ]
  },
  {
   "cell_type": "code",
   "execution_count": 20,
   "metadata": {},
   "outputs": [
    {
     "data": {
      "text/html": [
       "<div>\n",
       "<style scoped>\n",
       "    .dataframe tbody tr th:only-of-type {\n",
       "        vertical-align: middle;\n",
       "    }\n",
       "\n",
       "    .dataframe tbody tr th {\n",
       "        vertical-align: top;\n",
       "    }\n",
       "\n",
       "    .dataframe thead th {\n",
       "        text-align: right;\n",
       "    }\n",
       "</style>\n",
       "<table border=\"1\" class=\"dataframe\">\n",
       "  <thead>\n",
       "    <tr style=\"text-align: right;\">\n",
       "      <th></th>\n",
       "      <th>NumberofTree</th>\n",
       "      <th>TrainAccuracy</th>\n",
       "      <th>TestAccuracy</th>\n",
       "    </tr>\n",
       "  </thead>\n",
       "  <tbody>\n",
       "    <tr>\n",
       "      <th>0</th>\n",
       "      <td>1</td>\n",
       "      <td>0.959420</td>\n",
       "      <td>0.899329</td>\n",
       "    </tr>\n",
       "    <tr>\n",
       "      <th>1</th>\n",
       "      <td>2</td>\n",
       "      <td>0.959420</td>\n",
       "      <td>0.879195</td>\n",
       "    </tr>\n",
       "    <tr>\n",
       "      <th>2</th>\n",
       "      <td>3</td>\n",
       "      <td>0.988406</td>\n",
       "      <td>0.932886</td>\n",
       "    </tr>\n",
       "    <tr>\n",
       "      <th>3</th>\n",
       "      <td>4</td>\n",
       "      <td>0.988406</td>\n",
       "      <td>0.912752</td>\n",
       "    </tr>\n",
       "    <tr>\n",
       "      <th>4</th>\n",
       "      <td>5</td>\n",
       "      <td>0.994203</td>\n",
       "      <td>0.932886</td>\n",
       "    </tr>\n",
       "    <tr>\n",
       "      <th>5</th>\n",
       "      <td>6</td>\n",
       "      <td>0.994203</td>\n",
       "      <td>0.912752</td>\n",
       "    </tr>\n",
       "    <tr>\n",
       "      <th>6</th>\n",
       "      <td>7</td>\n",
       "      <td>0.994203</td>\n",
       "      <td>0.919463</td>\n",
       "    </tr>\n",
       "    <tr>\n",
       "      <th>7</th>\n",
       "      <td>8</td>\n",
       "      <td>0.994203</td>\n",
       "      <td>0.932886</td>\n",
       "    </tr>\n",
       "    <tr>\n",
       "      <th>8</th>\n",
       "      <td>9</td>\n",
       "      <td>0.994203</td>\n",
       "      <td>0.932886</td>\n",
       "    </tr>\n",
       "    <tr>\n",
       "      <th>9</th>\n",
       "      <td>10</td>\n",
       "      <td>0.994203</td>\n",
       "      <td>0.939597</td>\n",
       "    </tr>\n",
       "    <tr>\n",
       "      <th>10</th>\n",
       "      <td>11</td>\n",
       "      <td>1.000000</td>\n",
       "      <td>0.926174</td>\n",
       "    </tr>\n",
       "    <tr>\n",
       "      <th>11</th>\n",
       "      <td>12</td>\n",
       "      <td>1.000000</td>\n",
       "      <td>0.939597</td>\n",
       "    </tr>\n",
       "    <tr>\n",
       "      <th>12</th>\n",
       "      <td>13</td>\n",
       "      <td>1.000000</td>\n",
       "      <td>0.946309</td>\n",
       "    </tr>\n",
       "    <tr>\n",
       "      <th>13</th>\n",
       "      <td>14</td>\n",
       "      <td>0.997101</td>\n",
       "      <td>0.959732</td>\n",
       "    </tr>\n",
       "    <tr>\n",
       "      <th>14</th>\n",
       "      <td>15</td>\n",
       "      <td>0.997101</td>\n",
       "      <td>0.966443</td>\n",
       "    </tr>\n",
       "    <tr>\n",
       "      <th>15</th>\n",
       "      <td>16</td>\n",
       "      <td>0.997101</td>\n",
       "      <td>0.939597</td>\n",
       "    </tr>\n",
       "  </tbody>\n",
       "</table>\n",
       "</div>"
      ],
      "text/plain": [
       "    NumberofTree  TrainAccuracy  TestAccuracy\n",
       "0              1       0.959420      0.899329\n",
       "1              2       0.959420      0.879195\n",
       "2              3       0.988406      0.932886\n",
       "3              4       0.988406      0.912752\n",
       "4              5       0.994203      0.932886\n",
       "5              6       0.994203      0.912752\n",
       "6              7       0.994203      0.919463\n",
       "7              8       0.994203      0.932886\n",
       "8              9       0.994203      0.932886\n",
       "9             10       0.994203      0.939597\n",
       "10            11       1.000000      0.926174\n",
       "11            12       1.000000      0.939597\n",
       "12            13       1.000000      0.946309\n",
       "13            14       0.997101      0.959732\n",
       "14            15       0.997101      0.966443\n",
       "15            16       0.997101      0.939597"
      ]
     },
     "execution_count": 20,
     "metadata": {},
     "output_type": "execute_result"
    }
   ],
   "source": [
    "#트리수 최대값:30;1~ 30까지 실행\n",
    "n_iter_tree=30\n",
    "#트레인 및 테스트 정확도 결과 저장용\n",
    "train_accuracy = []\n",
    "test_accuracy = []\n",
    "#트리 최대수(1~30)별로 랜덤 포레스트 모델 생성 및 정확도값 저장\n",
    "\n",
    "# 트리 최대수(1~30)별로 랜덤 포레스트 모델 생성 및 정확도값 저장\n",
    "for n_tree in range(1, n_iter_tree):\n",
    "    rf1 = RandomForestClassifier(n_estimators=n_tree,random_state=1234)\n",
    "    rf1.fit(ds_bc_train_x,ds_bc_train_y)\n",
    "    train_accuracy.append(rf1.score(ds_bc_train_x,ds_bc_train_y))\n",
    "    test_accuracy.append(rf1.score(ds_bc_test_x,ds_bc_test_y))\n",
    "    \n",
    "#저장된 모델의 트레인/테스트 데이터 분류 정확도 테이블 생성\n",
    "ds_accuracy1 = pd.DataFrame()\n",
    "ds_accuracy1[\"NumberofTree\"]=[n_tree for n_tree in range(1,n_iter_tree)]\n",
    "ds_accuracy1[\"TrainAccuracy\"] =train_accuracy\n",
    "ds_accuracy1[\"TestAccuracy\"] =test_accuracy\n",
    "ds_accuracy1.head(16)"
   ]
  },
  {
   "cell_type": "code",
   "execution_count": 21,
   "metadata": {},
   "outputs": [
    {
     "data": {
      "text/plain": [
       "<matplotlib.axes._subplots.AxesSubplot at 0x7f21d07125f8>"
      ]
     },
     "execution_count": 21,
     "metadata": {},
     "output_type": "execute_result"
    },
    {
     "data": {
      "image/png": "[encoded data removed]",
      "text/plain": [
       "<Figure size 432x288 with 1 Axes>"
      ]
     },
     "metadata": {
      "needs_background": "light"
     },
     "output_type": "display_data"
    }
   ],
   "source": [
    "#테스트 결과\n",
    "ds_accuracy1\n",
    "#그래프 생성\n",
    "ds_accuracy1.set_index(\"NumberofTree\",inplace=False).plot.line()"
   ]
  },
  {
   "cell_type": "markdown",
   "metadata": {},
   "source": [
    "# 15개 정도의 트리 갯수에서 높은 테스트 정확도를 보임"
   ]
  },
  {
   "cell_type": "markdown",
   "metadata": {},
   "source": [
    "#  "
   ]
  },
  {
   "cell_type": "markdown",
   "metadata": {},
   "source": [
    "# 2.Depth 깊이에 따라 : 1~15 by criterion"
   ]
  },
  {
   "cell_type": "code",
   "execution_count": 22,
   "metadata": {},
   "outputs": [
    {
     "data": {
      "text/html": [
       "<div>\n",
       "<style scoped>\n",
       "    .dataframe tbody tr th:only-of-type {\n",
       "        vertical-align: middle;\n",
       "    }\n",
       "\n",
       "    .dataframe tbody tr th {\n",
       "        vertical-align: top;\n",
       "    }\n",
       "\n",
       "    .dataframe thead th {\n",
       "        text-align: right;\n",
       "    }\n",
       "</style>\n",
       "<table border=\"1\" class=\"dataframe\">\n",
       "  <thead>\n",
       "    <tr style=\"text-align: right;\">\n",
       "      <th></th>\n",
       "      <th>Criterion</th>\n",
       "      <th>Depth</th>\n",
       "      <th>TrainAccuracy</th>\n",
       "      <th>TestAccuracy</th>\n",
       "    </tr>\n",
       "  </thead>\n",
       "  <tbody>\n",
       "    <tr>\n",
       "      <th>0</th>\n",
       "      <td>gini</td>\n",
       "      <td>1</td>\n",
       "      <td>0.921739</td>\n",
       "      <td>0.926174</td>\n",
       "    </tr>\n",
       "    <tr>\n",
       "      <th>1</th>\n",
       "      <td>gini</td>\n",
       "      <td>2</td>\n",
       "      <td>0.950725</td>\n",
       "      <td>0.932886</td>\n",
       "    </tr>\n",
       "    <tr>\n",
       "      <th>2</th>\n",
       "      <td>gini</td>\n",
       "      <td>3</td>\n",
       "      <td>0.979710</td>\n",
       "      <td>0.939597</td>\n",
       "    </tr>\n",
       "    <tr>\n",
       "      <th>3</th>\n",
       "      <td>gini</td>\n",
       "      <td>4</td>\n",
       "      <td>0.991304</td>\n",
       "      <td>0.959732</td>\n",
       "    </tr>\n",
       "    <tr>\n",
       "      <th>4</th>\n",
       "      <td>gini</td>\n",
       "      <td>5</td>\n",
       "      <td>0.994203</td>\n",
       "      <td>0.932886</td>\n",
       "    </tr>\n",
       "    <tr>\n",
       "      <th>5</th>\n",
       "      <td>gini</td>\n",
       "      <td>6</td>\n",
       "      <td>0.994203</td>\n",
       "      <td>0.932886</td>\n",
       "    </tr>\n",
       "    <tr>\n",
       "      <th>6</th>\n",
       "      <td>gini</td>\n",
       "      <td>7</td>\n",
       "      <td>0.994203</td>\n",
       "      <td>0.939597</td>\n",
       "    </tr>\n",
       "  </tbody>\n",
       "</table>\n",
       "</div>"
      ],
      "text/plain": [
       "  Criterion  Depth  TrainAccuracy  TestAccuracy\n",
       "0      gini      1       0.921739      0.926174\n",
       "1      gini      2       0.950725      0.932886\n",
       "2      gini      3       0.979710      0.939597\n",
       "3      gini      4       0.991304      0.959732\n",
       "4      gini      5       0.994203      0.932886\n",
       "5      gini      6       0.994203      0.932886\n",
       "6      gini      7       0.994203      0.939597"
      ]
     },
     "execution_count": 22,
     "metadata": {},
     "output_type": "execute_result"
    }
   ],
   "source": [
    "# train 및 test 정확도 결과 저장용\n",
    "train_accuracy = []\n",
    "test_accuracy = []\n",
    "# 적용가능한 criterion: gini, entropy\n",
    "para_max_depth = [i+1 for i in range(15)]*2\n",
    "n_iter_depth = 15\n",
    "# criterion 15개씩 리스트 생성\n",
    "para_criterion = [\"gini\"]*n_iter_depth + [\"entropy\"] * n_iter_depth\n",
    "# criterion: gini, entropy & max_depth: 1~30까지 반복 실행\n",
    "\n",
    "for (criterion, depth) in zip(para_criterion,para_max_depth):\n",
    "    rf3 = RandomForestClassifier(criterion = criterion,max_depth=depth, random_state=1234)\n",
    "    rf3.fit(ds_bc_train_x, ds_bc_train_y)\n",
    "    train_accuracy.append(rf3.score(ds_bc_train_x, ds_bc_train_y))\n",
    "    test_accuracy.append(rf3.score(ds_bc_test_x, ds_bc_test_y))\n",
    "# 저장된 모델의 criterion 및 train/test 데이터 분류 정확도 테이블 생성\n",
    "ds_accuracy3 = pd.DataFrame()\n",
    "ds_accuracy3[\"Criterion\"] = para_criterion\n",
    "ds_accuracy3[\"Depth\"] = para_max_depth\n",
    "ds_accuracy3[\"TrainAccuracy\"] = train_accuracy\n",
    "ds_accuracy3[\"TestAccuracy\"] = test_accuracy\n",
    "ds_accuracy3.head(7)"
   ]
  },
  {
   "cell_type": "code",
   "execution_count": 23,
   "metadata": {},
   "outputs": [
    {
     "data": {
      "text/plain": [
       "<matplotlib.axes._subplots.AxesSubplot at 0x7f21d03caf98>"
      ]
     },
     "execution_count": 23,
     "metadata": {},
     "output_type": "execute_result"
    },
    {
     "data": {
      "image/png": "[encoded data removed]",
      "text/plain": [
       "<Figure size 432x288 with 1 Axes>"
      ]
     },
     "metadata": {
      "needs_background": "light"
     },
     "output_type": "display_data"
    }
   ],
   "source": [
    "#그래프생성 \n",
    "accuracy3_melt = pd.melt(ds_accuracy3, id_vars=[\"Criterion\",\"Depth\"])\n",
    "accuracy3_melt[\"Accuracy\"] = accuracy3_melt[\"Criterion\"] + \"_\" + accuracy3_melt[\"variable\"]\n",
    "sns.lineplot( x= \"Depth\", y=\"value\", hue =\"Accuracy\", data = accuracy3_melt)"
   ]
  },
  {
   "cell_type": "markdown",
   "metadata": {},
   "source": [
    "# train :\n",
    "# depth가 커질수록 정확도 증가 경향\n",
    "\n",
    "\n",
    "\n",
    "# test :\n",
    "# gini에서 depth가 4인 경우 높은 정확도에 비교적 단순한 모형"
   ]
  },
  {
   "cell_type": "markdown",
   "metadata": {},
   "source": [
    "#  "
   ]
  },
  {
   "cell_type": "markdown",
   "metadata": {},
   "source": [
    "# 3.min_samples_leaf 최소 잎 크기에 따라 : 1~69"
   ]
  },
  {
   "cell_type": "code",
   "execution_count": 24,
   "metadata": {},
   "outputs": [
    {
     "data": {
      "text/plain": [
       "<matplotlib.axes._subplots.AxesSubplot at 0x7f21d031c940>"
      ]
     },
     "execution_count": 24,
     "metadata": {},
     "output_type": "execute_result"
    },
    {
     "data": {
      "image/png": "[encoded data removed]",
      "text/plain": [
       "<Figure size 432x288 with 1 Axes>"
      ]
     },
     "metadata": {
      "needs_background": "light"
     },
     "output_type": "display_data"
    }
   ],
   "source": [
    "train_accuracy =[]; test_accuracy =[]\n",
    "\n",
    "n_depth = 5\n",
    "n_iter_min_leaf_size =70\n",
    "\n",
    "para_criterion= [\"entropy\"] *n_iter_min_leaf_size\n",
    "para_min_leaf_size = [i+1 for i in range(n_iter_min_leaf_size)]\n",
    "\n",
    "for(criterion,leafsize) in zip(para_criterion, para_min_leaf_size):\n",
    "    rf4 = RandomForestClassifier(criterion = criterion, max_depth = n_depth, min_samples_leaf = leafsize,random_state = 1234)\n",
    "    rf4.fit(ds_bc_train_x, ds_bc_train_y)\n",
    "    \n",
    "    train_accuracy.append(rf4.score(ds_bc_train_x, ds_bc_train_y))\n",
    "    test_accuracy.append(rf4.score(ds_bc_test_x, ds_bc_test_y))\n",
    "accuracy4= pd.DataFrame()\n",
    "accuracy4[\"Criterion\"] = para_criterion\n",
    "accuracy4[\"Depth\"] = n_depth\n",
    "accuracy4[\"MinLeafSize\"] = para_min_leaf_size\n",
    "accuracy4[\"TrainAccuracy\"] = train_accuracy\n",
    "accuracy4[\"TestAccuracy\"] = test_accuracy\n",
    "#그래프\n",
    "accuracy4_melt = pd.melt(accuracy4, id_vars=[\"Criterion\",\"Depth\",\"MinLeafSize\"])\n",
    "accuracy4_melt[\"Accuracy\"] = accuracy4_melt[\"Criterion\"] + \"_\" + accuracy4_melt[\"variable\"]\n",
    "sns.lineplot( x= \"MinLeafSize\", y=\"value\", hue =\"Accuracy\", data = accuracy4_melt)"
   ]
  },
  {
   "cell_type": "markdown",
   "metadata": {},
   "source": [
    "# test 정확도는 다소 변동이 있어도\n",
    "# min_leaf_size가 커질 수록 대체로 감소하는 경향\n",
    "# min_leaf_size 낮아야 정확도가 상승 (1일수록 정확히 분류)\n",
    "# 7~8정도에도 높은 test 정확도를 보임"
   ]
  },
  {
   "cell_type": "markdown",
   "metadata": {},
   "source": [
    "#  ----------------------------------------------------------------------\n",
    "# 최종 랜덤 포레스트 모형 : criterion=\"gini\",max_depth=4, min_samples_leaf=6, n_estimators = 15을 선택\n",
    "#  ----------------------------------------------------------------------"
   ]
  },
  {
   "cell_type": "code",
   "execution_count": 51,
   "metadata": {},
   "outputs": [],
   "source": [
    "finalModel = RandomForestClassifier(criterion = \"gini\", max_depth = 4, \n",
    "                                    n_estimators = 15 , min_samples_leaf = 6, random_state = 1234)"
   ]
  },
  {
   "cell_type": "code",
   "execution_count": 54,
   "metadata": {},
   "outputs": [
    {
     "data": {
      "text/plain": [
       "RandomForestClassifier(bootstrap=True, class_weight=None, criterion='gini',\n",
       "            max_depth=4, max_features='auto', max_leaf_nodes=None,\n",
       "            min_impurity_decrease=0.0, min_impurity_split=None,\n",
       "            min_samples_leaf=6, min_samples_split=2,\n",
       "            min_weight_fraction_leaf=0.0, n_estimators=15, n_jobs=None,\n",
       "            oob_score=False, random_state=1234, verbose=0,\n",
       "            warm_start=False)"
      ]
     },
     "execution_count": 54,
     "metadata": {},
     "output_type": "execute_result"
    }
   ],
   "source": [
    "finalModel.fit(ds_bc_train_x,ds_bc_train_y)"
   ]
  },
  {
   "cell_type": "code",
   "execution_count": 55,
   "metadata": {},
   "outputs": [
    {
     "name": "stdout",
     "output_type": "stream",
     "text": [
      "RandomForest_Accuracy: 0.953\n",
      "DecisionTree_Accuracy: 0.926\n"
     ]
    },
    {
     "data": {
      "image/svg+xml": [
       "<?xml version=\"1.0\" encoding=\"UTF-8\" standalone=\"no\"?>\n",
       "<!DOCTYPE svg PUBLIC \"-//W3C//DTD SVG 1.1//EN\"\n",
       " \"http://www.w3.org/Graphics/SVG/1.1/DTD/svg11.dtd\">\n",
       "<!-- Generated by graphviz version 2.40.1 (20161225.0304)\n",
       " -->\n",
       "<!-- Title: Tree Pages: 1 -->\n",
       "<svg width=\"855pt\" height=\"477pt\"\n",
       " viewBox=\"0.00 0.00 854.50 477.00\" xmlns=\"http://www.w3.org/2000/svg\" xmlns:xlink=\"http://www.w3.org/1999/xlink\">\n",
       "<g id=\"graph0\" class=\"graph\" transform=\"scale(1 1) rotate(0) translate(4 473)\">\n",
       "<title>Tree</title>\n",
       "<polygon fill=\"#ffffff\" stroke=\"transparent\" points=\"-4,4 -4,-473 850.5,-473 850.5,4 -4,4\"/>\n",
       "<!-- 0 -->\n",
       "<g id=\"node1\" class=\"node\">\n",
       "<title>0</title>\n",
       "<polygon fill=\"#e58139\" fill-opacity=\"0.549020\" stroke=\"#000000\" points=\"513.5,-469 327.5,-469 327.5,-401 513.5,-401 513.5,-469\"/>\n",
       "<text text-anchor=\"middle\" x=\"420.5\" y=\"-453.8\" font-family=\"Times,serif\" font-size=\"14.00\" fill=\"#000000\">mean concave points &lt;= 0.051</text>\n",
       "<text text-anchor=\"middle\" x=\"420.5\" y=\"-438.8\" font-family=\"Times,serif\" font-size=\"14.00\" fill=\"#000000\">samples = 345</text>\n",
       "<text text-anchor=\"middle\" x=\"420.5\" y=\"-423.8\" font-family=\"Times,serif\" font-size=\"14.00\" fill=\"#000000\">value = [238, 107]</text>\n",
       "<text text-anchor=\"middle\" x=\"420.5\" y=\"-408.8\" font-family=\"Times,serif\" font-size=\"14.00\" fill=\"#000000\">class = 0</text>\n",
       "</g>\n",
       "<!-- 1 -->\n",
       "<g id=\"node2\" class=\"node\">\n",
       "<title>1</title>\n",
       "<polygon fill=\"#e58139\" fill-opacity=\"0.945098\" stroke=\"#000000\" points=\"406.5,-365 268.5,-365 268.5,-297 406.5,-297 406.5,-365\"/>\n",
       "<text text-anchor=\"middle\" x=\"337.5\" y=\"-349.8\" font-family=\"Times,serif\" font-size=\"14.00\" fill=\"#000000\">worst radius &lt;= 16.83</text>\n",
       "<text text-anchor=\"middle\" x=\"337.5\" y=\"-334.8\" font-family=\"Times,serif\" font-size=\"14.00\" fill=\"#000000\">samples = 237</text>\n",
       "<text text-anchor=\"middle\" x=\"337.5\" y=\"-319.8\" font-family=\"Times,serif\" font-size=\"14.00\" fill=\"#000000\">value = [225, 12]</text>\n",
       "<text text-anchor=\"middle\" x=\"337.5\" y=\"-304.8\" font-family=\"Times,serif\" font-size=\"14.00\" fill=\"#000000\">class = 0</text>\n",
       "</g>\n",
       "<!-- 0&#45;&gt;1 -->\n",
       "<g id=\"edge1\" class=\"edge\">\n",
       "<title>0&#45;&gt;1</title>\n",
       "<path fill=\"none\" stroke=\"#000000\" d=\"M393.3227,-400.9465C386.2288,-392.0578 378.4985,-382.3716 371.114,-373.1188\"/>\n",
       "<polygon fill=\"#000000\" stroke=\"#000000\" points=\"373.7118,-370.7628 364.7384,-365.13 368.2406,-375.1293 373.7118,-370.7628\"/>\n",
       "<text text-anchor=\"middle\" x=\"361.9484\" y=\"-386.2738\" font-family=\"Times,serif\" font-size=\"14.00\" fill=\"#000000\">True</text>\n",
       "</g>\n",
       "<!-- 10 -->\n",
       "<g id=\"node11\" class=\"node\">\n",
       "<title>10</title>\n",
       "<polygon fill=\"#399de5\" fill-opacity=\"0.862745\" stroke=\"#000000\" points=\"582.5,-365 424.5,-365 424.5,-297 582.5,-297 582.5,-365\"/>\n",
       "<text text-anchor=\"middle\" x=\"503.5\" y=\"-349.8\" font-family=\"Times,serif\" font-size=\"14.00\" fill=\"#000000\">worst concavity &lt;= 0.216</text>\n",
       "<text text-anchor=\"middle\" x=\"503.5\" y=\"-334.8\" font-family=\"Times,serif\" font-size=\"14.00\" fill=\"#000000\">samples = 108</text>\n",
       "<text text-anchor=\"middle\" x=\"503.5\" y=\"-319.8\" font-family=\"Times,serif\" font-size=\"14.00\" fill=\"#000000\">value = [13, 95]</text>\n",
       "<text text-anchor=\"middle\" x=\"503.5\" y=\"-304.8\" font-family=\"Times,serif\" font-size=\"14.00\" fill=\"#000000\">class = 1</text>\n",
       "</g>\n",
       "<!-- 0&#45;&gt;10 -->\n",
       "<g id=\"edge10\" class=\"edge\">\n",
       "<title>0&#45;&gt;10</title>\n",
       "<path fill=\"none\" stroke=\"#000000\" d=\"M447.6773,-400.9465C454.7712,-392.0578 462.5015,-382.3716 469.886,-373.1188\"/>\n",
       "<polygon fill=\"#000000\" stroke=\"#000000\" points=\"472.7594,-375.1293 476.2616,-365.13 467.2882,-370.7628 472.7594,-375.1293\"/>\n",
       "<text text-anchor=\"middle\" x=\"479.0516\" y=\"-386.2738\" font-family=\"Times,serif\" font-size=\"14.00\" fill=\"#000000\">False</text>\n",
       "</g>\n",
       "<!-- 2 -->\n",
       "<g id=\"node3\" class=\"node\">\n",
       "<title>2</title>\n",
       "<polygon fill=\"#e58139\" fill-opacity=\"0.988235\" stroke=\"#000000\" points=\"265,-261 134,-261 134,-193 265,-193 265,-261\"/>\n",
       "<text text-anchor=\"middle\" x=\"199.5\" y=\"-245.8\" font-family=\"Times,serif\" font-size=\"14.00\" fill=\"#000000\">area error &lt;= 34.405</text>\n",
       "<text text-anchor=\"middle\" x=\"199.5\" y=\"-230.8\" font-family=\"Times,serif\" font-size=\"14.00\" fill=\"#000000\">samples = 222</text>\n",
       "<text text-anchor=\"middle\" x=\"199.5\" y=\"-215.8\" font-family=\"Times,serif\" font-size=\"14.00\" fill=\"#000000\">value = [219, 3]</text>\n",
       "<text text-anchor=\"middle\" x=\"199.5\" y=\"-200.8\" font-family=\"Times,serif\" font-size=\"14.00\" fill=\"#000000\">class = 0</text>\n",
       "</g>\n",
       "<!-- 1&#45;&gt;2 -->\n",
       "<g id=\"edge2\" class=\"edge\">\n",
       "<title>1&#45;&gt;2</title>\n",
       "<path fill=\"none\" stroke=\"#000000\" d=\"M292.3136,-296.9465C279.685,-287.4293 265.8433,-276.9978 252.7932,-267.163\"/>\n",
       "<polygon fill=\"#000000\" stroke=\"#000000\" points=\"254.8805,-264.3534 244.7879,-261.13 250.6675,-269.9437 254.8805,-264.3534\"/>\n",
       "</g>\n",
       "<!-- 7 -->\n",
       "<g id=\"node8\" class=\"node\">\n",
       "<title>7</title>\n",
       "<polygon fill=\"#399de5\" fill-opacity=\"0.333333\" stroke=\"#000000\" points=\"411.5,-261 283.5,-261 283.5,-193 411.5,-193 411.5,-261\"/>\n",
       "<text text-anchor=\"middle\" x=\"347.5\" y=\"-245.8\" font-family=\"Times,serif\" font-size=\"14.00\" fill=\"#000000\">mean area &lt;= 722.5</text>\n",
       "<text text-anchor=\"middle\" x=\"347.5\" y=\"-230.8\" font-family=\"Times,serif\" font-size=\"14.00\" fill=\"#000000\">samples = 15</text>\n",
       "<text text-anchor=\"middle\" x=\"347.5\" y=\"-215.8\" font-family=\"Times,serif\" font-size=\"14.00\" fill=\"#000000\">value = [6, 9]</text>\n",
       "<text text-anchor=\"middle\" x=\"347.5\" y=\"-200.8\" font-family=\"Times,serif\" font-size=\"14.00\" fill=\"#000000\">class = 1</text>\n",
       "</g>\n",
       "<!-- 1&#45;&gt;7 -->\n",
       "<g id=\"edge7\" class=\"edge\">\n",
       "<title>1&#45;&gt;7</title>\n",
       "<path fill=\"none\" stroke=\"#000000\" d=\"M340.7744,-296.9465C341.5686,-288.6863 342.4291,-279.7374 343.2608,-271.0875\"/>\n",
       "<polygon fill=\"#000000\" stroke=\"#000000\" points=\"346.745,-271.4191 344.2183,-261.13 339.7771,-270.7491 346.745,-271.4191\"/>\n",
       "</g>\n",
       "<!-- 3 -->\n",
       "<g id=\"node4\" class=\"node\">\n",
       "<title>3</title>\n",
       "<polygon fill=\"#e58139\" stroke=\"#000000\" points=\"105,-149.5 0,-149.5 0,-96.5 105,-96.5 105,-149.5\"/>\n",
       "<text text-anchor=\"middle\" x=\"52.5\" y=\"-134.3\" font-family=\"Times,serif\" font-size=\"14.00\" fill=\"#000000\">samples = 209</text>\n",
       "<text text-anchor=\"middle\" x=\"52.5\" y=\"-119.3\" font-family=\"Times,serif\" font-size=\"14.00\" fill=\"#000000\">value = [209, 0]</text>\n",
       "<text text-anchor=\"middle\" x=\"52.5\" y=\"-104.3\" font-family=\"Times,serif\" font-size=\"14.00\" fill=\"#000000\">class = 0</text>\n",
       "</g>\n",
       "<!-- 2&#45;&gt;3 -->\n",
       "<g id=\"edge3\" class=\"edge\">\n",
       "<title>2&#45;&gt;3</title>\n",
       "<path fill=\"none\" stroke=\"#000000\" d=\"M151.3667,-192.9465C134.3963,-180.9403 115.3696,-167.4791 98.5735,-155.5962\"/>\n",
       "<polygon fill=\"#000000\" stroke=\"#000000\" points=\"100.2013,-152.4605 90.0163,-149.5422 96.1584,-158.175 100.2013,-152.4605\"/>\n",
       "</g>\n",
       "<!-- 4 -->\n",
       "<g id=\"node5\" class=\"node\">\n",
       "<title>4</title>\n",
       "<polygon fill=\"#e58139\" fill-opacity=\"0.701961\" stroke=\"#000000\" points=\"280,-157 123,-157 123,-89 280,-89 280,-157\"/>\n",
       "<text text-anchor=\"middle\" x=\"201.5\" y=\"-141.8\" font-family=\"Times,serif\" font-size=\"14.00\" fill=\"#000000\">symmetry error &lt;= 0.025</text>\n",
       "<text text-anchor=\"middle\" x=\"201.5\" y=\"-126.8\" font-family=\"Times,serif\" font-size=\"14.00\" fill=\"#000000\">samples = 13</text>\n",
       "<text text-anchor=\"middle\" x=\"201.5\" y=\"-111.8\" font-family=\"Times,serif\" font-size=\"14.00\" fill=\"#000000\">value = [10, 3]</text>\n",
       "<text text-anchor=\"middle\" x=\"201.5\" y=\"-96.8\" font-family=\"Times,serif\" font-size=\"14.00\" fill=\"#000000\">class = 0</text>\n",
       "</g>\n",
       "<!-- 2&#45;&gt;4 -->\n",
       "<g id=\"edge4\" class=\"edge\">\n",
       "<title>2&#45;&gt;4</title>\n",
       "<path fill=\"none\" stroke=\"#000000\" d=\"M200.1549,-192.9465C200.312,-184.776 200.4821,-175.9318 200.6467,-167.3697\"/>\n",
       "<polygon fill=\"#000000\" stroke=\"#000000\" points=\"204.1506,-167.1955 200.8437,-157.13 197.1519,-167.0608 204.1506,-167.1955\"/>\n",
       "</g>\n",
       "<!-- 5 -->\n",
       "<g id=\"node6\" class=\"node\">\n",
       "<title>5</title>\n",
       "<polygon fill=\"transparent\" stroke=\"#000000\" points=\"192.5,-53 100.5,-53 100.5,0 192.5,0 192.5,-53\"/>\n",
       "<text text-anchor=\"middle\" x=\"146.5\" y=\"-37.8\" font-family=\"Times,serif\" font-size=\"14.00\" fill=\"#000000\">samples = 6</text>\n",
       "<text text-anchor=\"middle\" x=\"146.5\" y=\"-22.8\" font-family=\"Times,serif\" font-size=\"14.00\" fill=\"#000000\">value = [3, 3]</text>\n",
       "<text text-anchor=\"middle\" x=\"146.5\" y=\"-7.8\" font-family=\"Times,serif\" font-size=\"14.00\" fill=\"#000000\">class = 0</text>\n",
       "</g>\n",
       "<!-- 4&#45;&gt;5 -->\n",
       "<g id=\"edge5\" class=\"edge\">\n",
       "<title>4&#45;&gt;5</title>\n",
       "<path fill=\"none\" stroke=\"#000000\" d=\"M182.1091,-88.9777C177.151,-80.2786 171.8067,-70.9018 166.8042,-62.1247\"/>\n",
       "<polygon fill=\"#000000\" stroke=\"#000000\" points=\"169.7378,-60.2033 161.7452,-53.2485 163.6562,-63.6696 169.7378,-60.2033\"/>\n",
       "</g>\n",
       "<!-- 6 -->\n",
       "<g id=\"node7\" class=\"node\">\n",
       "<title>6</title>\n",
       "<polygon fill=\"#e58139\" stroke=\"#000000\" points=\"302.5,-53 210.5,-53 210.5,0 302.5,0 302.5,-53\"/>\n",
       "<text text-anchor=\"middle\" x=\"256.5\" y=\"-37.8\" font-family=\"Times,serif\" font-size=\"14.00\" fill=\"#000000\">samples = 7</text>\n",
       "<text text-anchor=\"middle\" x=\"256.5\" y=\"-22.8\" font-family=\"Times,serif\" font-size=\"14.00\" fill=\"#000000\">value = [7, 0]</text>\n",
       "<text text-anchor=\"middle\" x=\"256.5\" y=\"-7.8\" font-family=\"Times,serif\" font-size=\"14.00\" fill=\"#000000\">class = 0</text>\n",
       "</g>\n",
       "<!-- 4&#45;&gt;6 -->\n",
       "<g id=\"edge6\" class=\"edge\">\n",
       "<title>4&#45;&gt;6</title>\n",
       "<path fill=\"none\" stroke=\"#000000\" d=\"M220.8909,-88.9777C225.849,-80.2786 231.1933,-70.9018 236.1958,-62.1247\"/>\n",
       "<polygon fill=\"#000000\" stroke=\"#000000\" points=\"239.3438,-63.6696 241.2548,-53.2485 233.2622,-60.2033 239.3438,-63.6696\"/>\n",
       "</g>\n",
       "<!-- 8 -->\n",
       "<g id=\"node9\" class=\"node\">\n",
       "<title>8</title>\n",
       "<polygon fill=\"#399de5\" stroke=\"#000000\" points=\"392.5,-149.5 300.5,-149.5 300.5,-96.5 392.5,-96.5 392.5,-149.5\"/>\n",
       "<text text-anchor=\"middle\" x=\"346.5\" y=\"-134.3\" font-family=\"Times,serif\" font-size=\"14.00\" fill=\"#000000\">samples = 8</text>\n",
       "<text text-anchor=\"middle\" x=\"346.5\" y=\"-119.3\" font-family=\"Times,serif\" font-size=\"14.00\" fill=\"#000000\">value = [0, 8]</text>\n",
       "<text text-anchor=\"middle\" x=\"346.5\" y=\"-104.3\" font-family=\"Times,serif\" font-size=\"14.00\" fill=\"#000000\">class = 1</text>\n",
       "</g>\n",
       "<!-- 7&#45;&gt;8 -->\n",
       "<g id=\"edge8\" class=\"edge\">\n",
       "<title>7&#45;&gt;8</title>\n",
       "<path fill=\"none\" stroke=\"#000000\" d=\"M347.1726,-192.9465C347.0698,-182.2621 346.956,-170.4254 346.8517,-159.5742\"/>\n",
       "<polygon fill=\"#000000\" stroke=\"#000000\" points=\"350.3513,-159.508 346.7552,-149.5422 343.3516,-159.5754 350.3513,-159.508\"/>\n",
       "</g>\n",
       "<!-- 9 -->\n",
       "<g id=\"node10\" class=\"node\">\n",
       "<title>9</title>\n",
       "<polygon fill=\"#e58139\" fill-opacity=\"0.831373\" stroke=\"#000000\" points=\"502.5,-149.5 410.5,-149.5 410.5,-96.5 502.5,-96.5 502.5,-149.5\"/>\n",
       "<text text-anchor=\"middle\" x=\"456.5\" y=\"-134.3\" font-family=\"Times,serif\" font-size=\"14.00\" fill=\"#000000\">samples = 7</text>\n",
       "<text text-anchor=\"middle\" x=\"456.5\" y=\"-119.3\" font-family=\"Times,serif\" font-size=\"14.00\" fill=\"#000000\">value = [6, 1]</text>\n",
       "<text text-anchor=\"middle\" x=\"456.5\" y=\"-104.3\" font-family=\"Times,serif\" font-size=\"14.00\" fill=\"#000000\">class = 0</text>\n",
       "</g>\n",
       "<!-- 7&#45;&gt;9 -->\n",
       "<g id=\"edge9\" class=\"edge\">\n",
       "<title>7&#45;&gt;9</title>\n",
       "<path fill=\"none\" stroke=\"#000000\" d=\"M383.1907,-192.9465C395.4278,-181.2707 409.107,-168.219 421.3046,-156.5809\"/>\n",
       "<polygon fill=\"#000000\" stroke=\"#000000\" points=\"423.8628,-158.9777 428.6818,-149.5422 419.0306,-153.9131 423.8628,-158.9777\"/>\n",
       "</g>\n",
       "<!-- 11 -->\n",
       "<g id=\"node12\" class=\"node\">\n",
       "<title>11</title>\n",
       "<polygon fill=\"#e58139\" fill-opacity=\"0.874510\" stroke=\"#000000\" points=\"540.5,-253.5 448.5,-253.5 448.5,-200.5 540.5,-200.5 540.5,-253.5\"/>\n",
       "<text text-anchor=\"middle\" x=\"494.5\" y=\"-238.3\" font-family=\"Times,serif\" font-size=\"14.00\" fill=\"#000000\">samples = 9</text>\n",
       "<text text-anchor=\"middle\" x=\"494.5\" y=\"-223.3\" font-family=\"Times,serif\" font-size=\"14.00\" fill=\"#000000\">value = [8, 1]</text>\n",
       "<text text-anchor=\"middle\" x=\"494.5\" y=\"-208.3\" font-family=\"Times,serif\" font-size=\"14.00\" fill=\"#000000\">class = 0</text>\n",
       "</g>\n",
       "<!-- 10&#45;&gt;11 -->\n",
       "<g id=\"edge11\" class=\"edge\">\n",
       "<title>10&#45;&gt;11</title>\n",
       "<path fill=\"none\" stroke=\"#000000\" d=\"M500.5531,-296.9465C499.6284,-286.2621 498.6041,-274.4254 497.6651,-263.5742\"/>\n",
       "<polygon fill=\"#000000\" stroke=\"#000000\" points=\"501.1461,-263.2031 496.7969,-253.5422 494.1722,-263.8067 501.1461,-263.2031\"/>\n",
       "</g>\n",
       "<!-- 12 -->\n",
       "<g id=\"node13\" class=\"node\">\n",
       "<title>12</title>\n",
       "<polygon fill=\"#399de5\" fill-opacity=\"0.945098\" stroke=\"#000000\" points=\"716.5,-261 558.5,-261 558.5,-193 716.5,-193 716.5,-261\"/>\n",
       "<text text-anchor=\"middle\" x=\"637.5\" y=\"-245.8\" font-family=\"Times,serif\" font-size=\"14.00\" fill=\"#000000\">worst perimeter &lt;= 103.1</text>\n",
       "<text text-anchor=\"middle\" x=\"637.5\" y=\"-230.8\" font-family=\"Times,serif\" font-size=\"14.00\" fill=\"#000000\">samples = 99</text>\n",
       "<text text-anchor=\"middle\" x=\"637.5\" y=\"-215.8\" font-family=\"Times,serif\" font-size=\"14.00\" fill=\"#000000\">value = [5, 94]</text>\n",
       "<text text-anchor=\"middle\" x=\"637.5\" y=\"-200.8\" font-family=\"Times,serif\" font-size=\"14.00\" fill=\"#000000\">class = 1</text>\n",
       "</g>\n",
       "<!-- 10&#45;&gt;12 -->\n",
       "<g id=\"edge12\" class=\"edge\">\n",
       "<title>10&#45;&gt;12</title>\n",
       "<path fill=\"none\" stroke=\"#000000\" d=\"M547.3766,-296.9465C559.5235,-287.519 572.8262,-277.1946 585.3927,-267.4415\"/>\n",
       "<polygon fill=\"#000000\" stroke=\"#000000\" points=\"587.7709,-270.0262 593.5248,-261.13 583.479,-264.4963 587.7709,-270.0262\"/>\n",
       "</g>\n",
       "<!-- 13 -->\n",
       "<g id=\"node14\" class=\"node\">\n",
       "<title>13</title>\n",
       "<polygon fill=\"transparent\" stroke=\"#000000\" points=\"648.5,-149.5 556.5,-149.5 556.5,-96.5 648.5,-96.5 648.5,-149.5\"/>\n",
       "<text text-anchor=\"middle\" x=\"602.5\" y=\"-134.3\" font-family=\"Times,serif\" font-size=\"14.00\" fill=\"#000000\">samples = 6</text>\n",
       "<text text-anchor=\"middle\" x=\"602.5\" y=\"-119.3\" font-family=\"Times,serif\" font-size=\"14.00\" fill=\"#000000\">value = [3, 3]</text>\n",
       "<text text-anchor=\"middle\" x=\"602.5\" y=\"-104.3\" font-family=\"Times,serif\" font-size=\"14.00\" fill=\"#000000\">class = 0</text>\n",
       "</g>\n",
       "<!-- 12&#45;&gt;13 -->\n",
       "<g id=\"edge13\" class=\"edge\">\n",
       "<title>12&#45;&gt;13</title>\n",
       "<path fill=\"none\" stroke=\"#000000\" d=\"M626.0397,-192.9465C622.4069,-182.1519 618.3783,-170.1813 614.6958,-159.2389\"/>\n",
       "<polygon fill=\"#000000\" stroke=\"#000000\" points=\"617.9393,-157.9035 611.4325,-149.5422 611.3049,-160.1362 617.9393,-157.9035\"/>\n",
       "</g>\n",
       "<!-- 14 -->\n",
       "<g id=\"node15\" class=\"node\">\n",
       "<title>14</title>\n",
       "<polygon fill=\"#399de5\" fill-opacity=\"0.976471\" stroke=\"#000000\" points=\"816,-157 667,-157 667,-89 816,-89 816,-157\"/>\n",
       "<text text-anchor=\"middle\" x=\"741.5\" y=\"-141.8\" font-family=\"Times,serif\" font-size=\"14.00\" fill=\"#000000\">mean texture &lt;= 15.375</text>\n",
       "<text text-anchor=\"middle\" x=\"741.5\" y=\"-126.8\" font-family=\"Times,serif\" font-size=\"14.00\" fill=\"#000000\">samples = 93</text>\n",
       "<text text-anchor=\"middle\" x=\"741.5\" y=\"-111.8\" font-family=\"Times,serif\" font-size=\"14.00\" fill=\"#000000\">value = [2, 91]</text>\n",
       "<text text-anchor=\"middle\" x=\"741.5\" y=\"-96.8\" font-family=\"Times,serif\" font-size=\"14.00\" fill=\"#000000\">class = 1</text>\n",
       "</g>\n",
       "<!-- 12&#45;&gt;14 -->\n",
       "<g id=\"edge14\" class=\"edge\">\n",
       "<title>12&#45;&gt;14</title>\n",
       "<path fill=\"none\" stroke=\"#000000\" d=\"M671.5535,-192.9465C680.7116,-183.7884 690.7162,-173.7838 700.2212,-164.2788\"/>\n",
       "<polygon fill=\"#000000\" stroke=\"#000000\" points=\"702.7738,-166.676 707.37,-157.13 697.824,-161.7262 702.7738,-166.676\"/>\n",
       "</g>\n",
       "<!-- 15 -->\n",
       "<g id=\"node16\" class=\"node\">\n",
       "<title>15</title>\n",
       "<polygon fill=\"#399de5\" fill-opacity=\"0.498039\" stroke=\"#000000\" points=\"730.5,-53 638.5,-53 638.5,0 730.5,0 730.5,-53\"/>\n",
       "<text text-anchor=\"middle\" x=\"684.5\" y=\"-37.8\" font-family=\"Times,serif\" font-size=\"14.00\" fill=\"#000000\">samples = 6</text>\n",
       "<text text-anchor=\"middle\" x=\"684.5\" y=\"-22.8\" font-family=\"Times,serif\" font-size=\"14.00\" fill=\"#000000\">value = [2, 4]</text>\n",
       "<text text-anchor=\"middle\" x=\"684.5\" y=\"-7.8\" font-family=\"Times,serif\" font-size=\"14.00\" fill=\"#000000\">class = 1</text>\n",
       "</g>\n",
       "<!-- 14&#45;&gt;15 -->\n",
       "<g id=\"edge15\" class=\"edge\">\n",
       "<title>14&#45;&gt;15</title>\n",
       "<path fill=\"none\" stroke=\"#000000\" d=\"M721.4039,-88.9777C716.2656,-80.2786 710.727,-70.9018 705.5425,-62.1247\"/>\n",
       "<polygon fill=\"#000000\" stroke=\"#000000\" points=\"708.399,-60.0786 700.2996,-53.2485 702.3719,-63.6387 708.399,-60.0786\"/>\n",
       "</g>\n",
       "<!-- 16 -->\n",
       "<g id=\"node17\" class=\"node\">\n",
       "<title>16</title>\n",
       "<polygon fill=\"#399de5\" stroke=\"#000000\" points=\"846.5,-53 748.5,-53 748.5,0 846.5,0 846.5,-53\"/>\n",
       "<text text-anchor=\"middle\" x=\"797.5\" y=\"-37.8\" font-family=\"Times,serif\" font-size=\"14.00\" fill=\"#000000\">samples = 87</text>\n",
       "<text text-anchor=\"middle\" x=\"797.5\" y=\"-22.8\" font-family=\"Times,serif\" font-size=\"14.00\" fill=\"#000000\">value = [0, 87]</text>\n",
       "<text text-anchor=\"middle\" x=\"797.5\" y=\"-7.8\" font-family=\"Times,serif\" font-size=\"14.00\" fill=\"#000000\">class = 1</text>\n",
       "</g>\n",
       "<!-- 14&#45;&gt;16 -->\n",
       "<g id=\"edge16\" class=\"edge\">\n",
       "<title>14&#45;&gt;16</title>\n",
       "<path fill=\"none\" stroke=\"#000000\" d=\"M761.2435,-88.9777C766.2917,-80.2786 771.7331,-70.9018 776.8266,-62.1247\"/>\n",
       "<polygon fill=\"#000000\" stroke=\"#000000\" points=\"779.9855,-63.6544 781.9776,-53.2485 773.9311,-60.1409 779.9855,-63.6544\"/>\n",
       "</g>\n",
       "</g>\n",
       "</svg>\n"
      ],
      "text/plain": [
       "<graphviz.files.Source at 0x7f21d02918d0>"
      ]
     },
     "metadata": {},
     "output_type": "display_data"
    }
   ],
   "source": [
    "print(\"RandomForest_Accuracy: {0:.3f}\".format(finalModel.score(ds_bc_test_x,ds_bc_test_y).round(3)))\n",
    "\n",
    "#트리모델 생성, criterion = \"gini\", max_depth = 4, n_estimators = 15 , min_samples_leaf = 6으로 모델 생성\n",
    "tree = DecisionTreeClassifier(criterion=\"gini\",max_depth=4,\n",
    "                            min_samples_leaf=6,random_state=1234)\n",
    "tree.fit(ds_bc_train_x,ds_bc_train_y)\n",
    "\n",
    "print(\"DecisionTree_Accuracy: {0:.3f}\".format(tree.score(ds_bc_test_x,ds_bc_test_y).round(3)))\n",
    "\n",
    "\n",
    "export_graphviz(tree,out_file=\"tree.dot\", class_names=[\"0\",\"1\"],\n",
    "              feature_names=ds_bc_train_x.columns,impurity=False,filled=True)\n",
    "os.environ[\"PATH\"] += os.pathsep +\"\"\n",
    "\n",
    "with open(\"tree.dot\") as f:\n",
    "    dot_graph = f.read()\n",
    "display(graphviz.Source(dot_graph))"
   ]
  },
  {
   "cell_type": "markdown",
   "metadata": {},
   "source": [
    "#  DT는 그래픽 참고용이지 실제 RF 해석과 무관\n",
    "#  -------------------------------------------------------------------------------------\n",
    "\n",
    "# 여러 parameter를 변경하면서 정확도를 개선\n",
    "# criterion=\"gini\",max_depth=4, min_samples_leaf=6,  n_estimators = 15을 선택\n",
    "# 0.953의 정확도를 가진 RF 모형\n",
    "#  \n",
    "# depth가 커지면 정확도는 올라가나 모델 자체가 복잡해져 일반성이 약해짐\n",
    "# 위의 해당 모델은 depth가 적당함 \n",
    "\n",
    "#  min_samples_leaf가 커지면 일반성이 증가하나\n",
    "# 정확도를 위해 최소 리프가 6임\n"
   ]
  },
  {
   "cell_type": "code",
   "execution_count": 57,
   "metadata": {},
   "outputs": [
    {
     "data": {
      "image/png": "[encoded data removed]",
      "text/plain": [
       "<Figure size 432x288 with 1 Axes>"
      ]
     },
     "metadata": {
      "needs_background": "light"
     },
     "output_type": "display_data"
    }
   ],
   "source": [
    "rf_model = RandomForestClassifier(criterion = \"gini\", max_depth = 4, \n",
    "                                    n_estimators = 15 , min_samples_leaf = 6, random_state = 1234)\n",
    "rf_model.fit(ds_bc_train_x, ds_bc_train_y)\n",
    "\n",
    "feature_importance = pd.DataFrame()\n",
    "feature_importance[\"feature\"] = ds_bc_train_x.columns\n",
    "feature_importance[\"importance\"] = rf_model.feature_importances_\n",
    "feature_importance.sort_values( by = \"importance\" , ascending = False)\n",
    "\n",
    "def plot_feature_importance(model):\n",
    "    n_features = ds_bc_train_x.shape[1]\n",
    "    plt.barh(range(n_features), model.feature_importances_ , align= \"center\")\n",
    "    plt.yticks(np.arange(n_features), ds_bc_train_x.columns)\n",
    "    plt.xlabel(\"importance of explanatory variable\")\n",
    "    plt.ylabel(\"explanatory variable\")\n",
    "    plt.ylim(-1, n_features)\n",
    "    \n",
    "plot_feature_importance(rf_model)"
   ]
  },
  {
   "cell_type": "code",
   "execution_count": 58,
   "metadata": {},
   "outputs": [
    {
     "data": {
      "text/html": [
       "<div>\n",
       "<style scoped>\n",
       "    .dataframe tbody tr th:only-of-type {\n",
       "        vertical-align: middle;\n",
       "    }\n",
       "\n",
       "    .dataframe tbody tr th {\n",
       "        vertical-align: top;\n",
       "    }\n",
       "\n",
       "    .dataframe thead th {\n",
       "        text-align: right;\n",
       "    }\n",
       "</style>\n",
       "<table border=\"1\" class=\"dataframe\">\n",
       "  <thead>\n",
       "    <tr style=\"text-align: right;\">\n",
       "      <th></th>\n",
       "      <th>Feature</th>\n",
       "      <th>Importance</th>\n",
       "    </tr>\n",
       "  </thead>\n",
       "  <tbody>\n",
       "    <tr>\n",
       "      <th>27</th>\n",
       "      <td>worst concave points</td>\n",
       "      <td>0.2</td>\n",
       "    </tr>\n",
       "    <tr>\n",
       "      <th>6</th>\n",
       "      <td>mean concavity</td>\n",
       "      <td>0.2</td>\n",
       "    </tr>\n",
       "    <tr>\n",
       "      <th>7</th>\n",
       "      <td>mean concave points</td>\n",
       "      <td>0.2</td>\n",
       "    </tr>\n",
       "    <tr>\n",
       "      <th>23</th>\n",
       "      <td>worst area</td>\n",
       "      <td>0.2</td>\n",
       "    </tr>\n",
       "    <tr>\n",
       "      <th>22</th>\n",
       "      <td>worst perimeter</td>\n",
       "      <td>0.2</td>\n",
       "    </tr>\n",
       "    <tr>\n",
       "      <th>0</th>\n",
       "      <td>mean radius</td>\n",
       "      <td>0.0</td>\n",
       "    </tr>\n",
       "    <tr>\n",
       "      <th>16</th>\n",
       "      <td>concavity error</td>\n",
       "      <td>0.0</td>\n",
       "    </tr>\n",
       "    <tr>\n",
       "      <th>28</th>\n",
       "      <td>worst symmetry</td>\n",
       "      <td>0.0</td>\n",
       "    </tr>\n",
       "    <tr>\n",
       "      <th>26</th>\n",
       "      <td>worst concavity</td>\n",
       "      <td>0.0</td>\n",
       "    </tr>\n",
       "  </tbody>\n",
       "</table>\n",
       "</div>"
      ],
      "text/plain": [
       "                 Feature  Importance\n",
       "27  worst concave points         0.2\n",
       "6         mean concavity         0.2\n",
       "7    mean concave points         0.2\n",
       "23            worst area         0.2\n",
       "22       worst perimeter         0.2\n",
       "0            mean radius         0.0\n",
       "16       concavity error         0.0\n",
       "28        worst symmetry         0.0\n",
       "26       worst concavity         0.0"
      ]
     },
     "execution_count": 58,
     "metadata": {},
     "output_type": "execute_result"
    }
   ],
   "source": [
    "# f설명변수 중요도 확인 및 테이블로 저장\n",
    "ds_feature_importance = pd.DataFrame()\n",
    "ds_feature_importance[\"Feature\"] = ds_bc_train_x.columns\n",
    "ds_feature_importance[\"Importance\"] = searchcv.feature_importances_\n",
    "# mportance 테이블을 중요도별로 정렬\n",
    "ds_feature_importance.sort_values(\"Importance\", ascending=False).head(9)"
   ]
  },
  {
   "cell_type": "markdown",
   "metadata": {},
   "source": [
    "#  ----------------------------------------------------"
   ]
  },
  {
   "cell_type": "markdown",
   "metadata": {},
   "source": [
    "# 5개의 변수로 3개씩 해서 트리가 총 15개가 겹친 것으로 추정"
   ]
  }
 ],
 "metadata": {
  "kernelspec": {
   "display_name": "Python 3",
   "language": "python",
   "name": "python3"
  },
  "language_info": {
   "codemirror_mode": {
    "name": "ipython",
    "version": 3
   },
   "file_extension": ".py",
   "mimetype": "text/x-python",
   "name": "python",
   "nbconvert_exporter": "python",
   "pygments_lexer": "ipython3",
   "version": "3.7.1"
  }
 },
 "nbformat": 4,
 "nbformat_minor": 2
}
