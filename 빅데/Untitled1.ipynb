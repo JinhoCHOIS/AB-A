{
 "cells": [
  {
   "cell_type": "code",
   "execution_count": 1,
   "metadata": {},
   "outputs": [],
   "source": [
    "import numpy as np\n",
    "from sklearn.preprocessing import scale, robust_scale, minmax_scale\n",
    "\n",
    "from scipy import stats\n",
    "import scipy.stats \n",
    "import pandas as pd\n",
    "import statsmodels.api as sm\n",
    "import matplotlib\n",
    "import matplotlib.pyplot as plt\n",
    "import seaborn as sns\n",
    "\n",
    "import os\n",
    "from sklearn.tree import DecisionTreeClassifier\n",
    "from sklearn.tree import export_graphviz\n",
    "import graphviz\n",
    "\n",
    "from sklearn.model_selection import train_test_split\n",
    "from sklearn.ensemble import RandomForestClassifier\n",
    "from sklearn.metrics import make_scorer, accuracy_score\n",
    "from sklearn.model_selection import GridSearchCV\n",
    "\n",
    "%matplotlib inline\n",
    "matplotlib.rc('font', family='NanumBarunGothic')\n",
    "plt.rcParams['axes.unicode_minus']=False\n",
    "\n",
    "import warnings\n",
    "warnings.filterwarnings('ignore') #경고 무시"
   ]
  },
  {
   "cell_type": "code",
   "execution_count": 2,
   "metadata": {},
   "outputs": [
    {
     "name": "stdout",
     "output_type": "stream",
     "text": [
      "<class 'pandas.core.frame.DataFrame'>\n",
      "RangeIndex: 150 entries, 0 to 149\n",
      "Data columns (total 5 columns):\n",
      "SEPAL_LENGTH    150 non-null float64\n",
      "SEPAL_WIDTH     150 non-null float64\n",
      "PETAL_LENGTH    150 non-null float64\n",
      "PETAL_WIDTH     150 non-null float64\n",
      "SPECIES         150 non-null object\n",
      "dtypes: float64(4), object(1)\n",
      "memory usage: 5.9+ KB\n"
     ]
    }
   ],
   "source": [
    "ds_bc = pd.read_csv('/home/pirl/Downloads/week4day1/IRIS.csv',engine='python')\n",
    "ds_bc.info()\n"
   ]
  },
  {
   "cell_type": "code",
   "execution_count": 3,
   "metadata": {},
   "outputs": [
    {
     "name": "stdout",
     "output_type": "stream",
     "text": [
      "train data X size: (105, 4)\n",
      "train data Y size: (105,)\n",
      "test data X size: (45, 4)\n",
      "test data X size: (45,)\n"
     ]
    }
   ],
   "source": [
    "bc_y=ds_bc[\"SPECIES\"]\n",
    "bc_x=ds_bc.drop(\"SPECIES\",axis=1, inplace=False)\n",
    "bc_train_x, bc_test_x, bc_train_y, bc_test_y = train_test_split(bc_x,bc_y,test_size=0.3, random_state=1234)\n",
    "print(\"train data X size: {}\".format(bc_train_x.shape))\n",
    "print(\"train data Y size: {}\".format(bc_train_y.shape))\n",
    "print(\"test data X size: {}\".format(bc_test_x.shape))\n",
    "print(\"test data X size: {}\".format(bc_test_y.shape))"
   ]
  },
  {
   "cell_type": "code",
   "execution_count": 4,
   "metadata": {},
   "outputs": [
    {
     "name": "stdout",
     "output_type": "stream",
     "text": [
      "Accuracry on training set: 1.000\n",
      "Accuracry on test set: 0.978\n"
     ]
    }
   ],
   "source": [
    "tree_uncustomized = DecisionTreeClassifier(random_state=1234)\n",
    "tree_uncustomized.fit(bc_train_x,bc_train_y)\n",
    "#훈련데이터 정확도\n",
    "print(\"Accuracry on training set: {:.3f}\".format(tree_uncustomized.score(bc_train_x,\n",
    "                                                                        bc_train_y)))\n",
    "#test 데이터 정확도\n",
    "print(\"Accuracry on test set: {:.3f}\".format(tree_uncustomized.score(bc_test_x,\n",
    "                                                                       bc_test_y)))"
   ]
  },
  {
   "cell_type": "code",
   "execution_count": 5,
   "metadata": {},
   "outputs": [
    {
     "data": {
      "text/plain": [
       "<bound method BaseEstimator.get_params of DecisionTreeClassifier(class_weight=None, criterion='gini', max_depth=None,\n",
       "            max_features=None, max_leaf_nodes=None,\n",
       "            min_impurity_decrease=0.0, min_impurity_split=None,\n",
       "            min_samples_leaf=1, min_samples_split=2,\n",
       "            min_weight_fraction_leaf=0.0, presort=False, random_state=1234,\n",
       "            splitter='best')>"
      ]
     },
     "execution_count": 5,
     "metadata": {},
     "output_type": "execute_result"
    }
   ],
   "source": [
    "tree_uncustomized.get_params"
   ]
  },
  {
   "cell_type": "code",
   "execution_count": 14,
   "metadata": {},
   "outputs": [
    {
     "name": "stdout",
     "output_type": "stream",
     "text": [
      "Accuracy: 0.9619047619047619\n",
      "Accuracy: 0.9555555555555556\n"
     ]
    }
   ],
   "source": [
    "#트리모델 생성,criterion=\"gini\",max_depth=2, min_samples_leaf=10으로 모델 생성\n",
    "tree1 = DecisionTreeClassifier(criterion=\"gini\",min_samples_split=10,random_state=1234,\n",
    "                         min_samples_leaf=5)\n",
    "#tree model training\n",
    "tree1.fit(bc_train_x,bc_train_y)\n",
    "print(\"Accuracy: {0}\".format(tree1.score(bc_train_x,bc_train_y)))\n",
    "print(\"Accuracy: {0}\".format(tree1.score(bc_test_x,bc_test_y)))"
   ]
  },
  {
   "cell_type": "code",
   "execution_count": 13,
   "metadata": {},
   "outputs": [
    {
     "name": "stdout",
     "output_type": "stream",
     "text": [
      "Accuracy: 0.9619047619047619\n",
      "Accuracy: 0.9555555555555556\n"
     ]
    }
   ],
   "source": [
    "#트리모델 생성,criterion=\"gini\",max_depth=2, min_samples_leaf=10으로 모델 생성\n",
    "tree2 = DecisionTreeClassifier(criterion=\"entropy\",min_samples_split=10,random_state=1234,\n",
    "                         min_samples_leaf=5)\n",
    "#tree model training\n",
    "tree2.fit(bc_train_x,bc_train_y)\n",
    "print(\"Accuracy: {0}\".format(tree2.score(bc_train_x,bc_train_y)))\n",
    "print(\"Accuracy: {0}\".format(tree2.score(bc_test_x,bc_test_y)))"
   ]
  }
 ],
 "metadata": {
  "kernelspec": {
   "display_name": "Python 3",
   "language": "python",
   "name": "python3"
  },
  "language_info": {
   "codemirror_mode": {
    "name": "ipython",
    "version": 3
   },
   "file_extension": ".py",
   "mimetype": "text/x-python",
   "name": "python",
   "nbconvert_exporter": "python",
   "pygments_lexer": "ipython3",
   "version": "3.7.1"
  }
 },
 "nbformat": 4,
 "nbformat_minor": 2
}
