{
 "cells": [
  {
   "cell_type": "markdown",
   "metadata": {},
   "source": [
    "# 6일차 과제 : SVM 서포트 벡터 머신\n",
    "\n",
    "최적의 매개변수를 찾고 최종 서포트 벡터 머신 모델을 만들어라. \n",
    "\n",
    "그리고 sklearn의 roc_curve 함수를 이용하여 roc curve를 그리고 결과를 해석하라.\n",
    "\n",
    "데이터 : 유방암 데이터(변수: 31개, 자료 수: 569개)\n",
    "\n",
    "-.목표변수(diagnosis, 0: Malignant(악성,212개), 1: Benign(양성,357개)"
   ]
  },
  {
   "cell_type": "code",
   "execution_count": 1,
   "metadata": {},
   "outputs": [],
   "source": [
    "import pandas as pd\n",
    "import numpy as np\n",
    "import statsmodels.api as sm\n",
    "import matplotlib.pyplot as plt\n",
    "import seaborn as sns\n",
    "import scipy.stats as stats\n",
    "import statsmodels.api as sm\n",
    "from sklearn.model_selection import train_test_split\n",
    "\n",
    "from sklearn import metrics\n",
    "from sklearn.preprocessing import scale\n",
    "\n",
    "from sklearn.model_selection import train_test_split\n",
    "import os\n",
    "from sklearn.tree import DecisionTreeClassifier\n",
    "from sklearn.tree import export_graphviz\n",
    "import graphviz\n",
    "\n",
    "from sklearn.ensemble import RandomForestClassifier\n",
    "from sklearn.metrics import make_scorer, accuracy_score\n",
    "from sklearn.model_selection import GridSearchCV\n",
    "\n",
    "from sklearn.preprocessing import scale\n",
    "from sklearn.svm import SVC\n",
    "\n",
    "import warnings\n",
    "warnings.filterwarnings('ignore')"
   ]
  },
  {
   "cell_type": "code",
   "execution_count": 2,
   "metadata": {},
   "outputs": [
    {
     "name": "stdout",
     "output_type": "stream",
     "text": [
      "<class 'pandas.core.frame.DataFrame'>\n",
      "RangeIndex: 569 entries, 0 to 568\n",
      "Data columns (total 31 columns):\n",
      "diagnosis                  569 non-null int64\n",
      "mean radius                569 non-null float64\n",
      "mean texture               569 non-null float64\n",
      "mean perimeter             569 non-null float64\n",
      "mean area                  569 non-null float64\n",
      "mean smoothness            569 non-null float64\n",
      "mean compactness           569 non-null float64\n",
      "mean concavity             569 non-null float64\n",
      "mean concave points        569 non-null float64\n",
      "mean symmetry              569 non-null float64\n",
      "mean fractal dimension     569 non-null float64\n",
      "radius error               569 non-null float64\n",
      "texture error              569 non-null float64\n",
      "perimeter error            569 non-null float64\n",
      "area error                 569 non-null float64\n",
      "smoothness error           569 non-null float64\n",
      "compactness error          569 non-null float64\n",
      "concavity error            569 non-null float64\n",
      "concave points error       569 non-null float64\n",
      "symmetry error             569 non-null float64\n",
      "fractal dimension error    569 non-null float64\n",
      "worst radius               569 non-null float64\n",
      "worst texture              569 non-null float64\n",
      "worst perimeter            569 non-null float64\n",
      "worst area                 569 non-null float64\n",
      "worst smoothness           569 non-null float64\n",
      "worst compactness          569 non-null float64\n",
      "worst concavity            569 non-null float64\n",
      "worst concave points       569 non-null float64\n",
      "worst symmetry             569 non-null float64\n",
      "worst fractal dimension    569 non-null float64\n",
      "dtypes: float64(30), int64(1)\n",
      "memory usage: 137.9 KB\n"
     ]
    }
   ],
   "source": [
    "ds_bc = pd.read_csv('/home/pirl/Downloads/week4day1/유방암.csv',engine='python')\n",
    "ds_bc.info()\n",
    "\n",
    "#설명변수 X_i는 30개\n",
    "#종속변수 Y는 이산형(1은 양성, 0은 악성)이지만 실제 분석에서는 연속형으로 처리\n",
    "#결측치는 없음"
   ]
  },
  {
   "cell_type": "code",
   "execution_count": 6,
   "metadata": {},
   "outputs": [
    {
     "name": "stdout",
     "output_type": "stream",
     "text": [
      "<class 'pandas.core.frame.DataFrame'>\n",
      "Int64Index: 494 entries, 1 to 568\n",
      "Data columns (total 31 columns):\n",
      "diagnosis                  494 non-null int64\n",
      "mean radius                494 non-null float64\n",
      "mean texture               494 non-null float64\n",
      "mean perimeter             494 non-null float64\n",
      "mean area                  494 non-null float64\n",
      "mean smoothness            494 non-null float64\n",
      "mean compactness           494 non-null float64\n",
      "mean concavity             494 non-null float64\n",
      "mean concave points        494 non-null float64\n",
      "mean symmetry              494 non-null float64\n",
      "mean fractal dimension     494 non-null float64\n",
      "radius error               494 non-null float64\n",
      "texture error              494 non-null float64\n",
      "perimeter error            494 non-null float64\n",
      "area error                 494 non-null float64\n",
      "smoothness error           494 non-null float64\n",
      "compactness error          494 non-null float64\n",
      "concavity error            494 non-null float64\n",
      "concave points error       494 non-null float64\n",
      "symmetry error             494 non-null float64\n",
      "fractal dimension error    494 non-null float64\n",
      "worst radius               494 non-null float64\n",
      "worst texture              494 non-null float64\n",
      "worst perimeter            494 non-null float64\n",
      "worst area                 494 non-null float64\n",
      "worst smoothness           494 non-null float64\n",
      "worst compactness          494 non-null float64\n",
      "worst concavity            494 non-null float64\n",
      "worst concave points       494 non-null float64\n",
      "worst symmetry             494 non-null float64\n",
      "worst fractal dimension    494 non-null float64\n",
      "dtypes: float64(30), int64(1)\n",
      "memory usage: 123.5 KB\n"
     ]
    }
   ],
   "source": [
    "def remove_outlier_std(df):\n",
    "    for i in range(0, len(df.iloc[1])):\n",
    "        df = df[(np.abs(df.iloc[:,i] - df.iloc[:,i].mean()) < (3.6*df.iloc[:,i].std()))]\n",
    "    return df\n",
    "#3.6sigma를 벗어나는 data제거 함수\n",
    "\n",
    "ds_bc_z=remove_outlier_std(ds_bc)\n",
    "ds_bc_z.info()\n",
    "#494개로 이상치 제거\n",
    "#DT에 비해 이상치에 민감함\n",
    "#data의 분포가 전반적으로 UCL을 초과하는 경향이 강하고\n",
    "#모델의 일반성, 범용성을 위해 이상치 제거 실시"
   ]
  },
  {
   "cell_type": "markdown",
   "metadata": {},
   "source": [
    "#  데이터 분할 7 : 3"
   ]
  },
  {
   "cell_type": "code",
   "execution_count": 7,
   "metadata": {},
   "outputs": [
    {
     "name": "stdout",
     "output_type": "stream",
     "text": [
      "train data X size: (345, 30)\n",
      "train data Y size: (345,)\n",
      "test data X size: (149, 30)\n",
      "test data Y size: (149,)\n"
     ]
    }
   ],
   "source": [
    "ds_bc_y = ds_bc_z['diagnosis']\n",
    "ds_bc_x = ds_bc_z.drop('diagnosis',axis=1, inplace=False)\n",
    "\n",
    "ds_bc_train_x, ds_bc_test_x, ds_bc_train_y, ds_bc_test_y = train_test_split(ds_bc_x, ds_bc_y, test_size=0.3, random_state=1234)\n",
    "\n",
    "print(\"train data X size: {}\".format(ds_bc_train_x.shape))\n",
    "print(\"train data Y size: {}\".format(ds_bc_train_y.shape))\n",
    "print(\"test data X size: {}\".format(ds_bc_test_x.shape))\n",
    "print(\"test data Y size: {}\".format(ds_bc_test_y.shape))"
   ]
  },
  {
   "cell_type": "markdown",
   "metadata": {},
   "source": [
    "#  SVC의 dafault parameter"
   ]
  },
  {
   "cell_type": "code",
   "execution_count": 8,
   "metadata": {},
   "outputs": [
    {
     "name": "stdout",
     "output_type": "stream",
     "text": [
      "Accuracy on training set:1.000\n",
      "Accuracy on training set:0.664\n",
      "\n",
      "SVC(C=1.0, cache_size=200, class_weight=None, coef0=0.0,\n",
      "  decision_function_shape='ovr', degree=3, gamma='auto_deprecated',\n",
      "  kernel='rbf', max_iter=-1, probability=False, random_state=1234,\n",
      "  shrinking=True, tol=0.001, verbose=False)\n"
     ]
    }
   ],
   "source": [
    "svm_un=SVC(random_state=1234)\n",
    "svm_un.fit(ds_bc_train_x,ds_bc_train_y)\n",
    "\n",
    "print(\"Accuracy on training set:{:.3f}\".format(svm_un.score(ds_bc_train_x,ds_bc_train_y)))\n",
    "print(\"Accuracy on training set:{:.3f}\".format(svm_un.score(ds_bc_test_x,ds_bc_test_y)))\n",
    "print()\n",
    "print(svm_un)"
   ]
  },
  {
   "cell_type": "markdown",
   "metadata": {},
   "source": [
    "#  Scale 없이 바로 SVM모델링을 하니 0.664의 낮은 정확도"
   ]
  },
  {
   "cell_type": "code",
   "execution_count": 9,
   "metadata": {},
   "outputs": [],
   "source": [
    "#C를 0.1부터 1까지 0.1단위 조정\n",
    "train_ac=[]\n",
    "test_ac=[]\n",
    "para_C=[]\n",
    "\n",
    "for C in range(10):\n",
    "    svm1 = SVC(C=(C+1)/10,random_state=1234)\n",
    "    svm1.fit(ds_bc_train_x, ds_bc_train_y)\n",
    "    para_C.append((C+1)/10)\n",
    "    train_ac.append(svm1.score(ds_bc_train_x,ds_bc_train_y))\n",
    "    test_ac.append(svm1.score(ds_bc_test_x,ds_bc_test_y))\n",
    "    \n",
    "ds_acc1 =  pd.DataFrame()\n",
    "ds_acc1['C'] = para_C\n",
    "ds_acc1[\"TrainAccuraccy\"] =train_ac\n",
    "ds_acc1[\"TestAccuracy\"] = test_ac"
   ]
  },
  {
   "cell_type": "code",
   "execution_count": 10,
   "metadata": {},
   "outputs": [
    {
     "data": {
      "text/plain": [
       "<matplotlib.axes._subplots.AxesSubplot at 0x7f579aacda58>"
      ]
     },
     "execution_count": 10,
     "metadata": {},
     "output_type": "execute_result"
    },
    {
     "data": {
      "image/png": "[encoded data removed]",
      "text/plain": [
       "<Figure size 432x288 with 1 Axes>"
      ]
     },
     "metadata": {
      "needs_background": "light"
     },
     "output_type": "display_data"
    }
   ],
   "source": [
    "ds_acc1.round(3)\n",
    "ds_acc1.set_index(\"C\",inplace=False).plot.line()"
   ]
  },
  {
   "cell_type": "code",
   "execution_count": 11,
   "metadata": {},
   "outputs": [],
   "source": [
    "#Gamma를 0.1부터 1까지 0.1단위 조정\n",
    "train_ac=[]\n",
    "test_ac=[]\n",
    "para_g=[]\n",
    "\n",
    "for gamma in range(1,10):\n",
    "    svm2 = SVC(gamma=gamma/10,random_state=1234)\n",
    "    svm2.fit(ds_bc_train_x, ds_bc_train_y)\n",
    "    para_g.append(gamma/10)\n",
    "    train_ac.append(svm2.score(ds_bc_train_x,ds_bc_train_y))\n",
    "    test_ac.append(svm2.score(ds_bc_test_x,ds_bc_test_y))\n",
    "    \n",
    "ds_acc2 =  pd.DataFrame()\n",
    "ds_acc2['Gamma'] = para_g\n",
    "ds_acc2[\"TrainAccuraccy\"] =train_ac\n",
    "ds_acc2[\"TestAccuracy\"] = test_ac"
   ]
  },
  {
   "cell_type": "code",
   "execution_count": 12,
   "metadata": {},
   "outputs": [
    {
     "data": {
      "text/plain": [
       "<matplotlib.axes._subplots.AxesSubplot at 0x7f5796716198>"
      ]
     },
     "execution_count": 12,
     "metadata": {},
     "output_type": "execute_result"
    },
    {
     "data": {
      "image/png": "[encoded data removed]",
      "text/plain": [
       "<Figure size 432x288 with 1 Axes>"
      ]
     },
     "metadata": {
      "needs_background": "light"
     },
     "output_type": "display_data"
    }
   ],
   "source": [
    "ds_acc2.round(3)\n",
    "ds_acc2.set_index(\"Gamma\",inplace=False).plot.line()"
   ]
  },
  {
   "cell_type": "markdown",
   "metadata": {},
   "source": [
    "# 스케일링을 하지 않으니 C,gamma에 의핸 test 정확도가 변화도 없고 낮음"
   ]
  },
  {
   "cell_type": "code",
   "execution_count": 13,
   "metadata": {},
   "outputs": [
    {
     "data": {
      "text/html": [
       "<div>\n",
       "<style scoped>\n",
       "    .dataframe tbody tr th:only-of-type {\n",
       "        vertical-align: middle;\n",
       "    }\n",
       "\n",
       "    .dataframe tbody tr th {\n",
       "        vertical-align: top;\n",
       "    }\n",
       "\n",
       "    .dataframe thead th {\n",
       "        text-align: right;\n",
       "    }\n",
       "</style>\n",
       "<table border=\"1\" class=\"dataframe\">\n",
       "  <thead>\n",
       "    <tr style=\"text-align: right;\">\n",
       "      <th></th>\n",
       "      <th>mean radius</th>\n",
       "      <th>mean texture</th>\n",
       "      <th>mean perimeter</th>\n",
       "      <th>mean area</th>\n",
       "      <th>mean smoothness</th>\n",
       "      <th>mean compactness</th>\n",
       "      <th>mean concavity</th>\n",
       "      <th>mean concave points</th>\n",
       "      <th>mean symmetry</th>\n",
       "      <th>mean fractal dimension</th>\n",
       "      <th>...</th>\n",
       "      <th>worst radius</th>\n",
       "      <th>worst texture</th>\n",
       "      <th>worst perimeter</th>\n",
       "      <th>worst area</th>\n",
       "      <th>worst smoothness</th>\n",
       "      <th>worst compactness</th>\n",
       "      <th>worst concavity</th>\n",
       "      <th>worst concave points</th>\n",
       "      <th>worst symmetry</th>\n",
       "      <th>worst fractal dimension</th>\n",
       "    </tr>\n",
       "  </thead>\n",
       "  <tbody>\n",
       "    <tr>\n",
       "      <th>0</th>\n",
       "      <td>-0.282168</td>\n",
       "      <td>0.648202</td>\n",
       "      <td>-0.303015</td>\n",
       "      <td>-0.332160</td>\n",
       "      <td>-0.645192</td>\n",
       "      <td>-0.691557</td>\n",
       "      <td>-0.663907</td>\n",
       "      <td>-0.405154</td>\n",
       "      <td>-0.357236</td>\n",
       "      <td>0.144621</td>\n",
       "      <td>...</td>\n",
       "      <td>-0.445902</td>\n",
       "      <td>-0.250709</td>\n",
       "      <td>-0.463854</td>\n",
       "      <td>-0.479913</td>\n",
       "      <td>-1.799479</td>\n",
       "      <td>-1.091804</td>\n",
       "      <td>-1.072346</td>\n",
       "      <td>-0.959126</td>\n",
       "      <td>-1.357312</td>\n",
       "      <td>-0.880508</td>\n",
       "    </tr>\n",
       "    <tr>\n",
       "      <th>1</th>\n",
       "      <td>-0.046204</td>\n",
       "      <td>-1.154314</td>\n",
       "      <td>-0.041189</td>\n",
       "      <td>-0.190461</td>\n",
       "      <td>0.846238</td>\n",
       "      <td>0.549125</td>\n",
       "      <td>-0.211344</td>\n",
       "      <td>0.353602</td>\n",
       "      <td>-0.003940</td>\n",
       "      <td>0.779640</td>\n",
       "      <td>...</td>\n",
       "      <td>-0.174371</td>\n",
       "      <td>-1.133953</td>\n",
       "      <td>-0.247286</td>\n",
       "      <td>-0.292761</td>\n",
       "      <td>0.335599</td>\n",
       "      <td>0.184242</td>\n",
       "      <td>-0.273961</td>\n",
       "      <td>0.510331</td>\n",
       "      <td>0.754202</td>\n",
       "      <td>0.830826</td>\n",
       "    </tr>\n",
       "    <tr>\n",
       "      <th>2</th>\n",
       "      <td>1.699930</td>\n",
       "      <td>-0.286163</td>\n",
       "      <td>1.756025</td>\n",
       "      <td>1.739044</td>\n",
       "      <td>1.059191</td>\n",
       "      <td>1.880306</td>\n",
       "      <td>2.150308</td>\n",
       "      <td>1.877432</td>\n",
       "      <td>0.528084</td>\n",
       "      <td>-0.284739</td>\n",
       "      <td>...</td>\n",
       "      <td>1.834456</td>\n",
       "      <td>-0.622422</td>\n",
       "      <td>1.795791</td>\n",
       "      <td>1.810210</td>\n",
       "      <td>1.680012</td>\n",
       "      <td>2.249091</td>\n",
       "      <td>3.027319</td>\n",
       "      <td>2.297255</td>\n",
       "      <td>1.906670</td>\n",
       "      <td>0.732537</td>\n",
       "    </tr>\n",
       "    <tr>\n",
       "      <th>3</th>\n",
       "      <td>1.069569</td>\n",
       "      <td>0.008125</td>\n",
       "      <td>1.044648</td>\n",
       "      <td>1.048036</td>\n",
       "      <td>-0.556968</td>\n",
       "      <td>-0.044517</td>\n",
       "      <td>0.234787</td>\n",
       "      <td>0.767412</td>\n",
       "      <td>0.469894</td>\n",
       "      <td>-1.213816</td>\n",
       "      <td>...</td>\n",
       "      <td>1.138029</td>\n",
       "      <td>0.226719</td>\n",
       "      <td>1.065334</td>\n",
       "      <td>1.098243</td>\n",
       "      <td>-0.722068</td>\n",
       "      <td>-0.118591</td>\n",
       "      <td>0.008302</td>\n",
       "      <td>0.748474</td>\n",
       "      <td>-0.085971</td>\n",
       "      <td>-0.631650</td>\n",
       "    </tr>\n",
       "    <tr>\n",
       "      <th>4</th>\n",
       "      <td>-0.332732</td>\n",
       "      <td>1.276017</td>\n",
       "      <td>-0.336114</td>\n",
       "      <td>-0.372229</td>\n",
       "      <td>-1.288613</td>\n",
       "      <td>-0.458913</td>\n",
       "      <td>-0.270242</td>\n",
       "      <td>-0.666707</td>\n",
       "      <td>-1.105395</td>\n",
       "      <td>-0.338860</td>\n",
       "      <td>...</td>\n",
       "      <td>-0.332764</td>\n",
       "      <td>1.080976</td>\n",
       "      <td>-0.404022</td>\n",
       "      <td>-0.376713</td>\n",
       "      <td>-0.444725</td>\n",
       "      <td>0.945312</td>\n",
       "      <td>0.964995</td>\n",
       "      <td>0.244777</td>\n",
       "      <td>-0.053734</td>\n",
       "      <td>1.011370</td>\n",
       "    </tr>\n",
       "  </tbody>\n",
       "</table>\n",
       "<p>5 rows × 30 columns</p>\n",
       "</div>"
      ],
      "text/plain": [
       "   mean radius  mean texture  mean perimeter  mean area  mean smoothness  \\\n",
       "0    -0.282168      0.648202       -0.303015  -0.332160        -0.645192   \n",
       "1    -0.046204     -1.154314       -0.041189  -0.190461         0.846238   \n",
       "2     1.699930     -0.286163        1.756025   1.739044         1.059191   \n",
       "3     1.069569      0.008125        1.044648   1.048036        -0.556968   \n",
       "4    -0.332732      1.276017       -0.336114  -0.372229        -1.288613   \n",
       "\n",
       "   mean compactness  mean concavity  mean concave points  mean symmetry  \\\n",
       "0         -0.691557       -0.663907            -0.405154      -0.357236   \n",
       "1          0.549125       -0.211344             0.353602      -0.003940   \n",
       "2          1.880306        2.150308             1.877432       0.528084   \n",
       "3         -0.044517        0.234787             0.767412       0.469894   \n",
       "4         -0.458913       -0.270242            -0.666707      -1.105395   \n",
       "\n",
       "   mean fractal dimension           ...             worst radius  \\\n",
       "0                0.144621           ...                -0.445902   \n",
       "1                0.779640           ...                -0.174371   \n",
       "2               -0.284739           ...                 1.834456   \n",
       "3               -1.213816           ...                 1.138029   \n",
       "4               -0.338860           ...                -0.332764   \n",
       "\n",
       "   worst texture  worst perimeter  worst area  worst smoothness  \\\n",
       "0      -0.250709        -0.463854   -0.479913         -1.799479   \n",
       "1      -1.133953        -0.247286   -0.292761          0.335599   \n",
       "2      -0.622422         1.795791    1.810210          1.680012   \n",
       "3       0.226719         1.065334    1.098243         -0.722068   \n",
       "4       1.080976        -0.404022   -0.376713         -0.444725   \n",
       "\n",
       "   worst compactness  worst concavity  worst concave points  worst symmetry  \\\n",
       "0          -1.091804        -1.072346             -0.959126       -1.357312   \n",
       "1           0.184242        -0.273961              0.510331        0.754202   \n",
       "2           2.249091         3.027319              2.297255        1.906670   \n",
       "3          -0.118591         0.008302              0.748474       -0.085971   \n",
       "4           0.945312         0.964995              0.244777       -0.053734   \n",
       "\n",
       "   worst fractal dimension  \n",
       "0                -0.880508  \n",
       "1                 0.830826  \n",
       "2                 0.732537  \n",
       "3                -0.631650  \n",
       "4                 1.011370  \n",
       "\n",
       "[5 rows x 30 columns]"
      ]
     },
     "execution_count": 13,
     "metadata": {},
     "output_type": "execute_result"
    }
   ],
   "source": [
    "ds_bc_train_x_scaled = scale(ds_bc_train_x,axis=0)\n",
    "\n",
    "ds_bc_test_x_scaled = scale(ds_bc_test_x,axis=0)\n",
    "\n",
    "pd.DataFrame(ds_bc_train_x_scaled, columns =ds_bc_train_x.columns).head()"
   ]
  },
  {
   "cell_type": "markdown",
   "metadata": {},
   "source": [
    "# 스케일링 실행"
   ]
  },
  {
   "cell_type": "code",
   "execution_count": 14,
   "metadata": {},
   "outputs": [
    {
     "name": "stdout",
     "output_type": "stream",
     "text": [
      "Accuracy on training set:0.994\n",
      "Accuracy on test set: 0.960\n"
     ]
    }
   ],
   "source": [
    "svm_un_scaled = SVC(random_state=1234)\n",
    "svm_un_scaled.fit(ds_bc_train_x_scaled,ds_bc_train_y)\n",
    "print(\"Accuracy on training set:{:.3f}\".format(svm_un_scaled.score(ds_bc_train_x_scaled,ds_bc_train_y)))\n",
    "print(\"Accuracy on test set: {:.3f}\".format(svm_un_scaled.score(ds_bc_test_x_scaled,ds_bc_test_y)))"
   ]
  },
  {
   "cell_type": "markdown",
   "metadata": {},
   "source": [
    "# 스케일링 이후 test 정확도가 매우 상승\n",
    "# 기존 data간 scale이 잘 맞지 않았던 것으로 추정"
   ]
  },
  {
   "cell_type": "code",
   "execution_count": 17,
   "metadata": {},
   "outputs": [],
   "source": [
    "#c를 0.1부터 5까지 0.1단위 조정\n",
    "train_ac=[]\n",
    "test_ac=[]\n",
    "para_C=[]\n",
    "\n",
    "for C in range(50):\n",
    "    svm1_scaled = SVC(C=C+1,random_state=1234)\n",
    "    svm1_scaled.fit(ds_bc_train_x_scaled, ds_bc_train_y)\n",
    "    para_C.append(C+1)\n",
    "    train_ac.append(svm1_scaled.score(ds_bc_train_x_scaled,ds_bc_train_y))\n",
    "    test_ac.append(svm1_scaled.score(ds_bc_test_x_scaled,ds_bc_test_y))\n",
    "    \n",
    "ds_acc3_scaled =  pd.DataFrame()\n",
    "ds_acc3_scaled['C'] = para_C\n",
    "ds_acc3_scaled[\"TrainAccuraccy\"] =train_ac\n",
    "ds_acc3_scaled[\"TestAccuracy\"] = test_ac"
   ]
  },
  {
   "cell_type": "code",
   "execution_count": 18,
   "metadata": {},
   "outputs": [
    {
     "data": {
      "text/plain": [
       "<matplotlib.axes._subplots.AxesSubplot at 0x7f57966a5b38>"
      ]
     },
     "execution_count": 18,
     "metadata": {},
     "output_type": "execute_result"
    },
    {
     "data": {
      "image/png": "[encoded data removed]",
      "text/plain": [
       "<Figure size 432x288 with 1 Axes>"
      ]
     },
     "metadata": {
      "needs_background": "light"
     },
     "output_type": "display_data"
    }
   ],
   "source": [
    "ds_acc3_scaled.round(3)\n",
    "ds_acc3_scaled.set_index(\"C\",inplace=False).plot.line()"
   ]
  },
  {
   "cell_type": "markdown",
   "metadata": {},
   "source": [
    "# C가 커질수록 test 정확도가 감소하는 경향을 보이다가\n",
    "# 특정 구간 이후 유지"
   ]
  },
  {
   "cell_type": "code",
   "execution_count": 19,
   "metadata": {},
   "outputs": [],
   "source": [
    "#Gamma를 0.1부터 1까지 0.1단위 조정\n",
    "train_ac=[]\n",
    "test_ac=[]\n",
    "para_g=[]\n",
    "\n",
    "for gamma in range(1,10):\n",
    "    svm2_scaled = SVC(gamma=gamma/10,random_state=1234)\n",
    "    svm2_scaled.fit(ds_bc_train_x_scaled, ds_bc_train_y)\n",
    "    para_g.append(gamma/10)\n",
    "    train_ac.append(svm2_scaled.score(ds_bc_train_x_scaled,ds_bc_train_y))\n",
    "    test_ac.append(svm2_scaled.score(ds_bc_test_x_scaled,ds_bc_test_y))\n",
    "    \n",
    "ds_acc2_scaled =  pd.DataFrame()\n",
    "ds_acc2_scaled['Gamma'] = para_g\n",
    "ds_acc2_scaled[\"TrainAccuraccy\"] =train_ac\n",
    "ds_acc2_scaled[\"TestAccuracy\"] = test_ac"
   ]
  },
  {
   "cell_type": "code",
   "execution_count": 20,
   "metadata": {},
   "outputs": [
    {
     "data": {
      "text/plain": [
       "<matplotlib.axes._subplots.AxesSubplot at 0x7f57966354a8>"
      ]
     },
     "execution_count": 20,
     "metadata": {},
     "output_type": "execute_result"
    },
    {
     "data": {
      "image/png": "[encoded data removed]",
      "text/plain": [
       "<Figure size 432x288 with 1 Axes>"
      ]
     },
     "metadata": {
      "needs_background": "light"
     },
     "output_type": "display_data"
    }
   ],
   "source": [
    "ds_acc2_scaled.round(3)\n",
    "ds_acc2_scaled.set_index(\"Gamma\",inplace=False).plot.line()"
   ]
  },
  {
   "cell_type": "markdown",
   "metadata": {},
   "source": [
    "# gamma 가 커질수록 test 정확도가 감소하는 경향을 보이다가\n",
    "# 특정 구간 이후에는 거의 변화 없음"
   ]
  },
  {
   "cell_type": "markdown",
   "metadata": {},
   "source": [
    "# C와 gamma를 적당히 조절하면서 test 정확도를 개선"
   ]
  },
  {
   "cell_type": "code",
   "execution_count": 110,
   "metadata": {},
   "outputs": [
    {
     "name": "stdout",
     "output_type": "stream",
     "text": [
      "Accuracy on training set:1.000\n",
      "Accuracy on test set:0.946\n",
      "\n",
      "SVC(C=1.5, cache_size=200, class_weight=None, coef0=0.0,\n",
      "  decision_function_shape='ovr', degree=3, gamma=0.1, kernel='rbf',\n",
      "  max_iter=-1, probability=True, random_state=1234, shrinking=True,\n",
      "  tol=0.001, verbose=False)\n"
     ]
    }
   ],
   "source": [
    "svm_un=SVC(random_state=1234, C=1.5, gamma=0.1,probability=True)\n",
    "svm_un.fit(ds_bc_train_x_scaled,ds_bc_train_y)\n",
    "\n",
    "print(\"Accuracy on training set:{:.3f}\".format(svm_un.score(ds_bc_train_x_scaled,ds_bc_train_y)))\n",
    "print(\"Accuracy on test set:{:.3f}\".format(svm_un.score(ds_bc_test_x_scaled,ds_bc_test_y)))\n",
    "print()\n",
    "print(svm_un)"
   ]
  },
  {
   "cell_type": "markdown",
   "metadata": {},
   "source": [
    "# C는 특정 구간을 제외하고는 대부분 test 정확도를 유지\n",
    "# C보다는 gamma에 매우 민감함"
   ]
  },
  {
   "cell_type": "markdown",
   "metadata": {},
   "source": [
    "# -----------------------------------------------------------------------------\n",
    "#  GridSearch\n",
    "# -----------------------------------------------------------------------------"
   ]
  },
  {
   "cell_type": "markdown",
   "metadata": {},
   "source": [
    "#  파라미터에 적당하게 범위를 지정하며 반복적으로 최적 파라미터를 찾음"
   ]
  },
  {
   "cell_type": "code",
   "execution_count": 144,
   "metadata": {},
   "outputs": [
    {
     "name": "stdout",
     "output_type": "stream",
     "text": [
      "# Tuning hyper-parameters for accuracy\n",
      "{'C': 8, 'gamma': 1, 'kernel': 'linear'}\n",
      "best_score :  0.962\n",
      "# Tuning hyper-parameters for recall\n",
      "{'C': 8, 'gamma': 1, 'kernel': 'linear'}\n",
      "best_score :  0.934\n"
     ]
    }
   ],
   "source": [
    "svc=SVC(random_state=1234) # c:8 g:1e-2 // 0.962 : 0.932\n",
    "\n",
    "param_grid = {'kernel':['rbf','linear'],\n",
    "              'gamma': [1, 2],\n",
    "              'C': [7, 8, 9]}\n",
    "scores = ['accuracy', 'recall']\n",
    "for sc in scores:\n",
    "    clf=GridSearchCV(svc,param_grid,cv=10,scoring=sc,n_jobs=-1)\n",
    "    print(\"# Tuning hyper-parameters for %s\" % sc)\n",
    "    clf.fit(ds_bc_train_x,ds_bc_train_y)\n",
    "    print(clf.best_params_)\n",
    "    print(\"best_score : \", np.round(clf.best_score_,3))"
   ]
  },
  {
   "cell_type": "markdown",
   "metadata": {},
   "source": [
    "# GridSearch에 의하면 C=8, gamma=1, kernel=linear 를 선택\n",
    "# 해당 값뿐 아니라 근처의 값들도 최고치를 보임"
   ]
  },
  {
   "cell_type": "code",
   "execution_count": 164,
   "metadata": {},
   "outputs": [
    {
     "data": {
      "text/plain": [
       "<matplotlib.legend.Legend at 0x7f57942869e8>"
      ]
     },
     "execution_count": 164,
     "metadata": {},
     "output_type": "execute_result"
    },
    {
     "data": {
      "image/png": "[encoded data removed]",
      "text/plain": [
       "<Figure size 720x576 with 1 Axes>"
      ]
     },
     "metadata": {
      "needs_background": "light"
     },
     "output_type": "display_data"
    }
   ],
   "source": [
    "svc=SVC(C=1.5,gamma=0.1,kernel='rbf',probability=True)\n",
    "Grid_svc=SVC(C=8,gamma=1,kernel='linear',probability=True)\n",
    "\n",
    "Grid_svc.fit(ds_bc_test_x_scaled,ds_bc_test_y)\n",
    "y_pred_svc_p =svm_un.predict_proba(ds_bc_test_x_scaled)[:,1]\n",
    "y_pred_svc_grid =Grid_svc.predict_proba(ds_bc_test_x_scaled)[:,1]\n",
    "\n",
    "models=[y_pred_svc_p,y_pred_svc_grid]\n",
    "label=['SVC','Grid_SVC']\n",
    "\n",
    "plt.figure(figsize=(10, 8))\n",
    "m=np.arange(2)\n",
    "for m in m:\n",
    "    fpr, tpr,thresholds= metrics.roc_curve(ds_bc_test_y,models[m])\n",
    "    plt.plot(fpr,tpr,label=label[m])\n",
    "\n",
    "plt.title('ROC curve')\n",
    "plt.xlabel('False positive rate (1-specificity)')\n",
    "plt.ylabel('True positive rate (sensitivity)')\n",
    "plt.legend(loc=4,)"
   ]
  },
  {
   "cell_type": "markdown",
   "metadata": {},
   "source": [
    "# gridsearch로 찾은 파라미터들의 AUC=1로 보임\n",
    "# 과적합이므로 일반성을 위한다면 manual로 찾은 모델이 적당해 보임\n",
    "# test data에 대한 정확도가 목표면 grid의 파라미터가 좋으나\n",
    "# 일반적으로는 (C=1.5,gamma=0.1,kernel='rbf')파라미터의 \n",
    "# manual 모델이 더 우수하다고 봄"
   ]
  },
  {
   "cell_type": "code",
   "execution_count": 170,
   "metadata": {},
   "outputs": [
    {
     "data": {
      "text/plain": [
       "<matplotlib.legend.Legend at 0x7f5794037c50>"
      ]
     },
     "execution_count": 170,
     "metadata": {},
     "output_type": "execute_result"
    },
    {
     "data": {
      "image/png": "[encoded data removed]",
      "text/plain": [
       "<Figure size 720x576 with 1 Axes>"
      ]
     },
     "metadata": {
      "needs_background": "light"
     },
     "output_type": "display_data"
    }
   ],
   "source": [
    "svc2=SVC(C=1.5,gamma=0.1,kernel='rbf',probability=True)\n",
    "Grid_svc2=SVC(C=0.00001,gamma=1,kernel='linear',probability=True)\n",
    "\n",
    "Grid_svc2.fit(ds_bc_test_x_scaled,ds_bc_test_y)\n",
    "y_pred_svc_p2 =svm_un.predict_proba(ds_bc_test_x_scaled)[:,1]\n",
    "y_pred_svc_grid2 =Grid_svc2.predict_proba(ds_bc_test_x_scaled)[:,1]\n",
    "\n",
    "models=[y_pred_svc_p2,y_pred_svc_grid2]\n",
    "label=['SVC','Grid_SVC']\n",
    "\n",
    "plt.figure(figsize=(10, 8))\n",
    "m=np.arange(2)\n",
    "for m in m:\n",
    "    fpr, tpr,thresholds= metrics.roc_curve(ds_bc_test_y,models[m])\n",
    "    plt.plot(fpr,tpr,label=label[m])\n",
    "\n",
    "plt.title('ROC curve')\n",
    "plt.xlabel('False positive rate (1-specificity)')\n",
    "plt.ylabel('True positive rate (sensitivity)')\n",
    "plt.legend(loc=4,)"
   ]
  },
  {
   "cell_type": "markdown",
   "metadata": {},
   "source": [
    "# grid parameter에서 c를 낮추면 과적합이 어느 정도 해결\n",
    "# 경우에 따라서 필요한 모형을 사용하기 좋음"
   ]
  }
 ],
 "metadata": {
  "kernelspec": {
   "display_name": "Python 3",
   "language": "python",
   "name": "python3"
  },
  "language_info": {
   "codemirror_mode": {
    "name": "ipython",
    "version": 3
   },
   "file_extension": ".py",
   "mimetype": "text/x-python",
   "name": "python",
   "nbconvert_exporter": "python",
   "pygments_lexer": "ipython3",
   "version": "3.7.1"
  }
 },
 "nbformat": 4,
 "nbformat_minor": 2
}
