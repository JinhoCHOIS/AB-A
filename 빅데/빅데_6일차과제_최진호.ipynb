{
 "cells": [
  {
   "cell_type": "markdown",
   "metadata": {},
   "source": [
    "# 6일차 과제 : SVM\n",
    "# 최적의 매개변수를 찾고 최종 서포트 벡터 머신 모델을 만들어라. 그리고 sklearn의 roc_curve 함수를 이용하여 roc curve를 그리고 결과를 해석하라.\n",
    "# 데이터 : 유방암 데이터(변수: 31개, 자료 수: 569개)\n",
    "# -.목표변수(diagnosis, 0: Malignant(악성,212개), 1: Benign(양성,357개)"
   ]
  },
  {
   "cell_type": "code",
   "execution_count": null,
   "metadata": {},
   "outputs": [],
   "source": [
    "import pandas as pd\n",
    "import numpy as np\n",
    "import statsmodels.api as sm\n",
    "import matplotlib.pyplot as plt\n",
    "import seaborn as sns\n",
    "import scipy.stats as stats\n",
    "from sklearn import metrics\n",
    "from sklearn.preprocessing import scale\n",
    "\n",
    "# 데이터 분할(train, test 데이터 7:3으로 - sklearn의 train_set_split)\n",
    "from sklearn.model_selection import train_test_split\n",
    "import os\n",
    "#sklearn.tree의 Decision Tree classifier:분류의사결정나무\n",
    "from sklearn.tree import DecisionTreeClassifier\n",
    "#sklearn.tree의 export_graphviz: graphviz패키지가 사용할수 있는.dot 확장자 파일로저장\n",
    "from sklearn.tree import export_graphviz\n",
    "#graphviz import:의사결정 나무 모델 시각화 .dot확장자 파일 불러오는 패키지\n",
    "import graphviz\n",
    "\n",
    "#pandas describe 생략되는 것 표시\n",
    "pd.set_option('display.max_columns', None)  \n",
    "pd.set_option('display.expand_frame_repr', False)\n",
    "pd.set_option('max_colwidth', -1)\n",
    "\n",
    "from sklearn.ensemble import RandomForestClassifier\n",
    "from sklearn.metrics import make_scorer, accuracy_score\n",
    "from sklearn.model_selection import GridSearchCV\n",
    "\n",
    "from sklearn.preprocessing import scale\n",
    "from sklearn.svm import SVC\n",
    "\n",
    "#회귀분석 패키지\n",
    "import statsmodels.api as sm\n",
    "from sklearn.model_selection import train_test_split\n",
    "\n",
    "import warnings\n",
    "warnings.filterwarnings('ignore')"
   ]
  },
  {
   "cell_type": "code",
   "execution_count": null,
   "metadata": {},
   "outputs": [],
   "source": [
    "b_cancer = pd.read_csv(\"/home/pirl/Downloads/유방암.csv\",engine = 'python',\n",
    "                        encoding='CP949')\n",
    "#sns.countplot(b_cancer[\"diagnosis\"],label=\"Count\")\n",
    "#b_cancer.describe()\n",
    "# print(b_cancer.isnull().sum(axis=0))\n",
    "#b_cancer.head()"
   ]
  },
  {
   "cell_type": "code",
   "execution_count": null,
   "metadata": {},
   "outputs": [],
   "source": [
    "b_cancer_y = b_cancer['diagnosis']\n",
    "b_cancer_x = b_cancer.drop('diagnosis',axis=1, inplace=False)\n",
    "\n",
    "# train/test 데이터의 목표변수/설명변수 지정\n",
    "b_train_x, b_test_x, b_train_y, b_test_y = \\\n",
    "train_test_split(b_cancer_x, b_cancer_y, test_size=0.3, random_state=1234)\n",
    "\n",
    "# train데이터와 test데이터 크기\n",
    "print(\"train data X size: {}\".format(b_train_x.shape))\n",
    "print(\"train data Y size: {}\".format(b_train_y.shape))\n",
    "print(\"test data X size: {}\".format(b_test_x.shape))\n",
    "print(\"test data Y size: {}\".format(b_test_y.shape))"
   ]
  },
  {
   "cell_type": "code",
   "execution_count": null,
   "metadata": {},
   "outputs": [],
   "source": [
    "svm_un=SVC(random_state=1234)\n",
    "svm_un.fit(b_train_x,b_train_y)\n",
    "\n",
    "print(\"Accuracy on training set:{:.3f}\".format(svm_un.score(b_train_x,b_train_y)))\n",
    "print(\"Accuracy on training set:{:.3f}\".format(svm_un.score(b_test_x,b_test_y)))\n",
    "print()\n",
    "print(svm_un)"
   ]
  },
  {
   "cell_type": "code",
   "execution_count": null,
   "metadata": {},
   "outputs": [],
   "source": [
    "#C를 0.1부터 1까지 0.1단위 조정\n",
    "train_ac=[]\n",
    "test_ac=[]\n",
    "para_C=[]\n",
    "\n",
    "for C in range(10):\n",
    "    svm1 = SVC(C=(C+1)/10,random_state=1234)\n",
    "    svm1.fit(b_train_x, b_train_y)\n",
    "    para_C.append((C+1)/10)\n",
    "    train_ac.append(svm1.score(b_train_x,b_train_y))\n",
    "    test_ac.append(svm1.score(b_test_x,b_test_y))\n",
    "    \n",
    "ds_acc1 =  pd.DataFrame()\n",
    "ds_acc1['C'] = para_C\n",
    "ds_acc1[\"TrainAccuraccy\"] =train_ac\n",
    "ds_acc1[\"TestAccuracy\"] = test_ac"
   ]
  },
  {
   "cell_type": "code",
   "execution_count": null,
   "metadata": {},
   "outputs": [],
   "source": [
    "ds_acc1.round(3)\n",
    "ds_acc1.set_index(\"C\",inplace=False).plot.line()"
   ]
  },
  {
   "cell_type": "code",
   "execution_count": null,
   "metadata": {},
   "outputs": [],
   "source": [
    "#Gamma를 0.1부터 1까지 0.1단위 조정\n",
    "train_ac=[]\n",
    "test_ac=[]\n",
    "para_g=[]\n",
    "\n",
    "for gamma in range(1,10):\n",
    "    svm2 = SVC(gamma=gamma/10,random_state=1234)\n",
    "    svm2.fit(b_train_x, b_train_y)\n",
    "    para_g.append(gamma/10)\n",
    "    train_ac.append(svm2.score(b_train_x,b_train_y))\n",
    "    test_ac.append(svm2.score(b_test_x,b_test_y))\n",
    "    \n",
    "ds_acc2 =  pd.DataFrame()\n",
    "ds_acc2['Gamma'] = para_g\n",
    "ds_acc2[\"TrainAccuraccy\"] =train_ac\n",
    "ds_acc2[\"TestAccuracy\"] = test_ac"
   ]
  },
  {
   "cell_type": "code",
   "execution_count": null,
   "metadata": {},
   "outputs": [],
   "source": [
    "ds_acc2.round(3)\n",
    "ds_acc2.set_index(\"Gamma\",inplace=False).plot.line()"
   ]
  },
  {
   "cell_type": "code",
   "execution_count": null,
   "metadata": {},
   "outputs": [],
   "source": [
    "b_train_x_scaled = scale(b_train_x,axis=0)\n",
    "\n",
    "b_test_x_scaled = scale(b_test_x,axis=0)\n",
    "\n",
    "pd.DataFrame(b_train_x_scaled, columns =b_train_x.columns).head()"
   ]
  },
  {
   "cell_type": "code",
   "execution_count": null,
   "metadata": {},
   "outputs": [],
   "source": [
    "vm_un_scaled = SVC(random_state=1234)\n",
    "svm_un_scaled.fit(b_train_x_scaled,b_train_y)\n",
    "print(\"Accuracy on training set:{:.3f}\".format(svm_un_scaled.score(b_train_x_scaled,b_train_y)))\n",
    "print(\"Accuracy on test set: {:.3f}\".format(svm_un_scaled.score(b_test_x_scaled,b_test_y)))"
   ]
  },
  {
   "cell_type": "code",
   "execution_count": null,
   "metadata": {},
   "outputs": [],
   "source": [
    "#c를 0.1부터 1까지 0.1단위 조정\n",
    "train_ac=[]\n",
    "test_ac=[]\n",
    "para_C=[]\n",
    "\n",
    "for C in range(50):\n",
    "    svm1_scaled = SVC(C=C+1,random_state=1234)\n",
    "    svm1_scaled.fit(b_train_x_scaled, b_train_y)\n",
    "    para_C.append(C+1)\n",
    "    train_ac.append(svm1_scaled.score(b_train_x_scaled,b_train_y))\n",
    "    test_ac.append(svm1_scaled.score(b_test_x_scaled,b_test_y))\n",
    "    \n",
    "ds_acc3_scaled =  pd.DataFrame()\n",
    "ds_acc3_scaled['C'] = para_C\n",
    "ds_acc3_scaled[\"TrainAccuraccy\"] =train_ac\n",
    "ds_acc3_scaled[\"TestAccuracy\"] = test_ac"
   ]
  },
  {
   "cell_type": "code",
   "execution_count": null,
   "metadata": {},
   "outputs": [],
   "source": [
    "ds_acc3_scaled.round(3)\n",
    "ds_acc3_scaled.set_index(\"C\",inplace=False).plot.line()"
   ]
  },
  {
   "cell_type": "code",
   "execution_count": null,
   "metadata": {},
   "outputs": [],
   "source": [
    "#Gamma를 0.1부터 1까지 0.1단위 조정\n",
    "train_ac=[]\n",
    "test_ac=[]\n",
    "para_g=[]\n",
    "\n",
    "for gamma in range(1,10):\n",
    "    svm2_scaled = SVC(gamma=gamma/10,random_state=1234)\n",
    "    svm2_scaled.fit(b_train_x_scaled, b_train_y)\n",
    "    para_g.append(gamma/10)\n",
    "    train_ac.append(svm2_scaled.score(b_train_x_scaled,b_train_y))\n",
    "    test_ac.append(svm2_scaled.score(b_test_x_scaled,b_test_y))\n",
    "    \n",
    "ds_acc2_scaled =  pd.DataFrame()\n",
    "ds_acc2_scaled['Gamma'] = para_g\n",
    "ds_acc2_scaled[\"TrainAccuraccy\"] =train_ac\n",
    "ds_acc2_scaled[\"TestAccuracy\"] = test_ac"
   ]
  },
  {
   "cell_type": "code",
   "execution_count": null,
   "metadata": {},
   "outputs": [],
   "source": [
    "svm_un=SVC(random_state=11e-3, 1e-7, 1e-9234,C=10,gamma=0.1,probability=True)\n",
    "svm_un.fit(b_train_x_scaled,b_train_y)\n",
    "\n",
    "print(\"Accuracy on training set:{:.3f}\".format(svm_un.score(b_train_x_scaled,b_train_y)))\n",
    "print(\"Accuracy on test set:{:.3f}\".format(svm_un.score(b_test_x_scaled,b_test_y)))\n",
    "print()\n",
    "print(svm_un)"
   ]
  },
  {
   "cell_type": "code",
   "execution_count": null,
   "metadata": {},
   "outputs": [],
   "source": [
    "svc=SVC(random_state=1234)\n",
    "param_grid = {'kernel': ['rbf','linear'], \n",
    "              'gamma': [1e-3, 1e-7, 1e-9],\n",
    "              'C': [1,10,100,1000]}\n",
    "scores = ['accuracy', 'recall']\n",
    "for sc in scores:\n",
    "    clf=GridSearchCV(svc,param_grid,cv=10,scoring=sc,n_jobs=-1)\n",
    "    print(\"# Tuning hyper-parameters for %s\" % sc)\n",
    "    clf.fit(b_train_x,b_train_y)\n",
    "    print(clf.best_params_)\n",
    "    print(\"best_score : \", np.round(clf.best_score_,3))"
   ]
  },
  {
   "cell_type": "code",
   "execution_count": null,
   "metadata": {},
   "outputs": [],
   "source": [
    "svc=SVC(C=6,gamma=0.01,kernel='rbf',probability=True)\n",
    "Grid_svc=SVC(C=10,gamma=0.001,kernel='linear',probability=True)\n",
    "\n",
    "Grid_svc.fit(b_test_x_scaled,b_test_y)\n",
    "# false positive rate,fpr= FP/(TN+FP) OR fpr=1-specificty, tpr=sensitivity \n",
    "y_pred_svc_p =svm_un.predict_proba(b_test_x_scaled)[:,1]\n",
    "y_pred_svc_grid =Grid_svc.predict_proba(b_test_x_scaled)[:,1]\n",
    "\n",
    "models=[y_pred_svc_p,y_pred_svc_grid]\n",
    "label=['SVC','Grid_SVC']\n",
    "\n",
    "# plotting ROC curves\n",
    "plt.figure(figsize=(10, 8))\n",
    "m=np.arange(2)\n",
    "for m in m:\n",
    "    fpr, tpr,thresholds= metrics.roc_curve(b_test_y,models[m])\n",
    "    #print('model:',label[m])\n",
    "    #print('thresholds:',np.round(thresholds,2))\n",
    "    #print('tpr:       ',np.round(tpr,2))\n",
    "    #print('fpr:       ',np.round(fpr,2))\n",
    "    plt.plot(fpr,tpr,label=label[m])\n",
    "plt.xlim([0,1.0])\n",
    "plt.ylim([0,1.0])\n",
    "plt.title('ROC curve for Cancer classifer')\n",
    "plt.xlabel('False positive rate (1-specificity)')\n",
    "plt.ylabel('True positive rate (sensitivity)')\n",
    "plt.legend(loc=4,)"
   ]
  },
  {
   "cell_type": "code",
   "execution_count": null,
   "metadata": {},
   "outputs": [],
   "source": []
  },
  {
   "cell_type": "code",
   "execution_count": null,
   "metadata": {},
   "outputs": [],
   "source": []
  },
  {
   "cell_type": "code",
   "execution_count": null,
   "metadata": {},
   "outputs": [],
   "source": []
  },
  {
   "cell_type": "code",
   "execution_count": null,
   "metadata": {},
   "outputs": [],
   "source": []
  }
 ],
 "metadata": {
  "kernelspec": {
   "display_name": "Python 3",
   "language": "python",
   "name": "python3"
  },
  "language_info": {
   "codemirror_mode": {
    "name": "ipython",
    "version": 3
   },
   "file_extension": ".py",
   "mimetype": "text/x-python",
   "name": "python",
   "nbconvert_exporter": "python",
   "pygments_lexer": "ipython3",
   "version": "3.7.1"
  }
 },
 "nbformat": 4,
 "nbformat_minor": 2
}
