{
 "cells": [
  {
   "cell_type": "code",
   "execution_count": 13,
   "metadata": {},
   "outputs": [],
   "source": [
    "import numpy as np\n",
    "from sklearn.preprocessing import scale, robust_scale, minmax_scale\n",
    "from scipy import stats\n",
    "import scipy.stats\n",
    "import pandas as pd\n",
    "import statsmodels.api as sm #그래프 출력시\n",
    "import matplotlib as mpl #그래프 옵션\n",
    "import matplotlib.pyplot as plt\n",
    "import seaborn as sns\n",
    "import statsmodels.formula.api as smf\n",
    "import graphviz\n",
    "import os\n",
    "from statsmodels.stats.proportion import proportions_ztest\n",
    "from statsmodels.formula.api import ols\n",
    "from statsmodels.tools.eval_measures import rmse\n",
    "from statsmodels.stats.outliers_influence import variance_inflation_factor\n",
    "from sklearn.linear_model import LinearRegression\n",
    "from sklearn.feature_selection import RFE\n",
    "from sklearn.preprocessing import scale\n",
    "from sklearn.tree import DecisionTreeClassifier\n",
    "from sklearn.tree import export_graphviz\n",
    "from statsmodels.graphics.tsaplots import plot_acf,plot_pacf\n",
    "from statsmodels.tsa.arima_model import ARIMA\n",
    "from datetime import datetime\n",
    "from sklearn import metrics\n",
    "\n",
    "import matplotlib.pyplot as plt #그래프 출력시\n",
    "import matplotlib as mpl #그래프 옵션\n",
    "\n",
    "#그래프의 한글을 더욱 선명하게 출력\n",
    "from IPython.display import set_matplotlib_formats\n",
    "set_matplotlib_formats('retina')\n",
    "\n",
    "#그래프의 음수값이 나올때, 깨지는 현상 방지\n",
    "mpl.rc('axes', unicode_minus=False)\n",
    "\n",
    "#그래프 시각화 옵션\n",
    "%matplotlib inline\n",
    "#그래프 한글 설정\n",
    "mpl.rc('font',family=\"Malgun Gothic\")\n",
    "plt.rcParams['axes.unicode_minus']=False"
   ]
  },
  {
   "cell_type": "code",
   "execution_count": 2,
   "metadata": {},
   "outputs": [
    {
     "name": "stderr",
     "output_type": "stream",
     "text": [
      "/home/pirl/anaconda3/lib/python3.7/site-packages/pandas/io/excel.py:329: FutureWarning: The `sheetname` keyword is deprecated, use `sheet_name` instead\n",
      "  **kwds)\n"
     ]
    },
    {
     "name": "stdout",
     "output_type": "stream",
     "text": [
      "<class 'pandas.core.frame.DataFrame'>\n",
      "RangeIndex: 10000 entries, 0 to 9999\n",
      "Data columns (total 13 columns):\n",
      "회원코드          10000 non-null object\n",
      "프로그램          10000 non-null object\n",
      "상태            10000 non-null object\n",
      "프로그램가격        10000 non-null int64\n",
      "최종결제금액        10000 non-null int64\n",
      "결제시각          10000 non-null object\n",
      "결제유형          10000 non-null object\n",
      "채널            10000 non-null object\n",
      "보조식품가격        10000 non-null int64\n",
      "보조식품(추가구매)    10000 non-null object\n",
      "기기종류          10000 non-null object\n",
      "기기제조사         10000 non-null object\n",
      "OSversion     10000 non-null object\n",
      "dtypes: int64(3), object(10)\n",
      "memory usage: 1015.7+ KB\n",
      "<class 'pandas.core.frame.DataFrame'>\n",
      "RangeIndex: 10000 entries, 0 to 9999\n",
      "Data columns (total 11 columns):\n",
      "회원코드              10000 non-null object\n",
      "성별                9869 non-null float64\n",
      "연령                9869 non-null float64\n",
      "신장                9869 non-null float64\n",
      "회원초기체중            9869 non-null float64\n",
      "최저체중              5777 non-null float64\n",
      "목표체중              9869 non-null float64\n",
      "당뇨여부(설문)          9994 non-null object\n",
      "음주여부(설문)          10000 non-null object\n",
      "일주일운동횟수(설문)       10000 non-null object\n",
      "건강보조식품복용여부(설문)    10000 non-null object\n",
      "dtypes: float64(6), object(5)\n",
      "memory usage: 859.5+ KB\n"
     ]
    }
   ],
   "source": [
    "ds_tr = pd.read_excel('/home/pirl/Desktop/data.xlsx',sheetname='app_transaction')\n",
    "ds_tr.info()\n",
    "ds_us = pd.read_excel('/home/pirl/Desktop/data.xlsx',sheetname='app_user')\n",
    "ds_us.info()\n",
    "\n",
    "#csv로 읽을 시 엔진=파이썬 제거해야 칼럼 1로 안 읽음\n",
    "#tr은 결측치 없이 모든 열이 10000개의 관측치 존재\n",
    "#us는 결측치가 있는 열이 많음"
   ]
  },
  {
   "cell_type": "code",
   "execution_count": 36,
   "metadata": {},
   "outputs": [
    {
     "data": {
      "text/plain": [
       "회원코드                 0\n",
       "성별                 131\n",
       "연령                 131\n",
       "신장                 131\n",
       "회원초기체중             131\n",
       "최저체중              4223\n",
       "목표체중               131\n",
       "당뇨여부(설문)             6\n",
       "음주여부(설문)             0\n",
       "일주일운동횟수(설문)          0\n",
       "건강보조식품복용여부(설문)       0\n",
       "dtype: int64"
      ]
     },
     "execution_count": 36,
     "metadata": {},
     "output_type": "execute_result"
    }
   ],
   "source": [
    "ds_us.isnull().sum()\n",
    "#ds_us의 결측치 갯수"
   ]
  },
  {
   "cell_type": "code",
   "execution_count": 4,
   "metadata": {},
   "outputs": [
    {
     "name": "stdout",
     "output_type": "stream",
     "text": [
      "Index(['회원코드', '프로그램', '상태', '프로그램가격', '최종결제금액', '결제시각', '결제유형', '채널',\n",
      "       '보조식품가격', '보조식품(추가구매)', '기기종류', '기기제조사', 'OSversion'],\n",
      "      dtype='object')\n",
      "Index(['회원코드', '성별', '연령', '신장', '회원초기체중', '최저체중', '목표체중', '당뇨여부(설문)',\n",
      "       '음주여부(설문)', '일주일운동횟수(설문)', '건강보조식품복용여부(설문)'],\n",
      "      dtype='object')\n"
     ]
    }
   ],
   "source": [
    "print(ds_tr.columns)\n",
    "print(ds_us.columns)"
   ]
  },
  {
   "cell_type": "code",
   "execution_count": 5,
   "metadata": {},
   "outputs": [
    {
     "name": "stdout",
     "output_type": "stream",
     "text": [
      "RangeIndex(start=0, stop=10000, step=1)\n",
      "RangeIndex(start=0, stop=10000, step=1)\n"
     ]
    }
   ],
   "source": [
    "print(ds_tr.index)\n",
    "print(ds_us.index)"
   ]
  },
  {
   "cell_type": "code",
   "execution_count": 11,
   "metadata": {},
   "outputs": [],
   "source": [
    "#데이터프레임 상에서 칼럼 나오는 출력 갯수 늘리기\n",
    "pd.options.display.max_columns=100"
   ]
  },
  {
   "cell_type": "code",
   "execution_count": 12,
   "metadata": {},
   "outputs": [
    {
     "name": "stdout",
     "output_type": "stream",
     "text": [
      "[['Y9RY2VSI' '체중감량 프로그램 (타입B)' 'completed' ... 'iPhone' 'Apple'\n",
      "  'iOS11.4.1']\n",
      " ['3GTN3S3B' '체중감량 프로그램 (타입B)' 'completed' ... 'SM-N935S' 'samsung'\n",
      "  'Android7.0']\n",
      " ['6B0IG276' '체중감량 프로그램 (타입 A)' 'completed' ... 'iPhone' 'Apple'\n",
      "  'iOS12.0']\n",
      " ...\n",
      " ['VWJ4NLZY' '체중감량 프로그램 (타입 A)' 'completed' ... 'iPhone' 'Apple'\n",
      "  'iOS11.2.1']\n",
      " ['NJ2PR967' '체중감량 프로그램 (타입B)' 'cancelled' ... 'SM-G955N' 'samsung'\n",
      "  'Android8.0.0']\n",
      " ['KVX64CPM' '체중감량 프로그램 (타입 A)' 'cancelled' ... 'SM-N960N' 'samsung'\n",
      "  'Android8.1.0']]\n",
      "[['Y9RY2VSI' 2.0 25.0 ... '미입력' '5회이상' '있음']\n",
      " ['3GTN3S3B' 1.0 26.0 ... '미입력' '5회이상' '있음']\n",
      " ['6B0IG276' 2.0 23.0 ... '마시지않음' '5회이상' '있음']\n",
      " ...\n",
      " ['VWJ4NLZY' 2.0 28.0 ... '미입력' '3~4회' '없음']\n",
      " ['NJ2PR967' 1.0 28.0 ... '미입력' '5회이상' '있음']\n",
      " ['KVX64CPM' 2.0 26.0 ... '미입력' '3~4회' '없음']]\n"
     ]
    }
   ],
   "source": [
    "print(ds_tr.values)\n",
    "print(ds_us.values)\n",
    "\n",
    "#us의 미입력 -> 결측치 처리 Nan으로 바꿔야 함\n"
   ]
  },
  {
   "cell_type": "code",
   "execution_count": 22,
   "metadata": {},
   "outputs": [
    {
     "data": {
      "text/html": [
       "<div>\n",
       "<style scoped>\n",
       "    .dataframe tbody tr th:only-of-type {\n",
       "        vertical-align: middle;\n",
       "    }\n",
       "\n",
       "    .dataframe tbody tr th {\n",
       "        vertical-align: top;\n",
       "    }\n",
       "\n",
       "    .dataframe thead th {\n",
       "        text-align: right;\n",
       "    }\n",
       "</style>\n",
       "<table border=\"1\" class=\"dataframe\">\n",
       "  <thead>\n",
       "    <tr style=\"text-align: right;\">\n",
       "      <th></th>\n",
       "      <th>회원코드</th>\n",
       "      <th>프로그램</th>\n",
       "      <th>상태</th>\n",
       "      <th>프로그램가격</th>\n",
       "      <th>최종결제금액</th>\n",
       "      <th>결제시각</th>\n",
       "      <th>결제유형</th>\n",
       "      <th>채널</th>\n",
       "      <th>보조식품가격</th>\n",
       "      <th>보조식품(추가구매)</th>\n",
       "      <th>기기종류</th>\n",
       "      <th>기기제조사</th>\n",
       "      <th>OSversion</th>\n",
       "    </tr>\n",
       "  </thead>\n",
       "  <tbody>\n",
       "    <tr>\n",
       "      <th>0</th>\n",
       "      <td>Y9RY2VSI</td>\n",
       "      <td>체중감량 프로그램 (타입B)</td>\n",
       "      <td>completed</td>\n",
       "      <td>112500</td>\n",
       "      <td>112500</td>\n",
       "      <td>2017-04-14 오후 7:03:29.976000</td>\n",
       "      <td>Recurring</td>\n",
       "      <td>others</td>\n",
       "      <td>0</td>\n",
       "      <td>구매안함</td>\n",
       "      <td>iPhone</td>\n",
       "      <td>Apple</td>\n",
       "      <td>iOS11.4.1</td>\n",
       "    </tr>\n",
       "    <tr>\n",
       "      <th>1</th>\n",
       "      <td>3GTN3S3B</td>\n",
       "      <td>체중감량 프로그램 (타입B)</td>\n",
       "      <td>completed</td>\n",
       "      <td>44780</td>\n",
       "      <td>44780</td>\n",
       "      <td>2017-05-23 오후 8:53:54.368000</td>\n",
       "      <td>Recurring</td>\n",
       "      <td>others</td>\n",
       "      <td>0</td>\n",
       "      <td>구매안함</td>\n",
       "      <td>SM-N935S</td>\n",
       "      <td>samsung</td>\n",
       "      <td>Android7.0</td>\n",
       "    </tr>\n",
       "  </tbody>\n",
       "</table>\n",
       "</div>"
      ],
      "text/plain": [
       "       회원코드             프로그램         상태  프로그램가격  최종결제금액  \\\n",
       "0  Y9RY2VSI  체중감량 프로그램 (타입B)  completed  112500  112500   \n",
       "1  3GTN3S3B  체중감량 프로그램 (타입B)  completed   44780   44780   \n",
       "\n",
       "                           결제시각       결제유형      채널  보조식품가격 보조식품(추가구매)  \\\n",
       "0  2017-04-14 오후 7:03:29.976000  Recurring  others       0       구매안함   \n",
       "1  2017-05-23 오후 8:53:54.368000  Recurring  others       0       구매안함   \n",
       "\n",
       "       기기종류    기기제조사   OSversion  \n",
       "0    iPhone    Apple   iOS11.4.1  \n",
       "1  SM-N935S  samsung  Android7.0  "
      ]
     },
     "execution_count": 22,
     "metadata": {},
     "output_type": "execute_result"
    }
   ],
   "source": [
    "ds_tr.head(2)"
   ]
  },
  {
   "cell_type": "code",
   "execution_count": 18,
   "metadata": {},
   "outputs": [
    {
     "data": {
      "text/html": [
       "<div>\n",
       "<style scoped>\n",
       "    .dataframe tbody tr th:only-of-type {\n",
       "        vertical-align: middle;\n",
       "    }\n",
       "\n",
       "    .dataframe tbody tr th {\n",
       "        vertical-align: top;\n",
       "    }\n",
       "\n",
       "    .dataframe thead th {\n",
       "        text-align: right;\n",
       "    }\n",
       "</style>\n",
       "<table border=\"1\" class=\"dataframe\">\n",
       "  <thead>\n",
       "    <tr style=\"text-align: right;\">\n",
       "      <th></th>\n",
       "      <th>회원코드</th>\n",
       "      <th>프로그램</th>\n",
       "      <th>상태</th>\n",
       "      <th>프로그램가격</th>\n",
       "      <th>최종결제금액</th>\n",
       "      <th>결제시각</th>\n",
       "      <th>결제유형</th>\n",
       "      <th>채널</th>\n",
       "      <th>보조식품가격</th>\n",
       "      <th>보조식품(추가구매)</th>\n",
       "      <th>기기종류</th>\n",
       "      <th>기기제조사</th>\n",
       "      <th>OSversion</th>\n",
       "    </tr>\n",
       "  </thead>\n",
       "  <tbody>\n",
       "    <tr>\n",
       "      <th>9998</th>\n",
       "      <td>NJ2PR967</td>\n",
       "      <td>체중감량 프로그램 (타입B)</td>\n",
       "      <td>cancelled</td>\n",
       "      <td>112500</td>\n",
       "      <td>129500</td>\n",
       "      <td>2017-04-28 오전 7:05:19.776000</td>\n",
       "      <td>Recurring</td>\n",
       "      <td>facebook</td>\n",
       "      <td>0</td>\n",
       "      <td>구매안함</td>\n",
       "      <td>SM-G955N</td>\n",
       "      <td>samsung</td>\n",
       "      <td>Android8.0.0</td>\n",
       "    </tr>\n",
       "    <tr>\n",
       "      <th>9999</th>\n",
       "      <td>KVX64CPM</td>\n",
       "      <td>체중감량 프로그램 (타입 A)</td>\n",
       "      <td>cancelled</td>\n",
       "      <td>112500</td>\n",
       "      <td>112500</td>\n",
       "      <td>2017-06-02 오전 10:16:34.576000</td>\n",
       "      <td>Recurring</td>\n",
       "      <td>others</td>\n",
       "      <td>0</td>\n",
       "      <td>구매안함</td>\n",
       "      <td>SM-N960N</td>\n",
       "      <td>samsung</td>\n",
       "      <td>Android8.1.0</td>\n",
       "    </tr>\n",
       "  </tbody>\n",
       "</table>\n",
       "</div>"
      ],
      "text/plain": [
       "          회원코드              프로그램         상태  프로그램가격  최종결제금액  \\\n",
       "9998  NJ2PR967   체중감량 프로그램 (타입B)  cancelled  112500  129500   \n",
       "9999  KVX64CPM  체중감량 프로그램 (타입 A)  cancelled  112500  112500   \n",
       "\n",
       "                               결제시각       결제유형        채널  보조식품가격 보조식품(추가구매)  \\\n",
       "9998   2017-04-28 오전 7:05:19.776000  Recurring  facebook       0       구매안함   \n",
       "9999  2017-06-02 오전 10:16:34.576000  Recurring    others       0       구매안함   \n",
       "\n",
       "          기기종류    기기제조사     OSversion  \n",
       "9998  SM-G955N  samsung  Android8.0.0  \n",
       "9999  SM-N960N  samsung  Android8.1.0  "
      ]
     },
     "execution_count": 18,
     "metadata": {},
     "output_type": "execute_result"
    }
   ],
   "source": [
    "ds_tr.tail(2)"
   ]
  },
  {
   "cell_type": "code",
   "execution_count": 21,
   "metadata": {},
   "outputs": [
    {
     "data": {
      "text/html": [
       "<div>\n",
       "<style scoped>\n",
       "    .dataframe tbody tr th:only-of-type {\n",
       "        vertical-align: middle;\n",
       "    }\n",
       "\n",
       "    .dataframe tbody tr th {\n",
       "        vertical-align: top;\n",
       "    }\n",
       "\n",
       "    .dataframe thead th {\n",
       "        text-align: right;\n",
       "    }\n",
       "</style>\n",
       "<table border=\"1\" class=\"dataframe\">\n",
       "  <thead>\n",
       "    <tr style=\"text-align: right;\">\n",
       "      <th></th>\n",
       "      <th>회원코드</th>\n",
       "      <th>성별</th>\n",
       "      <th>연령</th>\n",
       "      <th>신장</th>\n",
       "      <th>회원초기체중</th>\n",
       "      <th>최저체중</th>\n",
       "      <th>목표체중</th>\n",
       "      <th>당뇨여부(설문)</th>\n",
       "      <th>음주여부(설문)</th>\n",
       "      <th>일주일운동횟수(설문)</th>\n",
       "      <th>건강보조식품복용여부(설문)</th>\n",
       "    </tr>\n",
       "  </thead>\n",
       "  <tbody>\n",
       "    <tr>\n",
       "      <th>0</th>\n",
       "      <td>Y9RY2VSI</td>\n",
       "      <td>2.0</td>\n",
       "      <td>25.0</td>\n",
       "      <td>172.0</td>\n",
       "      <td>66.9</td>\n",
       "      <td>65.8</td>\n",
       "      <td>55.0</td>\n",
       "      <td>없음</td>\n",
       "      <td>미입력</td>\n",
       "      <td>5회이상</td>\n",
       "      <td>있음</td>\n",
       "    </tr>\n",
       "    <tr>\n",
       "      <th>1</th>\n",
       "      <td>3GTN3S3B</td>\n",
       "      <td>1.0</td>\n",
       "      <td>26.0</td>\n",
       "      <td>176.0</td>\n",
       "      <td>70.0</td>\n",
       "      <td>NaN</td>\n",
       "      <td>65.0</td>\n",
       "      <td>없음</td>\n",
       "      <td>미입력</td>\n",
       "      <td>5회이상</td>\n",
       "      <td>있음</td>\n",
       "    </tr>\n",
       "  </tbody>\n",
       "</table>\n",
       "</div>"
      ],
      "text/plain": [
       "       회원코드   성별    연령     신장  회원초기체중  최저체중  목표체중 당뇨여부(설문) 음주여부(설문)  \\\n",
       "0  Y9RY2VSI  2.0  25.0  172.0    66.9  65.8  55.0       없음      미입력   \n",
       "1  3GTN3S3B  1.0  26.0  176.0    70.0   NaN  65.0       없음      미입력   \n",
       "\n",
       "  일주일운동횟수(설문) 건강보조식품복용여부(설문)  \n",
       "0        5회이상             있음  \n",
       "1        5회이상             있음  "
      ]
     },
     "execution_count": 21,
     "metadata": {},
     "output_type": "execute_result"
    }
   ],
   "source": [
    "ds_us.head(2)"
   ]
  },
  {
   "cell_type": "code",
   "execution_count": 20,
   "metadata": {},
   "outputs": [
    {
     "data": {
      "text/html": [
       "<div>\n",
       "<style scoped>\n",
       "    .dataframe tbody tr th:only-of-type {\n",
       "        vertical-align: middle;\n",
       "    }\n",
       "\n",
       "    .dataframe tbody tr th {\n",
       "        vertical-align: top;\n",
       "    }\n",
       "\n",
       "    .dataframe thead th {\n",
       "        text-align: right;\n",
       "    }\n",
       "</style>\n",
       "<table border=\"1\" class=\"dataframe\">\n",
       "  <thead>\n",
       "    <tr style=\"text-align: right;\">\n",
       "      <th></th>\n",
       "      <th>회원코드</th>\n",
       "      <th>성별</th>\n",
       "      <th>연령</th>\n",
       "      <th>신장</th>\n",
       "      <th>회원초기체중</th>\n",
       "      <th>최저체중</th>\n",
       "      <th>목표체중</th>\n",
       "      <th>당뇨여부(설문)</th>\n",
       "      <th>음주여부(설문)</th>\n",
       "      <th>일주일운동횟수(설문)</th>\n",
       "      <th>건강보조식품복용여부(설문)</th>\n",
       "    </tr>\n",
       "  </thead>\n",
       "  <tbody>\n",
       "    <tr>\n",
       "      <th>9998</th>\n",
       "      <td>NJ2PR967</td>\n",
       "      <td>1.0</td>\n",
       "      <td>28.0</td>\n",
       "      <td>188.0</td>\n",
       "      <td>110.0</td>\n",
       "      <td>NaN</td>\n",
       "      <td>80.0</td>\n",
       "      <td>없음</td>\n",
       "      <td>미입력</td>\n",
       "      <td>5회이상</td>\n",
       "      <td>있음</td>\n",
       "    </tr>\n",
       "    <tr>\n",
       "      <th>9999</th>\n",
       "      <td>KVX64CPM</td>\n",
       "      <td>2.0</td>\n",
       "      <td>26.0</td>\n",
       "      <td>167.0</td>\n",
       "      <td>57.5</td>\n",
       "      <td>NaN</td>\n",
       "      <td>51.0</td>\n",
       "      <td>없음</td>\n",
       "      <td>미입력</td>\n",
       "      <td>3~4회</td>\n",
       "      <td>없음</td>\n",
       "    </tr>\n",
       "  </tbody>\n",
       "</table>\n",
       "</div>"
      ],
      "text/plain": [
       "          회원코드   성별    연령     신장  회원초기체중  최저체중  목표체중 당뇨여부(설문) 음주여부(설문)  \\\n",
       "9998  NJ2PR967  1.0  28.0  188.0   110.0   NaN  80.0       없음      미입력   \n",
       "9999  KVX64CPM  2.0  26.0  167.0    57.5   NaN  51.0       없음      미입력   \n",
       "\n",
       "     일주일운동횟수(설문) 건강보조식품복용여부(설문)  \n",
       "9998        5회이상             있음  \n",
       "9999        3~4회             없음  "
      ]
     },
     "execution_count": 20,
     "metadata": {},
     "output_type": "execute_result"
    }
   ],
   "source": [
    "ds_us.tail(2)"
   ]
  },
  {
   "cell_type": "code",
   "execution_count": 26,
   "metadata": {},
   "outputs": [
    {
     "data": {
      "text/plain": [
       "0    Recurring\n",
       "1    Recurring\n",
       "2    Recurring\n",
       "3    Recurring\n",
       "4    Recurring\n",
       "Name: 결제유형, dtype: object"
      ]
     },
     "execution_count": 26,
     "metadata": {},
     "output_type": "execute_result"
    }
   ],
   "source": [
    "ds_tr['결제유형'].head()"
   ]
  },
  {
   "cell_type": "code",
   "execution_count": 23,
   "metadata": {},
   "outputs": [
    {
     "name": "stdout",
     "output_type": "stream",
     "text": [
      "(10000, 2)\n"
     ]
    },
    {
     "data": {
      "text/html": [
       "<div>\n",
       "<style scoped>\n",
       "    .dataframe tbody tr th:only-of-type {\n",
       "        vertical-align: middle;\n",
       "    }\n",
       "\n",
       "    .dataframe tbody tr th {\n",
       "        vertical-align: top;\n",
       "    }\n",
       "\n",
       "    .dataframe thead th {\n",
       "        text-align: right;\n",
       "    }\n",
       "</style>\n",
       "<table border=\"1\" class=\"dataframe\">\n",
       "  <thead>\n",
       "    <tr style=\"text-align: right;\">\n",
       "      <th></th>\n",
       "      <th>결제유형</th>\n",
       "      <th>채널</th>\n",
       "    </tr>\n",
       "  </thead>\n",
       "  <tbody>\n",
       "    <tr>\n",
       "      <th>0</th>\n",
       "      <td>Recurring</td>\n",
       "      <td>others</td>\n",
       "    </tr>\n",
       "    <tr>\n",
       "      <th>1</th>\n",
       "      <td>Recurring</td>\n",
       "      <td>others</td>\n",
       "    </tr>\n",
       "    <tr>\n",
       "      <th>2</th>\n",
       "      <td>Recurring</td>\n",
       "      <td>facebook</td>\n",
       "    </tr>\n",
       "    <tr>\n",
       "      <th>3</th>\n",
       "      <td>Recurring</td>\n",
       "      <td>naver</td>\n",
       "    </tr>\n",
       "    <tr>\n",
       "      <th>4</th>\n",
       "      <td>Recurring</td>\n",
       "      <td>facebook</td>\n",
       "    </tr>\n",
       "  </tbody>\n",
       "</table>\n",
       "</div>"
      ],
      "text/plain": [
       "        결제유형        채널\n",
       "0  Recurring    others\n",
       "1  Recurring    others\n",
       "2  Recurring  facebook\n",
       "3  Recurring     naver\n",
       "4  Recurring  facebook"
      ]
     },
     "execution_count": 23,
     "metadata": {},
     "output_type": "execute_result"
    }
   ],
   "source": [
    "a=ds_tr[['결제유형','채널']]\n",
    "print(a.shape)\n",
    "a.head()"
   ]
  },
  {
   "cell_type": "code",
   "execution_count": 35,
   "metadata": {},
   "outputs": [
    {
     "data": {
      "text/plain": [
       "Recurring    10000\n",
       "Name: 결제유형, dtype: int64"
      ]
     },
     "execution_count": 35,
     "metadata": {},
     "output_type": "execute_result"
    }
   ],
   "source": [
    "ds_tr['결제유형'].value_counts()\n",
    "#ds_tr['결제유형']가 모두 Recurring 으로 똑같은 값, 의미가 없음 따라서 삭제 필요\n"
   ]
  },
  {
   "cell_type": "code",
   "execution_count": 34,
   "metadata": {},
   "outputs": [
    {
     "name": "stdout",
     "output_type": "stream",
     "text": [
      "프로그램가격 최대:  177000\n",
      "최종결제금액 최대:  210000\n",
      "보조식품가격 최대:  40000\n",
      "프로그램가격 최소:  44780\n",
      "최종결제금액 최소:  44780\n",
      "보조식품가격 최소:  0\n",
      "--------------------------------------\n",
      "성별 최대:  2.0\n",
      "연령 최대:  173.0\n",
      "신장 최대:  203.2\n",
      "회원초기체중 최대:  153.0\n",
      "최저체중 최대:  152.6\n",
      "목표체중 최대:  137.0\n",
      "성별 최소:  1.0\n",
      "연령 최소:  0.0\n",
      "신장 최소:  -1.0\n",
      "회원초기체중 최소:  30.0\n",
      "최저체중 최소:  5.0\n",
      "목표체중 최소:  -1.0\n"
     ]
    }
   ],
   "source": [
    "print(\"프로그램가격 최대: \", ds_tr['프로그램가격'].max())\n",
    "print(\"최종결제금액 최대: \", ds_tr['최종결제금액'].max())\n",
    "print(\"보조식품가격 최대: \", ds_tr['보조식품가격'].max())\n",
    "print(\"프로그램가격 최소: \", ds_tr['프로그램가격'].min())\n",
    "print(\"최종결제금액 최소: \", ds_tr['최종결제금액'].min())\n",
    "print(\"보조식품가격 최소: \", ds_tr['보조식품가격'].min())\n",
    "print(\"--------------------------------------\")\n",
    "print(\"성별 최대: \",ds_us['성별'].max())\n",
    "print(\"연령 최대: \",ds_us['연령'].max())\n",
    "print(\"신장 최대: \",ds_us['신장'].max())\n",
    "print(\"회원초기체중 최대: \",ds_us['회원초기체중'].max())\n",
    "print(\"최저체중 최대: \",ds_us['최저체중'].max())\n",
    "print(\"목표체중 최대: \",ds_us['목표체중'].max())\n",
    "print(\"성별 최소: \",ds_us['성별'].min())\n",
    "print(\"연령 최소: \",ds_us['연령'].min())\n",
    "print(\"신장 최소: \",ds_us['신장'].min())\n",
    "print(\"회원초기체중 최소: \",ds_us['회원초기체중'].min())\n",
    "print(\"최저체중 최소: \",ds_us['최저체중'].min())\n",
    "print(\"목표체중 최소: \",ds_us['목표체중'].min())\n",
    "\n",
    "#tr에는 max, min에 "
   ]
  },
  {
   "cell_type": "code",
   "execution_count": 40,
   "metadata": {},
   "outputs": [
    {
     "data": {
      "text/plain": [
       "2.0    8846\n",
       "1.0    1023\n",
       "Name: 성별, dtype: int64"
      ]
     },
     "execution_count": 40,
     "metadata": {},
     "output_type": "execute_result"
    }
   ],
   "source": [
    "ds_us['성별'].value_counts()\n",
    "#성별 입력 data에는 2, 1 외에는 없음"
   ]
  },
  {
   "cell_type": "code",
   "execution_count": 52,
   "metadata": {},
   "outputs": [
    {
     "name": "stdout",
     "output_type": "stream",
     "text": [
      "<class 'pandas.core.frame.DataFrame'>\n",
      "Int64Index: 10000 entries, 0 to 9999\n",
      "Data columns (total 23 columns):\n",
      "회원코드              10000 non-null object\n",
      "프로그램              10000 non-null object\n",
      "상태                10000 non-null object\n",
      "프로그램가격            10000 non-null int64\n",
      "최종결제금액            10000 non-null int64\n",
      "결제시각              10000 non-null object\n",
      "결제유형              10000 non-null object\n",
      "채널                10000 non-null object\n",
      "보조식품가격            10000 non-null int64\n",
      "보조식품(추가구매)        10000 non-null object\n",
      "기기종류              10000 non-null object\n",
      "기기제조사             10000 non-null object\n",
      "OSversion         10000 non-null object\n",
      "성별                9869 non-null float64\n",
      "연령                9869 non-null float64\n",
      "신장                9869 non-null float64\n",
      "회원초기체중            9869 non-null float64\n",
      "최저체중              5777 non-null float64\n",
      "목표체중              9869 non-null float64\n",
      "당뇨여부(설문)          9994 non-null object\n",
      "음주여부(설문)          10000 non-null object\n",
      "일주일운동횟수(설문)       10000 non-null object\n",
      "건강보조식품복용여부(설문)    10000 non-null object\n",
      "dtypes: float64(6), int64(3), object(14)\n",
      "memory usage: 1.8+ MB\n"
     ]
    }
   ],
   "source": [
    "ds=pd.merge(ds_tr, ds_us, on='회원코드', how='outer')\n",
    "ds.info()"
   ]
  },
  {
   "cell_type": "markdown",
   "metadata": {},
   "source": [
    "# ㅇ"
   ]
  },
  {
   "cell_type": "code",
   "execution_count": 53,
   "metadata": {},
   "outputs": [
    {
     "data": {
      "text/plain": [
       "성별\n",
       "1.0    175.831965\n",
       "2.0    161.729681\n",
       "Name: 신장, dtype: float64"
      ]
     },
     "execution_count": 53,
     "metadata": {},
     "output_type": "execute_result"
    }
   ],
   "source": [
    "ds.groupby('성별')['신장'].agg('mean')\n",
    "#성별1이 남자인 것으로 추정, 주민등록번호 1과 2"
   ]
  },
  {
   "cell_type": "code",
   "execution_count": null,
   "metadata": {},
   "outputs": [],
   "source": [
    "ds['성별_Nan']=ds[['성별']=='Nan']"
   ]
  },
  {
   "cell_type": "code",
   "execution_count": null,
   "metadata": {},
   "outputs": [],
   "source": [
    "#4개 다 결측치인 경우\n",
    "ds_us["
   ]
  },
  {
   "cell_type": "code",
   "execution_count": null,
   "metadata": {},
   "outputs": [],
   "source": []
  },
  {
   "cell_type": "code",
   "execution_count": null,
   "metadata": {},
   "outputs": [],
   "source": []
  },
  {
   "cell_type": "code",
   "execution_count": null,
   "metadata": {},
   "outputs": [],
   "source": []
  }
 ],
 "metadata": {
  "kernelspec": {
   "display_name": "Python 3",
   "language": "python",
   "name": "python3"
  },
  "language_info": {
   "codemirror_mode": {
    "name": "ipython",
    "version": 3
   },
   "file_extension": ".py",
   "mimetype": "text/x-python",
   "name": "python",
   "nbconvert_exporter": "python",
   "pygments_lexer": "ipython3",
   "version": "3.7.1"
  }
 },
 "nbformat": 4,
 "nbformat_minor": 2
}
