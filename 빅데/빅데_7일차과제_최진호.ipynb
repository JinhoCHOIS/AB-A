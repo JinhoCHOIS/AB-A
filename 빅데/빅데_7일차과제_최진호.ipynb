{
 "cells": [
  {
   "cell_type": "markdown",
   "metadata": {},
   "source": [
    "# 7일차 과제 : PCA\n",
    "# 데이터 표준화 이후, 주성분 분석을 실시하여 2차원(1 vs 2 주성분, 1 vs 3 주성분, …) 산점도를 그려라.(목표변수로 색 구분), + 주성분 naming\n",
    "# 데이터 : 유방암 데이터(변수: 31개, 자료 수: 569개)\n",
    "# -.목표변수(diagnosis, 0: Malignant(악성,212개), 1: Benign(양성,357개)"
   ]
  },
  {
   "cell_type": "code",
   "execution_count": null,
   "metadata": {},
   "outputs": [],
   "source": [
    "import pandas as pd\n",
    "import numpy as np\n",
    "import seaborn as sns\n",
    "import matplotlib\n",
    "import matplotlib.pyplot as plt\n",
    "import statsmodels.api as sm\n",
    "from sklearn.model_selection import train_test_split\n",
    "from sklearn.decomposition import PCA\n",
    "from scipy import stats\n",
    "from sklearn.preprocessing import StandardScaler\n",
    "from sklearn.preprocessing import scale"
   ]
  },
  {
   "cell_type": "code",
   "execution_count": null,
   "metadata": {},
   "outputs": [],
   "source": [
    "ds_supervisor=pd.read_csv('./Downloads/week4day1/직무능력평가.csv',engine='python')\n",
    "ds_supervisor_x=ds_supervisor.drop(\"EVAL\",axis=1)\n",
    "ds_supervisor_y=ds_supervisor[\"EVAL\"]\n",
    "ds_supervisor_x.head()\n"
   ]
  },
  {
   "cell_type": "code",
   "execution_count": null,
   "metadata": {},
   "outputs": [],
   "source": [
    "ds_supervisor_x.corr()"
   ]
  },
  {
   "cell_type": "code",
   "execution_count": null,
   "metadata": {},
   "outputs": [],
   "source": [
    "sns.pairplot(ds_supervisor_x)"
   ]
  },
  {
   "cell_type": "code",
   "execution_count": null,
   "metadata": {},
   "outputs": [],
   "source": [
    "scaler=StandardScaler()\n",
    "ds_supervisor_x_scaled=scaler.fit_transform(ds_supervisor_x)\n",
    "print(\"Scaled Data:\\n {}\".format(ds_supervisor_x_scaled[:5].round(3)))\n",
    "print(\"Shape:\\n {}\".format(ds_supervisor_x_scaled.shape))"
   ]
  },
  {
   "cell_type": "code",
   "execution_count": null,
   "metadata": {},
   "outputs": [],
   "source": [
    "pca=PCA(n_components=6)\n",
    "x_pca=pca.fit_transform(ds_supervisor_x_scaled)\n",
    "print(\"PCA Data :\\n {}\".format(x_pca[:5]))\n",
    "print(\"Shape :\\n {}\".format(x_pca.shape))\n",
    "ds_x_pca=pd.DataFrame(x_pca,columns=[\"Prin1\",\"Prin2\",\"Prin3\",\"Prin4\",\"Prin5\",\"Prin6\"])\n"
   ]
  },
  {
   "cell_type": "code",
   "execution_count": null,
   "metadata": {},
   "outputs": [],
   "source": [
    "ds_pca=pd.DataFrame()\n",
    "ds_pca[\"Prin\"]=[I for I in range(1,7)]\n",
    "ds_pca[\"EigenValues\"]=pca.explained_variance_ ## Eigen Values\n",
    "ds_pca[\"EigenValueRatio\"]=pca.explained_variance_ratio_ ## Eigen Value ratio\n",
    "ds_pca[\"CumsumEigenValueRatio\"]=np.cumsum(pca.explained_variance_ratio_)\n",
    "ds_pca.round(3)"
   ]
  },
  {
   "cell_type": "code",
   "execution_count": null,
   "metadata": {},
   "outputs": [],
   "source": [
    "ds_feature=pd.DataFrame({\"Feature\":ds_supervisor_x.columns})\n",
    "ds_eigenvectors=pd.concat([ds_feature,\n",
    "    pd.DataFrame(pca.components_, columns=[\"Prin1\",\"Prin2\",\"Prin3\",\"Prin4\",\"Prin5\",\"Prin6\"])],axis=1)\n",
    "ds_eigenvectors"
   ]
  },
  {
   "cell_type": "code",
   "execution_count": null,
   "metadata": {},
   "outputs": [],
   "source": [
    "plt.plot(ds_pca[\"Prin\"], ds_pca[\"EigenValueRatio\"], label=\"Ratio\")\n",
    "plt.plot(ds_pca[\"Prin\"], ds_pca[\"CumsumEigenValueRatio\"], label=\"Cumsum Ratio\")\n",
    "plt.ylabel(\"Eigen Value ratio\")\n",
    "plt.xlabel(\"Prin\")\n",
    "plt.legend(loc=\"best\")\n",
    "ds_pca"
   ]
  },
  {
   "cell_type": "code",
   "execution_count": null,
   "metadata": {},
   "outputs": [],
   "source": [
    "sns.pairplot(ds_x_pca)\n",
    "ds_x_pca.corr().round(3)"
   ]
  },
  {
   "cell_type": "code",
   "execution_count": null,
   "metadata": {},
   "outputs": [],
   "source": [
    "x_var=[\"Prin1\",\"Prin2\"]\n",
    "ds_x_pca_const=sm.add_constant(ds_x_pca[x_var])\n",
    "X_train, X_test, y_train, y_test=train_test_split(ds_x_pca_const, ds_supervisor_y,\n",
    "                                                 test_size=0.3, random_state=2222)\n",
    "reg_model=sm.OLS(y_train, X_train)\n",
    "reg_model=reg_model.fit()\n",
    "print(reg_model.summary())\n",
    "\n",
    "#분석자료수 22\n",
    "#잔차자유도 18\n",
    "#모델자유도 2\n",
    "\n",
    "#ANOVA의 p값이 유의수준 0.05보다 작으므로 모델 유의\n",
    "\n",
    "#설명력 0.65\n",
    "\n",
    "#회귀계수 검정\n",
    "#Prin2의 p값이 0.05보다는 크므로 유의수준 0.05에서 유의하지는 않지만\n",
    "#유의수준이 0.1이라면 해당 회귀계수는 유의\n"
   ]
  },
  {
   "cell_type": "code",
   "execution_count": null,
   "metadata": {},
   "outputs": [],
   "source": []
  },
  {
   "cell_type": "code",
   "execution_count": null,
   "metadata": {},
   "outputs": [],
   "source": []
  }
 ],
 "metadata": {
  "kernelspec": {
   "display_name": "Python 3",
   "language": "python",
   "name": "python3"
  },
  "language_info": {
   "codemirror_mode": {
    "name": "ipython",
    "version": 3
   },
   "file_extension": ".py",
   "mimetype": "text/x-python",
   "name": "python",
   "nbconvert_exporter": "python",
   "pygments_lexer": "ipython3",
   "version": "3.7.1"
  }
 },
 "nbformat": 4,
 "nbformat_minor": 2
}
