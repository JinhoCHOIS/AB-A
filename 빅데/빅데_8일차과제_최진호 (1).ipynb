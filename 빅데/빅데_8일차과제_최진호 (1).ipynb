{
 "cells": [
  {
   "cell_type": "markdown",
   "metadata": {},
   "source": [
    "# 8일차 과제 : KNN 최근접이웃\n",
    "\n",
    " k(이웃 수)가 3~30까지 변화할 때까지 정확도(accuracy)의 변화를 그림으로 나타내고 최적의 이웃 수를 산출하라. \n",
    " \n",
    " 데이터 : 유방암 데이터(변수: 31개, 자료 수: 569개)\n",
    " \n",
    " -.목표변수(diagnosis, 0: Malignant(악성,212개), 1: Benign(양성,357개)"
   ]
  },
  {
   "cell_type": "code",
   "execution_count": 13,
   "metadata": {},
   "outputs": [],
   "source": [
    "import pandas as pd\n",
    "import numpy as np\n",
    "from sklearn.neighbors import KNeighborsClassifier\n",
    "from sklearn.preprocessing import scale\n",
    "from sklearn.model_selection import train_test_split\n",
    "from sklearn.model_selection import cross_val_score, cross_val_predict\n",
    "from sklearn.metrics import confusion_matrix, classification_report, accuracy_score\n",
    "import seaborn as sns\n",
    "import matplotlib\n",
    "import matplotlib.pyplot as plt\n",
    "import os\n",
    "\n",
    "%matplotlib inline\n",
    "matplotlib.rc('font', family='NanumBarunGothic')\n",
    "plt.rcParams['axes.unicode_minus']=False"
   ]
  },
  {
   "cell_type": "code",
   "execution_count": 11,
   "metadata": {},
   "outputs": [
    {
     "name": "stdout",
     "output_type": "stream",
     "text": [
      "<class 'pandas.core.frame.DataFrame'>\n",
      "RangeIndex: 569 entries, 0 to 568\n",
      "Data columns (total 31 columns):\n",
      "diagnosis                  569 non-null int64\n",
      "mean radius                569 non-null float64\n",
      "mean texture               569 non-null float64\n",
      "mean perimeter             569 non-null float64\n",
      "mean area                  569 non-null float64\n",
      "mean smoothness            569 non-null float64\n",
      "mean compactness           569 non-null float64\n",
      "mean concavity             569 non-null float64\n",
      "mean concave points        569 non-null float64\n",
      "mean symmetry              569 non-null float64\n",
      "mean fractal dimension     569 non-null float64\n",
      "radius error               569 non-null float64\n",
      "texture error              569 non-null float64\n",
      "perimeter error            569 non-null float64\n",
      "area error                 569 non-null float64\n",
      "smoothness error           569 non-null float64\n",
      "compactness error          569 non-null float64\n",
      "concavity error            569 non-null float64\n",
      "concave points error       569 non-null float64\n",
      "symmetry error             569 non-null float64\n",
      "fractal dimension error    569 non-null float64\n",
      "worst radius               569 non-null float64\n",
      "worst texture              569 non-null float64\n",
      "worst perimeter            569 non-null float64\n",
      "worst area                 569 non-null float64\n",
      "worst smoothness           569 non-null float64\n",
      "worst compactness          569 non-null float64\n",
      "worst concavity            569 non-null float64\n",
      "worst concave points       569 non-null float64\n",
      "worst symmetry             569 non-null float64\n",
      "worst fractal dimension    569 non-null float64\n",
      "dtypes: float64(30), int64(1)\n",
      "memory usage: 137.9 KB\n"
     ]
    }
   ],
   "source": [
    "ds_bc = pd.read_csv('/home/pirl/Downloads/week4day1/유방암.csv',engine='python')\n",
    "ds_bc.info()\n",
    "#설명변수 X_i는 30개\n",
    "#종속변수 Y는 이산형(1은 양성, 0은 악성)이지만 실제 분석에서는 연속형으로 처리\n",
    "#결측치는 없음"
   ]
  },
  {
   "cell_type": "code",
   "execution_count": 43,
   "metadata": {},
   "outputs": [
    {
     "name": "stdout",
     "output_type": "stream",
     "text": [
      "<class 'pandas.core.frame.DataFrame'>\n",
      "Int64Index: 494 entries, 1 to 568\n",
      "Data columns (total 31 columns):\n",
      "diagnosis                  494 non-null int64\n",
      "mean radius                494 non-null float64\n",
      "mean texture               494 non-null float64\n",
      "mean perimeter             494 non-null float64\n",
      "mean area                  494 non-null float64\n",
      "mean smoothness            494 non-null float64\n",
      "mean compactness           494 non-null float64\n",
      "mean concavity             494 non-null float64\n",
      "mean concave points        494 non-null float64\n",
      "mean symmetry              494 non-null float64\n",
      "mean fractal dimension     494 non-null float64\n",
      "radius error               494 non-null float64\n",
      "texture error              494 non-null float64\n",
      "perimeter error            494 non-null float64\n",
      "area error                 494 non-null float64\n",
      "smoothness error           494 non-null float64\n",
      "compactness error          494 non-null float64\n",
      "concavity error            494 non-null float64\n",
      "concave points error       494 non-null float64\n",
      "symmetry error             494 non-null float64\n",
      "fractal dimension error    494 non-null float64\n",
      "worst radius               494 non-null float64\n",
      "worst texture              494 non-null float64\n",
      "worst perimeter            494 non-null float64\n",
      "worst area                 494 non-null float64\n",
      "worst smoothness           494 non-null float64\n",
      "worst compactness          494 non-null float64\n",
      "worst concavity            494 non-null float64\n",
      "worst concave points       494 non-null float64\n",
      "worst symmetry             494 non-null float64\n",
      "worst fractal dimension    494 non-null float64\n",
      "dtypes: float64(30), int64(1)\n",
      "memory usage: 123.5 KB\n"
     ]
    }
   ],
   "source": [
    "def remove_outlier_std(df):\n",
    "    for i in range(0, len(df.iloc[1])):\n",
    "        df = df[(np.abs(df.iloc[:,i] - df.iloc[:,i].mean()) < (3.6*df.iloc[:,i].std()))]\n",
    "    return df\n",
    "#3.6sigma를 벗어나는 data제거 함수\n",
    "#k의 개수에 따라 이상치 영향이 다르나 현재 k에 대한 정보를 모름\n",
    "#494개로 이상치 제거\n",
    "#data의 분포가 전반적으로 UCL을 초과하는 경향이 강하고\n",
    "#모델의 일반성, 범용성을 위해 이상치 제거 실시\n",
    "#이상치 미제거했을 때 보다 더 좋은 모델 결과가 나옴\n",
    "ds_bc_z=remove_outlier_std(ds_bc)\n",
    "ds_bc_z.info()\n"
   ]
  },
  {
   "cell_type": "markdown",
   "metadata": {},
   "source": [
    "# 데이터 분할 7 : 3"
   ]
  },
  {
   "cell_type": "code",
   "execution_count": 38,
   "metadata": {},
   "outputs": [
    {
     "name": "stdout",
     "output_type": "stream",
     "text": [
      "train data X size: (345, 30)\n",
      "train data Y size: (345,)\n",
      "test data X size: (149, 30)\n",
      "test data Y size: (149,)\n"
     ]
    }
   ],
   "source": [
    "ds_bc_y = ds_bc_z[\"diagnosis\"]\n",
    "ds_bc_x = ds_bc_z.drop(\"diagnosis\", axis = 1, inplace=False)\n",
    "\n",
    "train_x, test_x, train_y, test_y =\\\n",
    "train_test_split(ds_bc_x, ds_bc_y,test_size=0.3, random_state = 1234)\n",
    "\n",
    "print(\"train data X size: {}\".format(train_x.shape))\n",
    "print(\"train data Y size: {}\".format(train_y.shape))\n",
    "print(\"test data X size: {}\".format(test_x.shape))\n",
    "print(\"test data Y size: {}\".format(test_y.shape))"
   ]
  },
  {
   "cell_type": "code",
   "execution_count": 39,
   "metadata": {},
   "outputs": [
    {
     "data": {
      "text/plain": [
       "KNeighborsClassifier(algorithm='auto', leaf_size=30, metric='minkowski',\n",
       "           metric_params=None, n_jobs=None, n_neighbors=5, p=2,\n",
       "           weights='uniform')"
      ]
     },
     "execution_count": 39,
     "metadata": {},
     "output_type": "execute_result"
    }
   ],
   "source": [
    "knn_uncustomized=KNeighborsClassifier()\n",
    "knn_uncustomized"
   ]
  },
  {
   "cell_type": "code",
   "execution_count": 40,
   "metadata": {},
   "outputs": [
    {
     "name": "stdout",
     "output_type": "stream",
     "text": [
      "predict test set:[0, 0, 0, 0, 1, 0, 0, 0, 0, 0]\n",
      "test set label:[0, 0, 0, 0, 1, 0, 0, 0, 1, 0]\n",
      "accuracy:0.933\n"
     ]
    }
   ],
   "source": [
    "knn_uncustomized.fit(train_x,train_y)\n",
    "y_pred=knn_uncustomized.predict(test_x)\n",
    "print(\"predict test set:{}\".format(y_pred.tolist()[:10]))\n",
    "print(\"test set label:{}\".format(test_y.tolist()[:10]))\n",
    "print(\"accuracy:{0:.3f}\".format(knn_uncustomized.score(test_x,test_y)))"
   ]
  },
  {
   "cell_type": "markdown",
   "metadata": {},
   "source": [
    "# KNN 디폴트 test 정확도: 0.936"
   ]
  },
  {
   "cell_type": "markdown",
   "metadata": {},
   "source": [
    "# k=#neighbors 3~30 변화에 따른 정확도 변화"
   ]
  },
  {
   "cell_type": "code",
   "execution_count": 41,
   "metadata": {},
   "outputs": [
    {
     "data": {
      "text/html": [
       "<div>\n",
       "<style scoped>\n",
       "    .dataframe tbody tr th:only-of-type {\n",
       "        vertical-align: middle;\n",
       "    }\n",
       "\n",
       "    .dataframe tbody tr th {\n",
       "        vertical-align: top;\n",
       "    }\n",
       "\n",
       "    .dataframe thead th {\n",
       "        text-align: right;\n",
       "    }\n",
       "</style>\n",
       "<table border=\"1\" class=\"dataframe\">\n",
       "  <thead>\n",
       "    <tr style=\"text-align: right;\">\n",
       "      <th></th>\n",
       "      <th>Neighbors</th>\n",
       "      <th>TrainAccuracy</th>\n",
       "      <th>TestAccuracy</th>\n",
       "    </tr>\n",
       "  </thead>\n",
       "  <tbody>\n",
       "    <tr>\n",
       "      <th>0</th>\n",
       "      <td>3</td>\n",
       "      <td>0.971014</td>\n",
       "      <td>0.919463</td>\n",
       "    </tr>\n",
       "    <tr>\n",
       "      <th>1</th>\n",
       "      <td>4</td>\n",
       "      <td>0.947826</td>\n",
       "      <td>0.919463</td>\n",
       "    </tr>\n",
       "    <tr>\n",
       "      <th>2</th>\n",
       "      <td>5</td>\n",
       "      <td>0.942029</td>\n",
       "      <td>0.932886</td>\n",
       "    </tr>\n",
       "    <tr>\n",
       "      <th>3</th>\n",
       "      <td>6</td>\n",
       "      <td>0.936232</td>\n",
       "      <td>0.946309</td>\n",
       "    </tr>\n",
       "    <tr>\n",
       "      <th>4</th>\n",
       "      <td>7</td>\n",
       "      <td>0.936232</td>\n",
       "      <td>0.932886</td>\n",
       "    </tr>\n",
       "    <tr>\n",
       "      <th>5</th>\n",
       "      <td>8</td>\n",
       "      <td>0.944928</td>\n",
       "      <td>0.953020</td>\n",
       "    </tr>\n",
       "    <tr>\n",
       "      <th>6</th>\n",
       "      <td>9</td>\n",
       "      <td>0.944928</td>\n",
       "      <td>0.953020</td>\n",
       "    </tr>\n",
       "    <tr>\n",
       "      <th>7</th>\n",
       "      <td>10</td>\n",
       "      <td>0.939130</td>\n",
       "      <td>0.959732</td>\n",
       "    </tr>\n",
       "    <tr>\n",
       "      <th>8</th>\n",
       "      <td>11</td>\n",
       "      <td>0.939130</td>\n",
       "      <td>0.966443</td>\n",
       "    </tr>\n",
       "    <tr>\n",
       "      <th>9</th>\n",
       "      <td>12</td>\n",
       "      <td>0.936232</td>\n",
       "      <td>0.959732</td>\n",
       "    </tr>\n",
       "    <tr>\n",
       "      <th>10</th>\n",
       "      <td>13</td>\n",
       "      <td>0.936232</td>\n",
       "      <td>0.966443</td>\n",
       "    </tr>\n",
       "    <tr>\n",
       "      <th>11</th>\n",
       "      <td>14</td>\n",
       "      <td>0.924638</td>\n",
       "      <td>0.973154</td>\n",
       "    </tr>\n",
       "    <tr>\n",
       "      <th>12</th>\n",
       "      <td>15</td>\n",
       "      <td>0.924638</td>\n",
       "      <td>0.966443</td>\n",
       "    </tr>\n",
       "    <tr>\n",
       "      <th>13</th>\n",
       "      <td>16</td>\n",
       "      <td>0.924638</td>\n",
       "      <td>0.966443</td>\n",
       "    </tr>\n",
       "    <tr>\n",
       "      <th>14</th>\n",
       "      <td>17</td>\n",
       "      <td>0.930435</td>\n",
       "      <td>0.966443</td>\n",
       "    </tr>\n",
       "    <tr>\n",
       "      <th>15</th>\n",
       "      <td>18</td>\n",
       "      <td>0.927536</td>\n",
       "      <td>0.953020</td>\n",
       "    </tr>\n",
       "    <tr>\n",
       "      <th>16</th>\n",
       "      <td>19</td>\n",
       "      <td>0.930435</td>\n",
       "      <td>0.953020</td>\n",
       "    </tr>\n",
       "    <tr>\n",
       "      <th>17</th>\n",
       "      <td>20</td>\n",
       "      <td>0.927536</td>\n",
       "      <td>0.946309</td>\n",
       "    </tr>\n",
       "    <tr>\n",
       "      <th>18</th>\n",
       "      <td>21</td>\n",
       "      <td>0.930435</td>\n",
       "      <td>0.953020</td>\n",
       "    </tr>\n",
       "    <tr>\n",
       "      <th>19</th>\n",
       "      <td>22</td>\n",
       "      <td>0.927536</td>\n",
       "      <td>0.939597</td>\n",
       "    </tr>\n",
       "    <tr>\n",
       "      <th>20</th>\n",
       "      <td>23</td>\n",
       "      <td>0.924638</td>\n",
       "      <td>0.939597</td>\n",
       "    </tr>\n",
       "    <tr>\n",
       "      <th>21</th>\n",
       "      <td>24</td>\n",
       "      <td>0.924638</td>\n",
       "      <td>0.946309</td>\n",
       "    </tr>\n",
       "    <tr>\n",
       "      <th>22</th>\n",
       "      <td>25</td>\n",
       "      <td>0.924638</td>\n",
       "      <td>0.939597</td>\n",
       "    </tr>\n",
       "    <tr>\n",
       "      <th>23</th>\n",
       "      <td>26</td>\n",
       "      <td>0.927536</td>\n",
       "      <td>0.946309</td>\n",
       "    </tr>\n",
       "    <tr>\n",
       "      <th>24</th>\n",
       "      <td>27</td>\n",
       "      <td>0.924638</td>\n",
       "      <td>0.939597</td>\n",
       "    </tr>\n",
       "    <tr>\n",
       "      <th>25</th>\n",
       "      <td>28</td>\n",
       "      <td>0.921739</td>\n",
       "      <td>0.939597</td>\n",
       "    </tr>\n",
       "    <tr>\n",
       "      <th>26</th>\n",
       "      <td>29</td>\n",
       "      <td>0.924638</td>\n",
       "      <td>0.939597</td>\n",
       "    </tr>\n",
       "    <tr>\n",
       "      <th>27</th>\n",
       "      <td>30</td>\n",
       "      <td>0.927536</td>\n",
       "      <td>0.946309</td>\n",
       "    </tr>\n",
       "  </tbody>\n",
       "</table>\n",
       "</div>"
      ],
      "text/plain": [
       "    Neighbors  TrainAccuracy  TestAccuracy\n",
       "0           3       0.971014      0.919463\n",
       "1           4       0.947826      0.919463\n",
       "2           5       0.942029      0.932886\n",
       "3           6       0.936232      0.946309\n",
       "4           7       0.936232      0.932886\n",
       "5           8       0.944928      0.953020\n",
       "6           9       0.944928      0.953020\n",
       "7          10       0.939130      0.959732\n",
       "8          11       0.939130      0.966443\n",
       "9          12       0.936232      0.959732\n",
       "10         13       0.936232      0.966443\n",
       "11         14       0.924638      0.973154\n",
       "12         15       0.924638      0.966443\n",
       "13         16       0.924638      0.966443\n",
       "14         17       0.930435      0.966443\n",
       "15         18       0.927536      0.953020\n",
       "16         19       0.930435      0.953020\n",
       "17         20       0.927536      0.946309\n",
       "18         21       0.930435      0.953020\n",
       "19         22       0.927536      0.939597\n",
       "20         23       0.924638      0.939597\n",
       "21         24       0.924638      0.946309\n",
       "22         25       0.924638      0.939597\n",
       "23         26       0.927536      0.946309\n",
       "24         27       0.924638      0.939597\n",
       "25         28       0.921739      0.939597\n",
       "26         29       0.924638      0.939597\n",
       "27         30       0.927536      0.946309"
      ]
     },
     "execution_count": 41,
     "metadata": {},
     "output_type": "execute_result"
    }
   ],
   "source": [
    "max_n_neighbors=28\n",
    "para_n_neighbors=[i+3 for i in range(max_n_neighbors)]\n",
    "train_accuracy=[]\n",
    "test_accuracy=[]\n",
    "\n",
    "for n_neighbors in para_n_neighbors:\n",
    "    clf=KNeighborsClassifier(n_neighbors=n_neighbors)\n",
    "    clf.fit(train_x, train_y)\n",
    "    train_accuracy.append(clf.score(train_x,train_y))\n",
    "    test_accuracy.append(clf.score(test_x,test_y))\n",
    "    \n",
    "ds_neighbors=pd.DataFrame()\n",
    "ds_neighbors[\"Neighbors\"]=para_n_neighbors\n",
    "ds_neighbors[\"TrainAccuracy\"]=train_accuracy\n",
    "ds_neighbors[\"TestAccuracy\"]=test_accuracy\n",
    "ds_neighbors"
   ]
  },
  {
   "cell_type": "code",
   "execution_count": 34,
   "metadata": {},
   "outputs": [
    {
     "data": {
      "image/png": "[encoded data removed]",
      "text/plain": [
       "<Figure size 432x288 with 1 Axes>"
      ]
     },
     "metadata": {
      "needs_background": "light"
     },
     "output_type": "display_data"
    }
   ],
   "source": [
    "ds_neighbors.set_index(\"Neighbors\", inplace=False).plot()\n",
    "plt.grid()\n",
    "plt.title('Accuracy Scores for Values of k of k-Nearest-Neighbors')\n",
    "plt.ylabel('Accuracy Score')\n",
    "plt.show()"
   ]
  },
  {
   "cell_type": "markdown",
   "metadata": {},
   "source": [
    "# 대체로 k:이웃 수가 14까지는 test 정확도가 증가\n",
    "# 그 이후에는 정확도가 떨어지는 경향\n",
    "# k=14정도에서 test 정확도가 제일 높음\n",
    "# k=14로 그렇게 낮지 않아서 일반성을 어느 정도 보유"
   ]
  },
  {
   "cell_type": "markdown",
   "metadata": {},
   "source": [
    "# --------------------------------------------------------\n",
    "#  최적 모델의 score를 확인하는 함수"
   ]
  },
  {
   "cell_type": "code",
   "execution_count": 35,
   "metadata": {},
   "outputs": [],
   "source": [
    "def score(classifier, X_train, y_train, X_test, y_test, train = True):\n",
    "    labels = sorted(y_train.unique())\n",
    "    if train == True:\n",
    "        y_pred = classifier.predict(X_train)\n",
    "        print(\"Training result:\\n\")\n",
    "        print(\"Training Accuracy Score: {0:.4f}\\n\".format(accuracy_score(y_train, y_pred)))\n",
    "        print(\"Classification Report:\\n{}\\n\".format(classification_report(y_train, y_pred)))\n",
    "        print(\"Confusion Matrix:\\n{}\\n\".format(confusion_matrix(y_train, y_pred)))\n",
    "        res = cross_val_score(classifier, X_train, y_train, cv = 10, n_jobs= -1, scoring =\"accuracy\")\n",
    "        print(\"Training Average Accuracy:\\t{0:.4f}\\n\".format(res.mean()))\n",
    "        print(\"Standard Deviation:\\t{0:.4f}\".format(res.std()))\n",
    "    elif train == False:\n",
    "        y_pred = classifier.predict(X_test)\n",
    "        print(\"Test result:\\n\")\n",
    "        print(\"Accuracy Score: {0:.4f}\\n\".format(accuracy_score(y_test, y_pred)))\n",
    "        print(\"Classification Report:\\n{}\\n\".format(classification_report(y_test, y_pred)))\n",
    "        print(\"Confusion Matrix:\\n\")\n",
    "        cm = pd.DataFrame(confusion_matrix(y_test, y_pred, labels = labels),\n",
    "                          columns=labels, index=labels)\n",
    "        sns.set_context('talk')\n",
    "        ax = sns.heatmap(cm, annot=True, fmt='d', xticklabels=True, yticklabels=True, cmap='Blues')\n",
    "        ax.set_xticklabels(labels)\n",
    "        ax.set_yticklabels(labels[::-1])\n",
    "        ax.set_ylabel('Prediction')\n",
    "        ax.set_xlabel('Ground Truth')"
   ]
  },
  {
   "cell_type": "code",
   "execution_count": 42,
   "metadata": {},
   "outputs": [
    {
     "name": "stdout",
     "output_type": "stream",
     "text": [
      "##############################Training##############################\n",
      "Training result:\n",
      "\n",
      "Training Accuracy Score: 0.9246\n",
      "\n",
      "Classification Report:\n",
      "              precision    recall  f1-score   support\n",
      "\n",
      "           0       0.93      0.97      0.95       238\n",
      "           1       0.92      0.83      0.87       107\n",
      "\n",
      "   micro avg       0.92      0.92      0.92       345\n",
      "   macro avg       0.92      0.90      0.91       345\n",
      "weighted avg       0.92      0.92      0.92       345\n",
      "\n",
      "\n",
      "Confusion Matrix:\n",
      "[[230   8]\n",
      " [ 18  89]]\n",
      "\n",
      "Training Average Accuracy:\t0.9247\n",
      "\n",
      "Standard Deviation:\t0.0228\n",
      "################################Test################################\n",
      "Test result:\n",
      "\n",
      "Accuracy Score: 0.9732\n",
      "\n",
      "Classification Report:\n",
      "              precision    recall  f1-score   support\n",
      "\n",
      "           0       0.96      1.00      0.98        99\n",
      "           1       1.00      0.92      0.96        50\n",
      "\n",
      "   micro avg       0.97      0.97      0.97       149\n",
      "   macro avg       0.98      0.96      0.97       149\n",
      "weighted avg       0.97      0.97      0.97       149\n",
      "\n",
      "\n",
      "Confusion Matrix:\n",
      "\n"
     ]
    },
    {
     "data": {
      "image/png": "[encoded data removed]",
      "text/plain": [
       "<Figure size 432x288 with 2 Axes>"
      ]
     },
     "metadata": {
      "needs_background": "light"
     },
     "output_type": "display_data"
    }
   ],
   "source": [
    "knn = KNeighborsClassifier(n_neighbors = 14)\n",
    "knn.fit(train_x, train_y)\n",
    "print(\"##############################Training##############################\")\n",
    "score(knn ,train_x,train_y,test_x,test_y, train = True)\n",
    "print(\"################################Test################################\")\n",
    "score(knn ,train_x,train_y,test_x,test_y, train = False)"
   ]
  },
  {
   "cell_type": "markdown",
   "metadata": {},
   "source": [
    "# 최적의 이웃 수 k=14을 기준으로 모델을 만듦\n",
    "# test 정확도는 0.9732\n",
    "# confusion matrix에서는 4개의 데이터가 틀림\n",
    "# 그러나 너무 높은 정확도라 과적합 가능성이 높음"
   ]
  }
 ],
 "metadata": {
  "kernelspec": {
   "display_name": "Python 3",
   "language": "python",
   "name": "python3"
  },
  "language_info": {
   "codemirror_mode": {
    "name": "ipython",
    "version": 3
   },
   "file_extension": ".py",
   "mimetype": "text/x-python",
   "name": "python",
   "nbconvert_exporter": "python",
   "pygments_lexer": "ipython3",
   "version": "3.7.1"
  }
 },
 "nbformat": 4,
 "nbformat_minor": 2
}
